{
 "cells": [
  {
   "cell_type": "markdown",
   "id": "589d0f2d",
   "metadata": {},
   "source": [
    "# Replication: Zeighami *et al*, 2019"
   ]
  },
  {
   "cell_type": "markdown",
   "id": "6ffe77a0",
   "metadata": {},
   "source": [
    "## Introduction"
   ]
  },
  {
   "cell_type": "markdown",
   "id": "4974727a",
   "metadata": {},
   "source": [
    "This notebook attempts to reproduce the following paper (which uses the [PPMI](http://ppmi-info.org) dataset):\n",
    "\n",
    "<div class=\"alert alert-block alert-success\">\n",
    "Zeighami, Yashar, et al. <a href=https://doi.org/10.1016/j.nicl.2019.101986>Assessment of a prognostic MRI biomarker in early de novo Parkinson's disease.</a> NeuroImage: Clinical 24 (2019): 101986.\n",
    "</div>"
   ]
  },
  {
   "cell_type": "markdown",
   "id": "9ab29940",
   "metadata": {
    "slideshow": {
     "slide_type": "fragment"
    }
   },
   "source": [
    "This study used longitudinal MRI data from 362 patients with de novo PD (i.e., patients not yet taking any medication) and 112 healthy controls. Subjects were split into a main cohort with 3T MRI scans (N=222) and a validation cohort with 1.5T MRI scans (N=140). \n",
    "\n",
    "The demographics parameters for the PD patients were as follows (table extracted from the paper):\n",
    "\n",
    "<img src=\"images/demographics.png\" width=800/>"
   ]
  },
  {
   "cell_type": "markdown",
   "id": "a51402f7",
   "metadata": {},
   "source": [
    "This paper used a method introduced in [Zeighami *et al* (2015)](https://doi.org/10.7554/eLife.08440) consisting of applying Independent Component Analysis (ICA) to Deformation-Based Morphometry (DBM) maps to identify an atrophy network related to PD. The main result is atrophy measures from this PD network is significantly correlated with disease progression as measured by differences in clinical and/or cognitive scores between the baseline visit and the most recent follow-up visit. This is illustrated in the top row of the following table (extracted from the paper):\n",
    "\n",
    "<img src=\"images/results_correlations.png\" width=600/>"
   ]
  },
  {
   "cell_type": "markdown",
   "id": "ac976672",
   "metadata": {},
   "source": [
    "The authors also showed that the PD-related atrophy score can be used to identify patients who have a 1.5 standard deviation change in the global composite outcome (a measure they defined) between baseline and follow-up visits. The PD-related atrophy biomarker achieved an area under the receiver operating characteristics curve (ROC) of 0.63, out-performing other biomarkers, as shown in the figure below (extracted from the paper):\n",
    "\n",
    "<img src=\"images/results_AUC.png\" width=500/>"
   ]
  },
  {
   "cell_type": "markdown",
   "id": "f95f073d",
   "metadata": {},
   "source": [
    "The remainder of this notebook is an attempt to reproduce these results using the same PPMI dataset."
   ]
  },
  {
   "cell_type": "markdown",
   "id": "814499f3",
   "metadata": {},
   "source": [
    "## Initial setup"
   ]
  },
  {
   "cell_type": "markdown",
   "id": "d651b5b5",
   "metadata": {},
   "source": [
    "We first initialize the notebook cache and install dependencies:"
   ]
  },
  {
   "cell_type": "code",
   "execution_count": 1,
   "id": "02299e19-57c8-4cfe-9419-4dedd9cb1941",
   "metadata": {},
   "outputs": [
    {
     "name": "stdout",
     "output_type": "stream",
     "text": [
      "removing link inputs\n",
      "removing link outputs\n",
      "Installing notebook dependencies (see log in install.log)... \n",
      "This notebook was run on 2022-09-22 19:43:48 UTC +0000\n"
     ]
    },
    {
     "data": {
      "text/html": [
       "<script>\n",
       "    code_show = true;\n",
       "    function code_toggle() {\n",
       "        if (code_show) {\n",
       "            $(\"div.input\").hide();\n",
       "        } else {\n",
       "            $(\"div.input\").show();\n",
       "        }\n",
       "        code_show = !code_show\n",
       "    }\n",
       "    $(document).ready(code_toggle);\n",
       "</script>\n",
       "<form action=\"javascript:code_toggle()\">\n",
       "    <input type=\"submit\" value=\"Click here to toggle on/off the Python code.\">\n",
       "</form>\n"
      ],
      "text/plain": [
       "<IPython.core.display.HTML object>"
      ]
     },
     "execution_count": 1,
     "metadata": {},
     "output_type": "execute_result"
    }
   ],
   "source": [
    "import livingpark_utils\n",
    "\n",
    "utils = livingpark_utils.LivingParkUtils()\n",
    "utils.notebook_init()"
   ]
  },
  {
   "cell_type": "markdown",
   "id": "220cbe8b",
   "metadata": {},
   "source": [
    "We fix the random seed to make sure we get the same results everytime:"
   ]
  },
  {
   "cell_type": "code",
   "execution_count": 2,
   "id": "250c7435",
   "metadata": {},
   "outputs": [],
   "source": [
    "random_seed = 1"
   ]
  },
  {
   "cell_type": "markdown",
   "id": "cd6a3141",
   "metadata": {},
   "source": [
    "## PPMI cohort preparation"
   ]
  },
  {
   "cell_type": "markdown",
   "id": "88a38019",
   "metadata": {},
   "source": [
    "We will build a PPMI cohort that matches the one used in the original study (Table 1) as closely as possible. Our cohort will be built directly from PPMI Study Data files so that it can be replicated and updated whenever necessary."
   ]
  },
  {
   "cell_type": "markdown",
   "id": "32fde65c",
   "metadata": {},
   "source": [
    "We define some constants that will be used in the rest of the notebook:"
   ]
  },
  {
   "cell_type": "code",
   "execution_count": 3,
   "id": "65894a5b",
   "metadata": {},
   "outputs": [],
   "source": [
    "# PPMI file names\n",
    "FILENAME_DEMOGRAPHICS = \"Demographics.csv\"\n",
    "FILENAME_AGE = \"Age_at_visit.csv\"\n",
    "FILENAME_PARTICIPANT_STATUS = \"Participant_Status.csv\"\n",
    "FILENAME_MOCA = \"Montreal_Cognitive_Assessment__MoCA_.csv\"\n",
    "FILENAME_UPDRS2 = \"MDS_UPDRS_Part_II__Patient_Questionnaire.csv\"\n",
    "FILENAME_UPDRS3_CLEAN = \"MDS_UPDRS_Part_III_clean.csv\"\n",
    "FILENAME_ADL = \"Modified_Schwab___England_Activities_of_Daily_Living.csv\"\n",
    "\n",
    "# useful column names\n",
    "COL_PAT_ID = \"PATNO\"\n",
    "COL_COHORT = \"COHORT_DEFINITION\"\n",
    "COL_VISIT_TYPE = \"EVENT_ID\"\n",
    "COL_MRI_COMPLETE = \"MRICMPLT\"\n",
    "COL_DATE_INFO = \"INFODT\"\n",
    "COLS_DATE = [\n",
    "    COL_DATE_INFO,\n",
    "    \"LAST_UPDATE\",\n",
    "    \"ORIG_ENTRY\",\n",
    "]\n",
    "COL_MOCA = \"MCATOT\"\n",
    "COL_ADL = \"MSEADLG\"\n",
    "COL_UPDRS2 = \"NP2PTOT\"\n",
    "COL_UPDRS3 = \"NP3TOT\"\n",
    "# PIGD: Postural Instability and Gait Disturbance score\n",
    "# computed from UPDRS III measures (Stebbins et al. 2013)\n",
    "COL_PIGD = \"PIGD\"\n",
    "COLS_PIGD_COMPONENTS = [\n",
    "    \"NP2WALK\",\n",
    "    \"NP2FREZ\",\n",
    "    \"NP3FRZGT\",\n",
    "    \"NP3GAIT\",\n",
    "    \"NP3PSTBL\",\n",
    "]\n",
    "COL_IMAGING_PROTOCOL = \"Imaging Protocol\"  # from IDA search results\n",
    "\n",
    "# column names obtained from searching the Image and Data Archive (IDA)\n",
    "# are different from those used in the PPMI csv study files\n",
    "# so they need to be remapped\n",
    "IDA_COLNAME_MAP = {\n",
    "    \"Subject ID\": COL_PAT_ID,\n",
    "    \"Visit\": COL_VISIT_TYPE,\n",
    "    \"Study Date\": COL_DATE_INFO,\n",
    "}\n",
    "\n",
    "# codes for COHORT_DEFINITION field\n",
    "STATUS_PD = \"Parkinson's Disease\"\n",
    "STATUS_HC = \"Healthy Control\"\n",
    "\n",
    "# main/validation cohorts for analysis\n",
    "MAIN_COHORT = \"main\"\n",
    "VALIDATION_COHORT = \"validation\""
   ]
  },
  {
   "cell_type": "markdown",
   "id": "54406d2c",
   "metadata": {},
   "source": [
    "We define some helper functions for loading and manipulating dataframes:"
   ]
  },
  {
   "cell_type": "code",
   "execution_count": 4,
   "id": "2f47954f",
   "metadata": {},
   "outputs": [],
   "source": [
    "from pathlib import Path\n",
    "import pandas as pd\n",
    "\n",
    "\n",
    "def load_ppmi_csv(\n",
    "    utils: livingpark_utils.LivingParkUtils,\n",
    "    filename: str,\n",
    "    from_ida_search=False,\n",
    "    convert_dates: bool = True,\n",
    "    alternative_dir: str = \".\",\n",
    "    **kwargs,\n",
    ") -> pd.DataFrame:\n",
    "    \"\"\"\n",
    "    Loads PPMI csv file as pd.DataFrame.\n",
    "    Looks for file in utils.study_files_dir first, then in data_dir.\n",
    "    Optionally converts date columns from str to pandas datetime type.\n",
    "    \"\"\"\n",
    "    filepath = Path(utils.study_files_dir, filename)\n",
    "\n",
    "    if not filepath.exists():\n",
    "        filepath = Path(alternative_dir, filename)\n",
    "    if not filepath.exists():\n",
    "        raise FileNotFoundError(\n",
    "            f\"File {filename} is not in either \"\n",
    "            f\"{utils.study_files_dir} or {alternative_dir}\"\n",
    "        )\n",
    "    df_ppmi = pd.read_csv(filepath)\n",
    "\n",
    "    # convert IDA search results to the same format as other PPMI study files\n",
    "    if from_ida_search:\n",
    "        df_ppmi = df_ppmi.rename(columns=IDA_COLNAME_MAP)\n",
    "        df_ppmi[COL_PAT_ID] = pd.to_numeric(df_ppmi[COL_PAT_ID], errors=\"coerce\")\n",
    "\n",
    "    if convert_dates:\n",
    "        df_ppmi = convert_date_cols(df_ppmi, **kwargs)\n",
    "    return df_ppmi\n",
    "\n",
    "\n",
    "def convert_date_cols(df: pd.DataFrame, cols: list = None):\n",
    "    \"\"\"\n",
    "    Converts date columns from str to pandas datetime type.\n",
    "    \"\"\"\n",
    "    if cols is None:\n",
    "        cols = COLS_DATE\n",
    "    for col in cols:\n",
    "        try:\n",
    "            df[col] = pd.to_datetime(df[col])\n",
    "        except KeyError:\n",
    "            continue\n",
    "    return df\n",
    "\n",
    "\n",
    "def filter_date(\n",
    "    df: pd.DataFrame,\n",
    "    max_date=None,\n",
    "    min_date=None,\n",
    "    dayfirst=True,\n",
    "    col_date: str = COL_DATE_INFO,\n",
    ") -> pd.DataFrame:\n",
    "    \"\"\"\n",
    "    Filters a dataframe based on values in a date columns.\n",
    "    \"\"\"\n",
    "\n",
    "    if type(min_date) == str:\n",
    "        min_date = pd.to_datetime(min_date, dayfirst=dayfirst)\n",
    "    if type(max_date) == str:\n",
    "        max_date = pd.to_datetime(max_date, dayfirst=dayfirst)\n",
    "\n",
    "    if min_date is not None:\n",
    "        df = df.loc[df[col_date] >= min_date]\n",
    "    if max_date is not None:\n",
    "        df = df.loc[df[col_date] <= max_date]\n",
    "    return df"
   ]
  },
  {
   "cell_type": "markdown",
   "id": "de8f2f20",
   "metadata": {},
   "source": [
    "### Study data download"
   ]
  },
  {
   "cell_type": "markdown",
   "id": "c06ddb34",
   "metadata": {},
   "source": [
    "We will start by downloading the PPMI Study Data files required to build our cohort: \n",
    "\n",
    "* Demographics\n",
    "* Age at visit\n",
    "* Participant status (Parkinson's disease, healthy control, etc.)\n",
    "* Clinical/cognitive assessment results:\n",
    "    * Montreal Cognitive Assessment (MoCA)\n",
    "    * Unified Parkinson's Disease Rating Scale (UPDRS) Part II and Part III\n",
    "    * Modified Schwab and England Activities of Daily Living scale\n",
    "\n",
    "We will use the LivingPark utils library to download these files from the notebook. If files are already present in the notebook cache, they won't be downloaded again. Otherwise, you will need to enter your PPMI username and password. In case you don't have a PPMI account, you can request one [here](http://ppmi-info.org)."
   ]
  },
  {
   "cell_type": "code",
   "execution_count": 5,
   "id": "444fe1d5-8bb9-49d1-a37b-5064ec972910",
   "metadata": {},
   "outputs": [
    {
     "name": "stdout",
     "output_type": "stream",
     "text": [
      "Download skipped: No missing files!\n"
     ]
    }
   ],
   "source": [
    "required_files = [\n",
    "    FILENAME_PARTICIPANT_STATUS,\n",
    "    FILENAME_DEMOGRAPHICS,\n",
    "    FILENAME_AGE,\n",
    "    FILENAME_MOCA,\n",
    "    FILENAME_UPDRS2,\n",
    "    FILENAME_ADL,\n",
    "]\n",
    "\n",
    "utils.download_ppmi_metadata(required_files)"
   ]
  },
  {
   "cell_type": "markdown",
   "id": "5f14c310",
   "metadata": {},
   "source": [
    "We also download a file with information about all available T1 scans from the PPMI imaging database search tool: "
   ]
  },
  {
   "cell_type": "code",
   "execution_count": 6,
   "id": "252cb00b",
   "metadata": {},
   "outputs": [
    {
     "name": "stdout",
     "output_type": "stream",
     "text": [
      "Message: element not interactable\n",
      "  (Session info: headless chrome=105.0.5195.125)\n",
      "Stacktrace:\n",
      "0   chromedriver                        0x000000010590b788 chromedriver + 4515720\n",
      "1   chromedriver                        0x000000010588f9d3 chromedriver + 4008403\n",
      "2   chromedriver                        0x0000000105521feb chromedriver + 413675\n",
      "3   chromedriver                        0x0000000105553a1f chromedriver + 616991\n",
      "4   chromedriver                        0x0000000105552fd8 chromedriver + 614360\n",
      "5   chromedriver                        0x00000001055767d2 chromedriver + 759762\n",
      "6   chromedriver                        0x000000010554e075 chromedriver + 594037\n",
      "7   chromedriver                        0x000000010557692e chromedriver + 760110\n",
      "8   chromedriver                        0x0000000105589bd9 chromedriver + 838617\n",
      "9   chromedriver                        0x0000000105576603 chromedriver + 759299\n",
      "10  chromedriver                        0x000000010554c990 chromedriver + 588176\n",
      "11  chromedriver                        0x000000010554da75 chromedriver + 592501\n",
      "12  chromedriver                        0x00000001058db6cd chromedriver + 4318925\n",
      "13  chromedriver                        0x00000001058dff35 chromedriver + 4337461\n",
      "14  chromedriver                        0x00000001058e71ff chromedriver + 4366847\n",
      "15  chromedriver                        0x00000001058e0c5a chromedriver + 4340826\n",
      "16  chromedriver                        0x00000001058b6c2c chromedriver + 4168748\n",
      "17  chromedriver                        0x00000001058fd4f8 chromedriver + 4457720\n",
      "18  chromedriver                        0x00000001058fd693 chromedriver + 4458131\n",
      "19  chromedriver                        0x0000000105912a3e chromedriver + 4545086\n",
      "20  libsystem_pthread.dylib             0x00007fff6b8a9109 _pthread_start + 148\n",
      "21  libsystem_pthread.dylib             0x00007fff6b8a4b8b thread_start + 15\n",
      "\n",
      "after login\n",
      "Successfully downloaded file idaSearch_9_22_2022.csv\n"
     ]
    }
   ],
   "source": [
    "import ppmi_downloader\n",
    "\n",
    "ppmi = ppmi_downloader.PPMIDownloader()\n",
    "filename_t1_info = ppmi.download_3D_T1_info(destination_dir=utils.study_files_dir)"
   ]
  },
  {
   "cell_type": "markdown",
   "id": "339378a5",
   "metadata": {},
   "source": [
    "### Base cohorts"
   ]
  },
  {
   "cell_type": "markdown",
   "id": "7a95b22b",
   "metadata": {},
   "source": [
    "The paper uses a main cohort and a validation cohort. The **main cohort** consists of subjects with 3T T1 scans and is a subset of the cohort the authors used in the 2015 paper. The **validation cohort** consists of subjects with 1.5T T1 scans.\n",
    "\n",
    "For the **main cohort**, in the 2015 paper, the authors state that they used scans acquired from September 2013 to January 2014. However, if we restrict our search to this time period, the number of available scans is much lower than expected (38 PD patients instead of 232, 1 healthy control instead of 117). If we instead use all subjects with 3T scans from January 31st 2014 and before, we obtain sample sizes that are closer to what we expect.\n",
    "\n",
    "For the **validation cohort**, the paper states that data were downloaded in October 2017, so we use all subjects with 1.5T scans from October 31st 2017 and before. The original validation cohort in the paper consisted of 140 PD patients."
   ]
  },
  {
   "cell_type": "code",
   "execution_count": 7,
   "id": "144e7002",
   "metadata": {},
   "outputs": [
    {
     "name": "stdout",
     "output_type": "stream",
     "text": [
      "=============== Main cohort ===============\n",
      "Parkinson's Disease    243\n",
      "Healthy Control        116\n",
      "Name: COHORT_DEFINITION, dtype: int64\n",
      "=============== Validation cohort ===============\n",
      "Parkinson's Disease    146\n",
      "Name: COHORT_DEFINITION, dtype: int64\n"
     ]
    }
   ],
   "source": [
    "import numpy as np\n",
    "\n",
    "min_date = None\n",
    "max_dates = {\n",
    "    MAIN_COHORT: \"31/01/2014\",\n",
    "    VALIDATION_COHORT: \"31/10/2017\",\n",
    "}\n",
    "T1_field_strengths = {\n",
    "    MAIN_COHORT: \"3.0\",\n",
    "    VALIDATION_COHORT: \"1.5\",\n",
    "}\n",
    "status_groups = {\n",
    "    MAIN_COHORT: [STATUS_PD, STATUS_HC],\n",
    "    VALIDATION_COHORT: [STATUS_PD],\n",
    "}\n",
    "\n",
    "df_t1 = load_ppmi_csv(utils, filename_t1_info, from_ida_search=True)\n",
    "df_status = load_ppmi_csv(utils, FILENAME_PARTICIPANT_STATUS)\n",
    "\n",
    "cohort_subjects = {}\n",
    "for cohort_name, field_strength in T1_field_strengths.items():\n",
    "    print(f\"=============== {cohort_name.capitalize()} cohort ===============\")\n",
    "    # filter by date\n",
    "    df_t1_subset = filter_date(\n",
    "        df_t1, max_date=max_dates[cohort_name], min_date=min_date\n",
    "    )\n",
    "    # filter by field strength\n",
    "    df_t1_subset = df_t1_subset.loc[\n",
    "        df_t1[COL_IMAGING_PROTOCOL].str.contains(f\"Field Strength={field_strength}\")\n",
    "    ]\n",
    "    # only keep PD patients and healthy controls\n",
    "    df_t1_subset = df_t1_subset.merge(df_status, on=COL_PAT_ID)\n",
    "    df_t1_subset = df_t1_subset.loc[\n",
    "        df_t1_subset[COL_COHORT].isin(status_groups[cohort_name])\n",
    "    ]\n",
    "    cohort_subjects[cohort_name] = df_t1_subset[COL_PAT_ID].drop_duplicates().tolist()\n",
    "    print(\n",
    "        df_status.loc[\n",
    "            df_status[COL_PAT_ID].isin(cohort_subjects[cohort_name]), COL_COHORT\n",
    "        ].value_counts()\n",
    "    )"
   ]
  }
 ],
 "metadata": {
  "kernelspec": {
   "display_name": "Python 3.10.6 ('livingpark')",
   "language": "python",
   "name": "python3"
  },
  "language_info": {
   "codemirror_mode": {
    "name": "ipython",
    "version": 3
   },
   "file_extension": ".py",
   "mimetype": "text/x-python",
   "name": "python",
   "nbconvert_exporter": "python",
   "pygments_lexer": "ipython3",
   "version": "3.10.6"
  },
  "vscode": {
   "interpreter": {
    "hash": "7c1dce6928164983c9394696a67460054b2345bd05d18f1e86972521ab8096b4"
   }
  }
 },
 "nbformat": 4,
 "nbformat_minor": 5
}
