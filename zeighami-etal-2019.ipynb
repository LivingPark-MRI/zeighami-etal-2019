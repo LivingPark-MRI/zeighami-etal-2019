{
 "cells": [
  {
   "attachments": {},
   "cell_type": "markdown",
   "id": "589d0f2d",
   "metadata": {},
   "source": [
    "# Replication: Zeighami *et al*, 2019"
   ]
  },
  {
   "attachments": {},
   "cell_type": "markdown",
   "id": "6ffe77a0",
   "metadata": {},
   "source": [
    "## Introduction"
   ]
  },
  {
   "attachments": {},
   "cell_type": "markdown",
   "id": "4974727a",
   "metadata": {},
   "source": [
    "This notebook attempts to reproduce the following paper (which already uses the [PPMI](http://ppmi-info.org) dataset):\n",
    "\n",
    "<div class=\"alert alert-block alert-success\">\n",
    "Zeighami, Yashar, et al. <a href=https://doi.org/10.1016/j.nicl.2019.101986>Assessment of a prognostic MRI biomarker in early de novo Parkinson's disease.</a> NeuroImage: Clinical 24 (2019): 101986.\n",
    "</div>"
   ]
  },
  {
   "attachments": {},
   "cell_type": "markdown",
   "id": "9ab29940",
   "metadata": {
    "slideshow": {
     "slide_type": "fragment"
    }
   },
   "source": [
    "This study used longitudinal MRI data from 362 patients with de novo PD (i.e., patients not yet taking any medication) and 112 healthy controls. Subjects were split into a main cohort with 3T MRI scans (222 PD patients, 112 healthy controls) and a validation cohort with 1.5T MRI scans (140 PD patients). \n",
    "\n",
    "The demographics parameters for the PD patients were as follows (table extracted from the paper):\n",
    "\n",
    "<img src=\"images/demographics.png\" width=800/>"
   ]
  },
  {
   "attachments": {},
   "cell_type": "markdown",
   "id": "a51402f7",
   "metadata": {},
   "source": [
    "This paper used a method introduced in [Zeighami *et al* (2015)](https://doi.org/10.7554/eLife.08440) consisting of applying Independent Component Analysis (ICA) to Deformation-Based Morphometry (DBM) maps to identify an atrophy network related to PD. Out of 30 independent components (ICs), one was found to be significantly associated with PD. This component (\"PD-ICA\") features the midbrain, basal ganglia, basal forebrain, medial temporal lobe, as well as discrete cortical regions, and is shown in the figure below (extracted from the paper):\n",
    "\n",
    "<img src=\"images/results_PD_ICA.jpg\" width=600/>"
   ]
  },
  {
   "attachments": {},
   "cell_type": "markdown",
   "id": "ac976672",
   "metadata": {},
   "source": [
    "One of the main results of this paper was that the PD-related atrophy score can be used to identify patients who have a 0.5 standard deviation change in the global composite outcome (GCO; a measure defined by the authors) between baseline and follow-up visits. The PD-related atrophy biomarker achieved an area under the receiver operating characteristics (ROC) curve of 0.63, out-performing other biomarkers, as shown in the figure below (extracted from the paper):\n",
    "\n",
    "<img src=\"images/results_AUC.png\" width=500/>"
   ]
  },
  {
   "attachments": {},
   "cell_type": "markdown",
   "id": "f95f073d",
   "metadata": {},
   "source": [
    "This notebook is an attempt to reproduce these results using the same PPMI dataset. We define the following reproduction criteria:\n",
    "1. Obtaining an IC where differences between PD patients and healthy controls (in terms of participant loadings in the ICA mixing matrix) were statistically significant (p ≤ 0.05 after Bonferroni correction for multiple comparisons)\n",
    "2. Finding that this top IC has an anatomical signature similar to the PD-ICA component reported in the original papers\n",
    "3. Obtaining a higher-than-chance AUC when using this top IC to classify PD progression (as measured in terms of increase in GCO).\n"
   ]
  },
  {
   "attachments": {},
   "cell_type": "markdown",
   "id": "814499f3",
   "metadata": {},
   "source": [
    "## Initial setup"
   ]
  },
  {
   "attachments": {},
   "cell_type": "markdown",
   "id": "d651b5b5",
   "metadata": {},
   "source": [
    "We first initialize the notebook cache and install dependencies:"
   ]
  },
  {
   "cell_type": "code",
   "execution_count": 1,
   "id": "02299e19-57c8-4cfe-9419-4dedd9cb1941",
   "metadata": {},
   "outputs": [
    {
     "name": "stdout",
     "output_type": "stream",
     "text": [
      "This notebook was run on 2023-05-23 16:12:05 UTC +0000\n"
     ]
    },
    {
     "data": {
      "text/html": [
       "<script>\n",
       "    code_show = true;\n",
       "    function code_toggle() {\n",
       "        if (code_show) {\n",
       "            $(\"div.input\").hide();\n",
       "        } else {\n",
       "            $(\"div.input\").show();\n",
       "        }\n",
       "        code_show = !code_show\n",
       "    }\n",
       "    $(document).ready(code_toggle);\n",
       "</script>\n",
       "<form action=\"javascript:code_toggle()\">\n",
       "    <input type=\"submit\" value=\"Click here to toggle on/off the Python code.\">\n",
       "</form>\n"
      ],
      "text/plain": [
       "<IPython.core.display.HTML object>"
      ]
     },
     "execution_count": 1,
     "metadata": {},
     "output_type": "execute_result"
    }
   ],
   "source": [
    "import livingpark_utils\n",
    "\n",
    "utils = livingpark_utils.LivingParkUtils()\n",
    "utils.notebook_init()"
   ]
  },
  {
   "attachments": {},
   "cell_type": "markdown",
   "id": "7d8929d9",
   "metadata": {},
   "source": [
    "The following flags can be used to run the different reproduction experiments we tried:"
   ]
  },
  {
   "cell_type": "code",
   "execution_count": 2,
   "id": "71490077",
   "metadata": {},
   "outputs": [],
   "source": [
    "pre_feedback = False    # whether to use pre-feedback cohort, DBM pipeline, ICA scoring method (default: False)\n",
    "qc = True               # whether to use the QC'ed cohort (default: True)\n",
    "from_nifti = False      # whether to use DICOM->Nifti->MINC files instead of DICOM->MINC (default: False)\n",
    "old_pipeline = False    # whether to use pre-feedback pipeline instead of author-provided pipeline (default: False)\n",
    "melodic_method = '30'   # a number string or one of ['lap', 'bic', 'mdl', 'aic', 'mean'] (default: '30')"
   ]
  },
  {
   "attachments": {},
   "cell_type": "markdown",
   "id": "32fde65c",
   "metadata": {},
   "source": [
    "We import required libraries/functions and load some useful constants and helper functions from the `zeighamietal` module of `livingpark_utils`. The code used to create the initial cohorts based on T1 data availability is reused in another notebook.  "
   ]
  },
  {
   "cell_type": "code",
   "execution_count": 3,
   "id": "65894a5b",
   "metadata": {},
   "outputs": [],
   "source": [
    "import re\n",
    "from functools import reduce\n",
    "from pathlib import Path\n",
    "\n",
    "import numpy as np\n",
    "import pandas as pd\n",
    "\n",
    "from livingpark_utils.download import ppmi\n",
    "\n",
    "from livingpark_utils.zeighamietal.constants import (\n",
    "    FILENAME_PARTICIPANT_STATUS,\n",
    "    FILENAME_DEMOGRAPHICS,\n",
    "    FILENAME_PD_HISTORY,\n",
    "    FILENAME_AGE,\n",
    "    FILENAME_MOCA,\n",
    "    FILENAME_UPDRS1A,\n",
    "    FILENAME_UPDRS1B,\n",
    "    FILENAME_UPDRS2,\n",
    "    FILENAME_UPDRS3,\n",
    "    FILENAME_ADL,\n",
    "    FILENAME_T1_INFO,\n",
    ")\n",
    "\n",
    "from livingpark_utils.zeighamietal.constants import (\n",
    "    COL_PAT_ID,\n",
    "    COL_STATUS,\n",
    "    COL_VISIT_TYPE,\n",
    "    COL_DATE_INFO,\n",
    "    COL_DATE_BIRTH,\n",
    "    COL_DATE_PD,\n",
    ")\n",
    "\n",
    "from livingpark_utils.zeighamietal.constants import (\n",
    "    STATUS_PD,\n",
    "    MAIN_COHORT,\n",
    "    VALIDATION_COHORT,\n",
    "    VISIT_BASELINE,\n",
    "    VISIT_SCREENING,\n",
    "    REGEX_VISIT_FOLLOWUP,\n",
    "    SEX_MALE,\n",
    "    MAX_DATES,\n",
    ")\n",
    "\n",
    "from livingpark_utils.zeighamietal.constants import (\n",
    "    COL_PD_STATE,\n",
    "    COL_SEX,\n",
    "    COL_UPDRS1A,\n",
    "    COL_UPDRS1B,\n",
    "    COL_UPDRS2,\n",
    "    COL_UPDRS3,\n",
    "    COL_MOCA,\n",
    "    COL_ADL,\n",
    "    COL_UPDRS1,\n",
    "    COL_PIGD,\n",
    "    COL_GCO,\n",
    "    COLS_PIGD_COMPONENTS_UPDRS2,\n",
    "    COLS_PIGD_COMPONENTS_UPDRS3,\n",
    "    COLS_PIGD_COMPONENTS,\n",
    "    COLS_SCORES_WITHOUT_GCO,\n",
    "    COL_FOLLOWUP,\n",
    ")\n",
    "\n",
    "from livingpark_utils.zeighamietal import (\n",
    "    load_ppmi_csv,\n",
    "    get_t1_cohort,\n",
    "    mean_impute,\n",
    "    filter_date,\n",
    ")"
   ]
  },
  {
   "attachments": {},
   "cell_type": "markdown",
   "id": "cd6a3141",
   "metadata": {},
   "source": [
    "## PPMI cohort preparation"
   ]
  },
  {
   "attachments": {},
   "cell_type": "markdown",
   "id": "88a38019",
   "metadata": {},
   "source": [
    "We will build a PPMI cohort that matches the one used in the original study (Table 1) as closely as possible. Our cohort will be built directly from PPMI Study Data files so that it can be replicated and updated whenever necessary."
   ]
  },
  {
   "attachments": {},
   "cell_type": "markdown",
   "id": "de8f2f20",
   "metadata": {},
   "source": [
    "### Study data download"
   ]
  },
  {
   "attachments": {},
   "cell_type": "markdown",
   "id": "c06ddb34",
   "metadata": {},
   "source": [
    "We will start by downloading the PPMI Study Data files required to build our cohort: \n",
    "\n",
    "* Participant status (Parkinson's disease, healthy control, etc.)\n",
    "* PD diagnosis history\n",
    "* Demographics\n",
    "* Age at visit\n",
    "* Clinical/cognitive assessment results:\n",
    "    * Montreal Cognitive Assessment (MoCA)\n",
    "    * Unified Parkinson's Disease Rating Scale (UPDRS) Parts I, II and III\n",
    "    * Modified Schwab and England Activities of Daily Living scale\n",
    "\n",
    "We will use the `livingpark_utils` library to download these files from the notebook. If files are already present in the notebook cache, they won't be downloaded again. Otherwise, a PPMI username and password are required to obtain the files. New PPMI accounts can be requested [here](http://ppmi-info.org)."
   ]
  },
  {
   "cell_type": "code",
   "execution_count": 4,
   "id": "444fe1d5-8bb9-49d1-a37b-5064ec972910",
   "metadata": {},
   "outputs": [
    {
     "name": "stdout",
     "output_type": "stream",
     "text": [
      "Download skipped: No missing files!\n"
     ]
    }
   ],
   "source": [
    "required_files = [\n",
    "    FILENAME_PARTICIPANT_STATUS,\n",
    "    FILENAME_PD_HISTORY,\n",
    "    FILENAME_DEMOGRAPHICS,\n",
    "    FILENAME_AGE,\n",
    "    FILENAME_MOCA,\n",
    "    FILENAME_UPDRS1A,\n",
    "    FILENAME_UPDRS1B,\n",
    "    FILENAME_UPDRS2,\n",
    "    FILENAME_UPDRS3,\n",
    "    FILENAME_ADL,\n",
    "]\n",
    "\n",
    "downloader = ppmi.Downloader(utils.study_files_dir)\n",
    "utils.get_study_files(required_files, default=downloader)"
   ]
  },
  {
   "attachments": {},
   "cell_type": "markdown",
   "id": "339378a5",
   "metadata": {},
   "source": [
    "### Subjects with T1 MRI available"
   ]
  },
  {
   "attachments": {},
   "cell_type": "markdown",
   "id": "7a95b22b",
   "metadata": {},
   "source": [
    "The paper uses a main cohort and a validation cohort, but we will only attempt to reproduce results involving the **main cohort**. \n",
    "\n",
    "The main cohort was made up of of 222 PD patients and 112 healthy controls. In the 2015 paper, the authors used data from 237 PD patients and 118 healthy controls. MRI processing failure led to the exclusion of 5 PD patients and 1 healthy control, and so the final cohort consisted of 232 PD patients and 117 healthy controls. In the 2019 paper, an additional 10 PD patients and 5 healthy controls were excluded due to lack of follow-up data required in the analysis.\n",
    "\n",
    "*Note*: In the 2015 paper, the authors state that they used scans acquired from September 2013 to January 2014. However, if we restrict our search to this time period, the number of available scans is much lower than expected (38 PD patients instead of 237, 1 healthy control instead of 118). If we instead use all subjects with 3T scans from January 31st 2014 and before, we obtain 236 PD patients and 113 healthy controls, which is closer to what we would expect."
   ]
  },
  {
   "cell_type": "code",
   "execution_count": 5,
   "id": "43a7c474",
   "metadata": {},
   "outputs": [
    {
     "name": "stdout",
     "output_type": "stream",
     "text": [
      "This notebook was run on 2023-05-23 16:12:06 UTC +0000\n",
      "['COR', 'Coronal', 'Cal Head 24', 'Transverse', 'tra_T1_MPRAGE', 'TRA']\n",
      "['AX', 'Ax', 'axial', 'Phantom', 'T2']\n",
      "{'Screening': 'SC', 'Baseline': 'BL', 'Month 6': 'V02', 'Month 12': 'V04', 'Month 24': 'V06', 'Month 36': 'V08', 'Month 48': 'V10', 'Symptomatic Therapy': 'ST', 'Unscheduled Visit 01': 'U01', 'Unscheduled Visit 02': 'U02', 'Premature Withdrawal': 'PW'}\n",
      "Saved in MRI_info.csv\n",
      "Using MRI info file: /data/origami/livingpark/zeighami-etal-2019/inputs/study_files/MRI_info.csv\n",
      "WARNING: Duplicate subjects in main cohort\n",
      "Parkinson's Disease    244\n",
      "Healthy Control        117\n",
      "Name: COHORT_DEFINITION, dtype: int64\n"
     ]
    }
   ],
   "source": [
    "# the mri_metadata script downloads a file that is needed by get_t1_cohort()\n",
    "from livingpark_utils.scripts import mri_metadata\n",
    "\n",
    "df_t1_info = get_t1_cohort(\n",
    "    utils,\n",
    "    cohort_name=MAIN_COHORT,\n",
    "    filename=FILENAME_T1_INFO,\n",
    "    sagittal_only=True,\n",
    ")\n",
    "\n",
    "# closest-to-original cohort (post-feedback)\n",
    "# for Experiment 11 in reproduction paper\n",
    "# df_t1_info = pd.read_csv('dbm/zeighami-etal-2019-cohort-1764925582561745833.csv')\n",
    "\n",
    "print(df_t1_info.drop_duplicates(COL_PAT_ID)[COL_STATUS].value_counts())"
   ]
  },
  {
   "cell_type": "code",
   "execution_count": 6,
   "id": "0653aa6d",
   "metadata": {},
   "outputs": [],
   "source": [
    "# load data on participant status (PD, healthy control, etc.)\n",
    "df_status = load_ppmi_csv(utils, FILENAME_PARTICIPANT_STATUS)"
   ]
  },
  {
   "attachments": {},
   "cell_type": "markdown",
   "id": "ff3d6f5a",
   "metadata": {},
   "source": [
    "### Remove subjects with no follow-up data available"
   ]
  },
  {
   "attachments": {},
   "cell_type": "markdown",
   "id": "fac8cc6c",
   "metadata": {},
   "source": [
    "The original paper excluded 15 participants (10 PD patients and 5 healthy controls) who had less than 1 year of follow-up. We will identify subjects with less than 1 year of follow-up for the PD progression measures."
   ]
  },
  {
   "attachments": {},
   "cell_type": "markdown",
   "id": "18616fa4",
   "metadata": {},
   "source": [
    "First, we load/compute and merge all the required clinical/cognitive measures:\n",
    "* UPDRS Part I\n",
    "* UPDRS Part II\n",
    "* UPDRS Part III\n",
    "* Modified Schwab and England Activities of Daily Living (ADL) scale\n",
    "* Postural instability and gait disturbance (PIGD) score\n",
    "* MoCA\n",
    "\n",
    "Missing values are imputed with the mean across the entire dataset, except for the MoCA score (handled below).\n",
    "\n",
    "There are two files associated with UPDRS Part I (IA: Complex behaviors; IB: Partipant questionnaire). We use the sum of the total score in each file.\n",
    "\n",
    "The PIGD score is defined in [Stebbins et al. 2013](https://doi.org/10.1002/mds.25383) and consists of the mean of a subset of UPDRS (Part II and III) measures."
   ]
  },
  {
   "cell_type": "code",
   "execution_count": 7,
   "id": "a29efdd2",
   "metadata": {},
   "outputs": [],
   "source": [
    "cols_for_merge = [COL_PAT_ID, COL_DATE_INFO, COL_VISIT_TYPE]\n",
    "\n",
    "df_updrs1a = load_ppmi_csv(utils, FILENAME_UPDRS1A, cols_to_impute=COL_UPDRS1A)\n",
    "df_updrs1b = load_ppmi_csv(utils, FILENAME_UPDRS1B, cols_to_impute=COL_UPDRS1B)\n",
    "df_updrs2 = load_ppmi_csv(\n",
    "    utils, FILENAME_UPDRS2, cols_to_impute=COLS_PIGD_COMPONENTS_UPDRS2 + [COL_UPDRS2]\n",
    ")\n",
    "df_updrs3 = load_ppmi_csv(\n",
    "    utils, FILENAME_UPDRS3, cols_to_impute=COLS_PIGD_COMPONENTS_UPDRS3 + [COL_UPDRS3]\n",
    ")\n",
    "df_adl = load_ppmi_csv(utils, FILENAME_ADL, cols_to_impute=COL_ADL)\n",
    "df_moca = load_ppmi_csv(utils, FILENAME_MOCA)  # do not impute\n",
    "\n",
    "df_updrs1 = df_updrs1a.merge(df_updrs1b, on=cols_for_merge)\n",
    "df_updrs1[COL_UPDRS1] = df_updrs1.loc[:, [COL_UPDRS1A, COL_UPDRS1B]].sum(axis=\"columns\")\n",
    "\n",
    "# some subjects in the validation cohort have multiple entries on the same date\n",
    "# one for PDSTATE=ON and one for PDSTATE=OFF\n",
    "# PDSTATE=OFF is the typical functional state when participants have a poor response in spite of taking medications\n",
    "# PDSTATE=ON is the typical functional state when patients are receiving medication and have a good response\n",
    "# we drop rows where PDSTATE is ON, since the 2015 paper used data where patients were off medication\n",
    "df_updrs3 = df_updrs3.loc[df_updrs3[COL_PD_STATE] != \"ON\"]\n",
    "\n",
    "# PIGD score is build from UPDRS (Stebbins et al. 2013)\n",
    "df_pigd = df_updrs2.merge(df_updrs3, on=cols_for_merge, how=\"inner\")\n",
    "df_pigd[COL_PIGD] = df_pigd.loc[:, COLS_PIGD_COMPONENTS].mean(axis=\"columns\")\n",
    "\n",
    "df_updrs1 = df_updrs1.loc[:, cols_for_merge + [COL_UPDRS1]]\n",
    "df_updrs2 = df_updrs2.loc[:, cols_for_merge + [COL_UPDRS2]]\n",
    "df_updrs3 = df_updrs3.loc[:, cols_for_merge + [COL_UPDRS3]]\n",
    "df_adl = df_adl.loc[:, cols_for_merge + [COL_ADL]]\n",
    "df_pigd = df_pigd.loc[:, cols_for_merge + [COL_PIGD]]\n",
    "df_moca = df_moca.loc[:, cols_for_merge + [COL_MOCA]]\n",
    "\n",
    "df_assessments_all = reduce(\n",
    "    lambda df1, df2: df1.merge(df2, on=cols_for_merge, how=\"outer\"),\n",
    "    [df_updrs2, df_updrs3, df_adl, df_pigd, df_updrs1, df_moca],\n",
    ").drop_duplicates()\n",
    "\n",
    "# some missing values remain even if we use the screening visit score\n",
    "# we need original mean to impute them\n",
    "mean_moca = df_moca[COL_MOCA].mean()\n",
    "\n",
    "cols_to_impute = [col for col in COLS_SCORES_WITHOUT_GCO if col != COL_MOCA]\n",
    "df_assessments_all = mean_impute(df_assessments_all, cols_to_impute)\n",
    "\n",
    "# keep only subjects who have a T1\n",
    "df_assessments_orig = df_assessments_all.loc[\n",
    "    df_assessments_all[COL_PAT_ID].isin(df_t1_info[COL_PAT_ID])\n",
    "]"
   ]
  },
  {
   "attachments": {},
   "cell_type": "markdown",
   "id": "444c17f9",
   "metadata": {},
   "source": [
    "All subjects seem to have taken the MoCA during the screening visit, not the baseline visit. We replace the baseline MoCA score by the one from the screening visit. We plot a histogram for the number of days between baseline and screening visits, to check whether it was reasonable to use the screening visit score if the baseline score was not available.\n",
    "\n",
    "We pick the latest available visit (up to the retrieval date in original paper) as the follow-up visit."
   ]
  },
  {
   "cell_type": "code",
   "execution_count": 8,
   "id": "d3f39ed4",
   "metadata": {},
   "outputs": [
    {
     "name": "stdout",
     "output_type": "stream",
     "text": [
      "----- With baseline assessments + T1 -----\n",
      "Parkinson's Disease    242\n",
      "Healthy Control        117\n",
      "Name: COHORT_DEFINITION, dtype: int64\n",
      "----- With followup assessments -----\n",
      "Parkinson's Disease    231\n",
      "Healthy Control        113\n",
      "Name: COHORT_DEFINITION, dtype: int64\n"
     ]
    },
    {
     "data": {
      "text/plain": [
       "<matplotlib.legend.Legend at 0x7f6d26ff75e0>"
      ]
     },
     "execution_count": 8,
     "metadata": {},
     "output_type": "execute_result"
    },
    {
     "data": {
      "image/png": "[encoded data removed]",
      "text/plain": [
       "<Figure size 640x480 with 1 Axes>"
      ]
     },
     "metadata": {},
     "output_type": "display_data"
    }
   ],
   "source": [
    "col_date_diff = \"date_diff\"\n",
    "max_date_followup = MAX_DATES[VALIDATION_COHORT]\n",
    "\n",
    "re_followup_compiled = re.compile(REGEX_VISIT_FOLLOWUP)\n",
    "\n",
    "df_age = load_ppmi_csv(utils, FILENAME_AGE)\n",
    "COL_AGE = \"AGE_AT_VISIT\"\n",
    "\n",
    "date_diffs = []\n",
    "\n",
    "# split baseline/screening assessment data\n",
    "df_assessments_baseline = df_assessments_orig.loc[\n",
    "    df_assessments_orig[COL_VISIT_TYPE] == VISIT_BASELINE\n",
    "]\n",
    "df_assessments_screening = df_assessments_orig.loc[\n",
    "    df_assessments_orig[COL_VISIT_TYPE] == VISIT_SCREENING\n",
    "]\n",
    "\n",
    "# try to fill in missing baseline data\n",
    "for idx_row_baseline, row_baseline in df_assessments_baseline.iterrows():\n",
    "\n",
    "    subject = row_baseline[COL_PAT_ID]\n",
    "    date_baseline = row_baseline[COL_DATE_INFO]\n",
    "\n",
    "    # for each score columns\n",
    "    for col in [COL_MOCA]:\n",
    "\n",
    "        # fill missing values with screening data\n",
    "        if pd.isna(row_baseline[col]):\n",
    "\n",
    "            df_screening_subject = df_assessments_screening.loc[\n",
    "                df_assessments_screening[COL_PAT_ID] == subject\n",
    "            ]\n",
    "\n",
    "            # if the subject had multiple screening visits\n",
    "            # we take the one that is closest to the baseline visit\n",
    "            n_screening = len(df_screening_subject)\n",
    "            if n_screening > 1:\n",
    "                df_screening_subject[col_date_diff] = (\n",
    "                    date_baseline - df_screening_subject[COL_DATE_INFO]\n",
    "                )\n",
    "                df_screening_subject = df_screening_subject.sort_values(\n",
    "                    col_date_diff, ascending=True\n",
    "                )\n",
    "\n",
    "            # find corresponding assessment score in screening visits\n",
    "            for idx_row_screening, row_screening in df_screening_subject.iterrows():\n",
    "                new_value = row_screening[col]\n",
    "                date_diff = date_baseline - row_screening[COL_DATE_INFO]\n",
    "                if not pd.isna(new_value):\n",
    "                    break\n",
    "\n",
    "            # replace\n",
    "            if not pd.isna(new_value):\n",
    "                df_assessments_baseline.loc[idx_row_baseline, col] = new_value\n",
    "                date_diffs.append(date_diff.days)  # for plotting\n",
    "\n",
    "# plot baseline-screening date difference\n",
    "date_diffs = pd.Series(date_diffs)\n",
    "ax = date_diffs.hist(\n",
    "    bins=30, alpha=0.7, label=f\"Mean={date_diffs.mean():.2f} days\"\n",
    ")\n",
    "\n",
    "# select follow-up visits\n",
    "df_assessments_followup = df_assessments_orig.loc[\n",
    "    (df_assessments_orig[COL_PAT_ID].isin(df_assessments_baseline[COL_PAT_ID]))\n",
    "    & (\n",
    "        df_assessments_orig[COL_VISIT_TYPE].apply(\n",
    "            lambda v: re_followup_compiled.match(v)\n",
    "        )\n",
    "    )\n",
    "]\n",
    "\n",
    "# keep most recent follow-up data up to retrieval date in original paper\n",
    "df_assessments_followup = filter_date(\n",
    "    df_assessments_followup, max_date=max_date_followup\n",
    ")\n",
    "df_assessments_followup = (\n",
    "    df_assessments_followup.groupby(COL_PAT_ID)\n",
    "    .apply(lambda df: df.sort_values(COL_DATE_INFO, ascending=False).head(1))\n",
    "    .reset_index(drop=True)\n",
    ")\n",
    "\n",
    "# we keep track of subjects who have both baseline and follow-up data\n",
    "# NOTE: for the DBM part, we don't drop subjects who don't have follow-up data,\n",
    "#       but for the classification we will only use subjects with both baseline and follow-up data\n",
    "#       (post-feedback experiments)\n",
    "subjects_with_followup = set(df_assessments_orig[COL_PAT_ID])\n",
    "for df_visit in [df_assessments_baseline, df_assessments_followup]:\n",
    "    subjects_with_followup = subjects_with_followup & set(df_visit[COL_PAT_ID])\n",
    "\n",
    "# combine baseline and follow-up\n",
    "df_assessments_baseline[COL_FOLLOWUP] = False\n",
    "df_assessments_followup[COL_FOLLOWUP] = True\n",
    "df_assessments = pd.concat(\n",
    "    [df_assessments_baseline, df_assessments_followup], axis=\"index\"\n",
    ")\n",
    "\n",
    "# add age\n",
    "df_assessments = df_assessments.merge(\n",
    "    df_age, on=[COL_PAT_ID, COL_VISIT_TYPE], how='left',\n",
    ")\n",
    "\n",
    "# only keep common subjects (pre-feedback method)\n",
    "if pre_feedback:\n",
    "    df_assessments = df_assessments.loc[\n",
    "        df_assessments[COL_PAT_ID].isin(subjects_with_followup)\n",
    "    ]\n",
    "\n",
    "# impute remaining missing MoCA values with the original mean\n",
    "df_assessments.loc[\n",
    "    df_assessments[COL_MOCA].isna(), COL_MOCA\n",
    "] = mean_moca\n",
    "\n",
    "# add status\n",
    "df_assessments[COL_STATUS] = df_status.set_index(COL_PAT_ID).loc[df_assessments[COL_PAT_ID], COL_STATUS].to_list()\n",
    "\n",
    "print('----- With baseline assessments + T1 -----')\n",
    "print(df_assessments.drop_duplicates(COL_PAT_ID)[COL_STATUS].value_counts())\n",
    "print('----- With followup assessments -----')\n",
    "print(df_assessments.loc[df_assessments[COL_PAT_ID].isin(subjects_with_followup)].drop_duplicates(COL_PAT_ID)[COL_STATUS].value_counts())\n",
    "\n",
    "# NOTE: date resolution is months\n",
    "ax.set_title(\"Number of days between baseline and screening visits\")\n",
    "ax.legend()"
   ]
  },
  {
   "attachments": {},
   "cell_type": "markdown",
   "id": "b76d1113",
   "metadata": {},
   "source": [
    "### Final cohorts"
   ]
  },
  {
   "attachments": {},
   "cell_type": "markdown",
   "id": "c4fc95e6",
   "metadata": {},
   "source": [
    "We check the average time between baseline and follow-up visits. In the original paper they report an average of 4.5 years (averaged between the main 3T cohort and a 1.5T validation cohort that we are not reproducing)."
   ]
  },
  {
   "cell_type": "code",
   "execution_count": 9,
   "id": "6213a62e",
   "metadata": {},
   "outputs": [
    {
     "name": "stdout",
     "output_type": "stream",
     "text": [
      "4.630 (± 1.047) years\n"
     ]
    }
   ],
   "source": [
    "df_duration = df_assessments.loc[df_assessments[COL_PAT_ID].isin(subjects_with_followup)].groupby(COL_PAT_ID).apply(\n",
    "    lambda df: (\n",
    "        df.loc[df[COL_FOLLOWUP], COL_DATE_INFO].item()\n",
    "        - df.loc[~df[COL_FOLLOWUP], COL_DATE_INFO].item()\n",
    "    )\n",
    ")\n",
    "\n",
    "print(\n",
    "    f\"{df_duration.mean().days / 365:.3f} \"\n",
    "    f\"(\\u00B1 {df_duration.std().days / 365:.3f}) years\"\n",
    ")"
   ]
  },
  {
   "attachments": {},
   "cell_type": "markdown",
   "id": "d76dfb70",
   "metadata": {},
   "source": [
    "Finally, we create a demographics table similar to the one in the original paper. \n",
    "\n",
    "**NOTE**: This table includes subjects that were later excluded from the analysis due to quality control (QC) failure. Run `paper/tables_and_figures.ipynb` to generate the table with the final cohort."
   ]
  },
  {
   "cell_type": "code",
   "execution_count": 10,
   "id": "2d84ef05",
   "metadata": {},
   "outputs": [
    {
     "name": "stdout",
     "output_type": "stream",
     "text": [
      "(703, 17)\n"
     ]
    }
   ],
   "source": [
    "# add more demographic information to assessments table\n",
    "col_male = \"is_male\"\n",
    "col_cohort = \"cohort\"\n",
    "col_age_diag = \"age_diag\"\n",
    "\n",
    "df_age = load_ppmi_csv(utils, FILENAME_AGE)\n",
    "df_demographics = load_ppmi_csv(utils, FILENAME_DEMOGRAPHICS)\n",
    "df_pd_history = load_ppmi_csv(utils, FILENAME_PD_HISTORY)\n",
    "\n",
    "# sex, birth date, PD diagnosis date\n",
    "df_assessments_with_demographics = df_assessments.merge(\n",
    "    df_demographics[[COL_PAT_ID, COL_SEX, COL_DATE_BIRTH]],\n",
    "    on=[COL_PAT_ID],\n",
    ")\n",
    "\n",
    "df_assessments_with_demographics = df_assessments_with_demographics.merge(\n",
    "    df_pd_history[[COL_PAT_ID, COL_DATE_PD]],\n",
    "    on=[COL_PAT_ID],\n",
    "    how='left',\n",
    ")\n",
    "\n",
    "# compute age at diagnosis\n",
    "df_assessments_with_demographics[col_age_diag] = (\n",
    "    df_assessments_with_demographics[COL_DATE_PD] - df_assessments_with_demographics[COL_DATE_BIRTH]\n",
    ") / np.timedelta64(1, \"Y\")\n",
    "\n",
    "# binary male/female\n",
    "df_assessments_with_demographics[col_male] = (df_assessments_with_demographics[COL_SEX] == SEX_MALE).apply(\n",
    "    lambda v: 100 if v else 0\n",
    ")\n",
    "\n",
    "print(df_assessments_with_demographics.shape)"
   ]
  },
  {
   "cell_type": "code",
   "execution_count": 11,
   "id": "4401f46e",
   "metadata": {},
   "outputs": [
    {
     "data": {
      "text/html": [
       "<div>\n",
       "<style scoped>\n",
       "    .dataframe tbody tr th:only-of-type {\n",
       "        vertical-align: middle;\n",
       "    }\n",
       "\n",
       "    .dataframe tbody tr th {\n",
       "        vertical-align: top;\n",
       "    }\n",
       "\n",
       "    .dataframe thead tr th {\n",
       "        text-align: left;\n",
       "    }\n",
       "</style>\n",
       "<table border=\"1\" class=\"dataframe\">\n",
       "  <thead>\n",
       "    <tr>\n",
       "      <th>cohort</th>\n",
       "      <th colspan=\"2\" halign=\"left\">PD patients (n = 231)</th>\n",
       "    </tr>\n",
       "    <tr>\n",
       "      <th>is_followup</th>\n",
       "      <th>False</th>\n",
       "      <th>True</th>\n",
       "    </tr>\n",
       "  </thead>\n",
       "  <tbody>\n",
       "    <tr>\n",
       "      <th>Age at diagnosis</th>\n",
       "      <td>60.7 (9.3)</td>\n",
       "      <td>60.7 (9.3)</td>\n",
       "    </tr>\n",
       "    <tr>\n",
       "      <th>Male (%)</th>\n",
       "      <td>64.5</td>\n",
       "      <td>64.5</td>\n",
       "    </tr>\n",
       "    <tr>\n",
       "      <th>UPDRS Part II</th>\n",
       "      <td>5.6 (4.0)</td>\n",
       "      <td>10.7 (7.4)</td>\n",
       "    </tr>\n",
       "    <tr>\n",
       "      <th>UPDRS Part III</th>\n",
       "      <td>21.7 (9.1)</td>\n",
       "      <td>23.1 (11.9)</td>\n",
       "    </tr>\n",
       "    <tr>\n",
       "      <th>S&amp;E ADL</th>\n",
       "      <td>93.6 (5.7)</td>\n",
       "      <td>86.2 (11.9)</td>\n",
       "    </tr>\n",
       "    <tr>\n",
       "      <th>UPDRS Part I</th>\n",
       "      <td>5.4 (3.9)</td>\n",
       "      <td>9.4 (6.2)</td>\n",
       "    </tr>\n",
       "    <tr>\n",
       "      <th>MoCA</th>\n",
       "      <td>27.3 (2.2)</td>\n",
       "      <td>26.5 (3.3)</td>\n",
       "    </tr>\n",
       "  </tbody>\n",
       "</table>\n",
       "</div>"
      ],
      "text/plain": [
       "cohort           PD patients (n = 231)             \n",
       "is_followup                      False        True \n",
       "Age at diagnosis            60.7 (9.3)   60.7 (9.3)\n",
       "Male (%)                          64.5         64.5\n",
       "UPDRS Part II                5.6 (4.0)   10.7 (7.4)\n",
       "UPDRS Part III              21.7 (9.1)  23.1 (11.9)\n",
       "S&E ADL                     93.6 (5.7)  86.2 (11.9)\n",
       "UPDRS Part I                 5.4 (3.9)    9.4 (6.2)\n",
       "MoCA                        27.3 (2.2)   26.5 (3.3)"
      ]
     },
     "execution_count": 11,
     "metadata": {},
     "output_type": "execute_result"
    }
   ],
   "source": [
    "def to_1_decimal_str(f):\n",
    "    return str(round(f, 1))\n",
    "\n",
    "# only keep PD subjects with follow-up data\n",
    "df_summary = df_assessments_with_demographics.loc[\n",
    "    (\n",
    "        (df_assessments_with_demographics[COL_STATUS] == STATUS_PD)\n",
    "        & (df_assessments_with_demographics[COL_PAT_ID].isin(subjects_with_followup))\n",
    "    )\n",
    "]\n",
    "\n",
    "# cohort name\n",
    "df_summary[col_cohort] = f\"PD patients (n = {len(df_summary.drop_duplicates(COL_PAT_ID))})\"\n",
    "\n",
    "df_summary = df_summary.drop(columns=[COL_PAT_ID, COL_SEX])\n",
    "\n",
    "df_summary_means = (\n",
    "    df_summary.groupby([col_cohort, COL_FOLLOWUP]).mean().applymap(to_1_decimal_str)\n",
    ")\n",
    "df_summary_stds = (\n",
    "    df_summary.groupby([col_cohort, COL_FOLLOWUP]).std().applymap(to_1_decimal_str)\n",
    ")\n",
    "df_summary_stds = \" (\" + df_summary_stds + \")\"\n",
    "df_summary_stds.loc[:, col_male] = \"\"\n",
    "df_summary_combined = (df_summary_means + df_summary_stds).T\n",
    "df_summary_combined = df_summary_combined.applymap(lambda x: \"-\" if \"nan\" in x else x)\n",
    "df_summary_combined = df_summary_combined.loc[\n",
    "    [col_age_diag, col_male, COL_UPDRS2, COL_UPDRS3, COL_ADL, COL_UPDRS1, COL_MOCA]\n",
    "]\n",
    "df_summary_combined = df_summary_combined.rename(\n",
    "    index={\n",
    "        col_age_diag: \"Age at diagnosis\",\n",
    "        col_male: \"Male (%)\",\n",
    "        COL_UPDRS2: \"UPDRS Part II\",\n",
    "        COL_UPDRS3: \"UPDRS Part III\",\n",
    "        COL_ADL: \"S&E ADL\",\n",
    "        COL_PIGD: \"PIGD\",\n",
    "        COL_UPDRS1: \"UPDRS Part I\",\n",
    "        COL_MOCA: \"MoCA\",\n",
    "    }\n",
    ")\n",
    "df_summary_combined"
   ]
  },
  {
   "attachments": {},
   "cell_type": "markdown",
   "id": "9c1f7f84",
   "metadata": {},
   "source": [
    "The values in the table above are generally similar to those obtained in the original paper, though not exactly the same. We have 231 PD patients, which is very close to the 232 reported in the original paper (before excluding subjects due to QC failure after MRI processing: after QC, the final cohort in the original paper had 222 PD patients). Mean clinical and cognitive assessment scores are generally close to those reported in the original paper, with some exceptions (e.g., UPDRS Parts I and III in the follow-up visits)."
   ]
  },
  {
   "attachments": {},
   "cell_type": "markdown",
   "id": "e1a2c26f",
   "metadata": {},
   "source": [
    "#### Cohort ID"
   ]
  },
  {
   "attachments": {},
   "cell_type": "markdown",
   "id": "083247c4",
   "metadata": {},
   "source": [
    "We generate a cohort ID that uniquely identifies the main/validation cohorts. We will use these IDs to avoid recomputing the same results multiple times."
   ]
  },
  {
   "cell_type": "code",
   "execution_count": 12,
   "id": "985387c7",
   "metadata": {},
   "outputs": [
    {
     "name": "stdout",
     "output_type": "stream",
     "text": [
      "Cohort id: _460520092359662532\n",
      "\tCohort patient IDs + T1 info file already exist\n",
      "\tCohort patient ids + demographics + assessments scores file already exist\n",
      "Do not share these files publicly!\n"
     ]
    }
   ],
   "source": [
    "# get cohort ID\n",
    "cohort_id = livingpark_utils.dataset.ppmi.cohort_id(\n",
    "    df_assessments.drop_duplicates(COL_PAT_ID)\n",
    ")\n",
    "\n",
    "# pre-feedback cohort: 4554467823934740347 (344 subjects)\n",
    "# post-feedback cohort: _460520092359662532 (359 subjects)\n",
    "# author cohort: 1764925582561745833 (346 subjects)\n",
    "print(f\"Cohort id: {cohort_id}\")\n",
    "\n",
    "# save patient IDs + T1 info\n",
    "fpath_cohort = Path(\"dbm\", f\"zeighami-etal-2019-cohort-{cohort_id}.csv\")\n",
    "df_to_save = df_t1_info.loc[df_t1_info[COL_PAT_ID].isin(df_assessments[COL_PAT_ID])]\n",
    "df_to_save[COL_PAT_ID] = df_to_save[COL_PAT_ID].astype(np.int64)\n",
    "if not fpath_cohort.exists():\n",
    "    df_to_save.drop_duplicates().sort_values(by=COL_PAT_ID).to_csv(\n",
    "        fpath_cohort, index=False\n",
    "    )\n",
    "    print(f\"\\tCohort patient IDs + T1 info saved in {fpath_cohort}\")\n",
    "else:\n",
    "    print(f'\\tCohort patient IDs + T1 info file already exist')\n",
    "\n",
    "# save patient IDs + assessment scores\n",
    "fpath_assessments = Path(\"outputs\", f\"assessments-{cohort_id}.csv\")\n",
    "if not fpath_assessments.exists():\n",
    "    df_assessments_with_demographics.to_csv(fpath_assessments, index=False)\n",
    "    print(f\"\\tCohort patient ids + demographics + assessments scores saved in {fpath_assessments}\")\n",
    "else:\n",
    "    print(f'\\tCohort patient ids + demographics + assessments scores file already exist')\n",
    "\n",
    "print(\"Do not share these files publicly!\")"
   ]
  },
  {
   "attachments": {},
   "cell_type": "markdown",
   "id": "d4ffc4af",
   "metadata": {},
   "source": [
    "## MRI data processing"
   ]
  },
  {
   "attachments": {},
   "cell_type": "markdown",
   "id": "cb691c55",
   "metadata": {},
   "source": [
    "The main code for the MRI preprocessing and DBM pipeline is in `<PROJECT_ROOT_DIRECTORY>/dbm/src/dbm.py`. To the best of our knowledge, the author-provided DBM pipeline is only available on the computing server of the Montreal Neurological Institute's Brain Imaging Centre (BIC), hence that pipeline can only be run on the BIC server. \n",
    "\n",
    "The subcommands for `dbm.py` are:\n",
    "* `bids-list`: Generate a list of paths to all available T1s (NIfTI format) in a BIDS dataset.\n",
    "    * *Only needed if using `--from-nifti` (unless `--ppmi-nifti` is also provided) processing option in commands below*\n",
    "* `pre-run`: Convert files from DICOM or NIfTI format to MINC format, and generate an input list for the DBM pipeline. Also makes sure that only one T1 is used per subject.\n",
    "* `run`: Run the DBM pipeline.\n",
    "    * By default this is the author-provided pipeline. Pass `--old` to run the Pre- or Post-feedback reconstructed pipeline (see below).\n",
    "* `post-run`: Mask DBM maps and convert them to NIfTI format. Not needed if `run` was called with `--old`.\n",
    "* `status`: Create a status file (`status[-...].csv`) with the processing status for each step of the pipeline.\n",
    "* `qc`: Symlink the QC images in a flat list for easier viewing.\n",
    "* `tar`: Make a tarball with the DBM files that were successfully processed.\n",
    "\n",
    "All subcommands take a required argument `dpath_dbm`, which will be the analysis directory (can be a new/empty directory) and is expected to be the same across commands. We used a subdirectory in this `git` repository: `<PROJECT_ROOT_DIRECTORY>/dbm`.\n",
    "\n",
    "To run the author-provided pipeline, we need (in order) `pre-run`, `run`, `post-run`, `status`, `qc`, and `tar`. The `--tag` flag can be set to the cohort ID. Other optional arguments/settings are not required. \n",
    "\n",
    "Manual QC should be done after running the `qc` subcommand: copy the `status[-...].csv` file, add the `_qc` suffix, then set the last column as `False` for any subject that fails QC. Then run `tar` with **the full tag string (not just the cohort ID)** passed with `--tag`.\n",
    "\n",
    "To run other variants of the pipeline, we can use the following flags:\n",
    "* `--from-nifti`: Convert NIfTIs to MINC instead of DICOMs directly to MINC.\n",
    "    * `--ppmi-nifti`: Use NIfTIs downloaded directly from PPMI instead of from a BIDS dataset. Must also pass `--from-nifti`.\n",
    "* `--old`: Run the pipeline that was used before obtaining the author-provided pipeline.\n",
    "    * By default this runs the Post-feedback reconstructed pipeline. To run the Pre-feedback reconstructed pipeline, also pass in `--nlr-level 4` and `--dbm-fwhm 8` whenever `--old-pipeline` is passed."
   ]
  },
  {
   "attachments": {},
   "cell_type": "markdown",
   "id": "6c123fce",
   "metadata": {},
   "source": [
    "### Get DBM results and run ICA"
   ]
  },
  {
   "attachments": {},
   "cell_type": "markdown",
   "id": "8624c269",
   "metadata": {},
   "source": [
    "We first generate some paths based on the cohort ID. Since the author-provided pipeline can only be run on the BIC, we assume that this notebook is also being run on the BIC. By default, we assume that that the `dbm` directory is in this `git` repository (i.e., in `<PROJECT_ROOT_DIRECTORY>/dbm`): but the `dpath_dbm` variable in the cell below can be changed if needed."
   ]
  },
  {
   "cell_type": "code",
   "execution_count": 13,
   "id": "408e0968",
   "metadata": {},
   "outputs": [
    {
     "name": "stdout",
     "output_type": "stream",
     "text": [
      "dbm/tarballs/dbm_results-_460520092359662532_qc.tar.gz\n"
     ]
    }
   ],
   "source": [
    "dpath_dbm = 'dbm' # default: 'dbm'\n",
    "\n",
    "if pre_feedback:\n",
    "    tag = f'{cohort_id}_nlr4_dbm8'      # the pre-feedback DBM pipeline had different parameters\n",
    "else:\n",
    "    tag = cohort_id\n",
    "\n",
    "# tag = '4554467823934740347_nlr4_dbm8' # pre-feedback\n",
    "# tag = '_460520092359662532'           # post-feedback\n",
    "# tag = '6874312680158848047'           # closest-to-original\n",
    "# tag = '1764925582561745833'           # original\n",
    "\n",
    "if from_nifti:\n",
    "    tag += '_from_nifti'\n",
    "if old_pipeline:\n",
    "    tag += '_old_pipeline'\n",
    "if qc:\n",
    "    tag += '_qc'\n",
    "\n",
    "if melodic_method is not None and melodic_method is not '':\n",
    "    if melodic_method == 'lap':\n",
    "        melodic_method_tag = '' # 'lap' is the default\n",
    "        melodic_method_flag = ''\n",
    "    else:\n",
    "        melodic_method_tag = f'-{melodic_method}'\n",
    "        if melodic_method in ['bic', 'mdl', 'aic', 'mean']:\n",
    "            melodic_method_flag = f'--dimest={melodic_method}'\n",
    "        else:\n",
    "            try:\n",
    "                int(melodic_method)\n",
    "            except ValueError:\n",
    "                raise ValueError('melodic_method must be an int if it is not one of [\"lap\", \"bic\", \"mdl\", \"aic\", \"mean\"]')\n",
    "            melodic_method_flag = f'--dim={melodic_method}'\n",
    "else:\n",
    "    melodic_method_tag = ''\n",
    "    melodic_method_flag = ''\n",
    "\n",
    "dpath_tarballs = Path(dpath_dbm, 'tarballs')\n",
    "fpath_tarball = dpath_tarballs / f'dbm_results-{tag}.tar.gz'\n",
    "dpath_outputs = Path('outputs', f'outputs-{tag}')\n",
    "dpath_melodic = dpath_outputs / f'melodic_results{melodic_method_tag}'\n",
    "\n",
    "fname_info = 'info.csv'\n",
    "fpath_info = dpath_outputs / fname_info\n",
    "fpath_merged = dpath_outputs / 'dbm_merged.nii.gz'\n",
    "fpath_ICs = dpath_melodic / 'melodic_IC.nii.gz'\n",
    "fpath_scores = dpath_melodic / 'melodic_Tmodes'\n",
    "\n",
    "print(fpath_tarball)\n",
    "assert fpath_tarball.exists(), 'DBM results tarball not found'"
   ]
  },
  {
   "attachments": {},
   "cell_type": "markdown",
   "id": "777a7129",
   "metadata": {},
   "source": [
    "We compute the ICA results using FSL MELODIC (if they haven't been computed yet), then copy them to the `outputs` directory."
   ]
  },
  {
   "cell_type": "code",
   "execution_count": 14,
   "id": "4a09af18",
   "metadata": {},
   "outputs": [
    {
     "name": "stdout",
     "output_type": "stream",
     "text": [
      "env: FPATH_TARBALL=dbm/tarballs/dbm_results-_460520092359662532_qc.tar.gz\n",
      "env: DPATH_OUTPUTS=outputs/outputs-_460520092359662532_qc\n",
      "env: FNAME_INFO=info.csv\n",
      "env: FPATH_INFO=outputs/outputs-_460520092359662532_qc/info.csv\n",
      "env: FPATH_MERGED=outputs/outputs-_460520092359662532_qc/dbm_merged.nii.gz\n",
      "env: DPATH_MELODIC=outputs/outputs-_460520092359662532_qc/melodic_results-30\n",
      "env: MELODIC_METHOD_FLAG=--dim=30\n",
      "env: FPATH_ICS=outputs/outputs-_460520092359662532_qc/melodic_results-30/melodic_IC.nii.gz\n",
      "env: FPATH_SCORES=outputs/outputs-_460520092359662532_qc/melodic_results-30/melodic_Tmodes\n"
     ]
    }
   ],
   "source": [
    "%env FPATH_TARBALL=$fpath_tarball\n",
    "%env DPATH_OUTPUTS=$dpath_outputs\n",
    "%env FNAME_INFO=$fname_info\n",
    "%env FPATH_INFO=$fpath_info\n",
    "%env FPATH_MERGED=$fpath_merged\n",
    "%env DPATH_MELODIC=$dpath_melodic\n",
    "%env MELODIC_METHOD_FLAG=$melodic_method_flag\n",
    "%env FPATH_ICS=$fpath_ICs\n",
    "%env FPATH_SCORES=$fpath_scores"
   ]
  },
  {
   "cell_type": "code",
   "execution_count": 15,
   "id": "d6dacc3d",
   "metadata": {},
   "outputs": [
    {
     "name": "stdout",
     "output_type": "stream",
     "text": [
      "ICA results already exist, skipping!\n"
     ]
    }
   ],
   "source": [
    "%%bash\n",
    "\n",
    "FPATH_CONTAINER=\"dbm/nd-minc_1_9_16-fsl_5_0_11-click_livingpark_pandas_pybids.sif\"\n",
    "DPATH_TMP=$(mktemp -d '/tmp/zeighami-etal-2019_ica-XXXXX')\n",
    "\n",
    "PWD=`pwd`\n",
    "\n",
    "FPATH_CONTAINER=\"$PWD/$FPATH_CONTAINER\"\n",
    "FPATH_TARBALL=\"$PWD/$FPATH_TARBALL\"\n",
    "DPATH_OUTPUTS=\"$PWD/$DPATH_OUTPUTS\"\n",
    "FPATH_INFO=\"$PWD/$FPATH_INFO\"\n",
    "FPATH_MERGED=\"$PWD/$FPATH_MERGED\"\n",
    "DPATH_MELODIC=\"$PWD/$DPATH_MELODIC\"\n",
    "\n",
    "if [ -f $FPATH_INFO ] && [ -f $FPATH_MERGED ] && [ -f $FPATH_ICS ] \n",
    "then\n",
    "    echo \"ICA results already exist, skipping!\"\n",
    "else\n",
    "\n",
    "    mkdir -p $DPATH_OUTPUTS\n",
    "    mkdir -p $DPATH_TMP\n",
    "\n",
    "    # untar zipped DBM files\n",
    "    tar -xzf $FPATH_TARBALL -C $DPATH_TMP\n",
    "\n",
    "    # info file containes filenames and subject/sessions\n",
    "    cp $DPATH_TMP/$FNAME_INFO $FPATH_INFO\n",
    "\n",
    "    COMMAND_SINGULARITY=\" \\\n",
    "        singularity run \\\n",
    "            --bind $FPATH_TARBALL:$FPATH_TARBALL:ro \\\n",
    "            --bind $DPATH_OUTPUTS:$DPATH_OUTPUTS \\\n",
    "            $FPATH_CONTAINER \\\n",
    "    \"\n",
    "\n",
    "    # build list of files to merge\n",
    "    FILENAMES=`awk -F, 'NR>1 { print $3 }' $FPATH_INFO`\n",
    "    COMMAND_MERGE=\"${COMMAND_SINGULARITY} fslmerge -t $FPATH_MERGED\"\n",
    "    for FILENAME in $FILENAMES\n",
    "    do\n",
    "        COMMAND_MERGE=\"$COMMAND_MERGE $DPATH_TMP/$FILENAME\"\n",
    "    done\n",
    "\n",
    "    COMMAND_INFO=\"${COMMAND_SINGULARITY} fslinfo $FPATH_MERGED\"\n",
    "\n",
    "    COMMAND_ICA=\"${COMMAND_SINGULARITY} \\\n",
    "        melodic \\\n",
    "        -i $FPATH_MERGED \\\n",
    "        -o $DPATH_MELODIC \\\n",
    "        $MELODIC_METHOD_FLAG \\\n",
    "        --Oall \\\n",
    "        --report \\\n",
    "        -v \\\n",
    "    \"\n",
    "\n",
    "    eval $COMMAND_MERGE\n",
    "    rm -rf $DPATH_TMP\n",
    "\n",
    "    eval $COMMAND_INFO\n",
    "    eval $COMMAND_ICA\n",
    "\n",
    "fi"
   ]
  },
  {
   "attachments": {},
   "cell_type": "markdown",
   "id": "878f3d92",
   "metadata": {},
   "source": [
    "## PD-ICA component"
   ]
  },
  {
   "attachments": {},
   "cell_type": "markdown",
   "id": "aca453a4",
   "metadata": {},
   "source": [
    "We load/compute the ICA scores (1 score per IC per subject)."
   ]
  },
  {
   "cell_type": "code",
   "execution_count": 16,
   "id": "630dbe54",
   "metadata": {},
   "outputs": [
    {
     "name": "stdout",
     "output_type": "stream",
     "text": [
      "30 ICs\n",
      "354 participants:\n",
      "Parkinson's Disease    238\n",
      "Healthy Control        116\n",
      "Name: COHORT_DEFINITION, dtype: int64\n"
     ]
    }
   ],
   "source": [
    "import nibabel as nib\n",
    "\n",
    "if not pre_feedback:\n",
    "    df_scores = pd.read_csv(fpath_scores, delim_whitespace=True, header=None)\n",
    "else:\n",
    "    # pre-feedback method\n",
    "    threshold_ica = 3\n",
    "\n",
    "    fpath_old_scores = dpath_melodic / f'old_scores-threshold{threshold_ica}.csv'\n",
    "    if not fpath_old_scores.exists():\n",
    "        img_ICs = nib.load(fpath_ICs)\n",
    "        img_merged = nib.load(fpath_merged)\n",
    "\n",
    "        n_components = img_ICs.shape[-1]\n",
    "        n_subjects = img_merged.shape[-1]\n",
    "\n",
    "        data_ICs = img_ICs.get_fdata()\n",
    "        data_merged = img_merged.get_fdata()\n",
    "\n",
    "        data_scores = []\n",
    "        print('Computing ICA scores', end='')\n",
    "        for i_component in range(n_components):\n",
    "            print('.', end='')\n",
    "            data_IC = data_ICs[:, :, :, i_component]\n",
    "            mask_IC = np.where(data_IC >= threshold_ica, 1, 0)[:, :, :, np.newaxis]\n",
    "            data_merged_masked_IC = data_merged * mask_IC\n",
    "            IC_scores = data_merged_masked_IC.reshape(-1, n_subjects).mean(axis=0)\n",
    "            data_scores.append(IC_scores)\n",
    "        print('')\n",
    "\n",
    "        df_scores = pd.DataFrame(data_scores).T\n",
    "        df_scores.to_csv(fpath_old_scores, index=False, header=False)\n",
    "    else:\n",
    "        df_scores = pd.read_csv(fpath_old_scores, header=None)\n",
    "\n",
    "subjects = pd.read_csv(fpath_info)['subject'].to_list()\n",
    "\n",
    "df_scores.columns = [f'IC{i+1}' for i in range(df_scores.shape[1])]\n",
    "df_scores.index = subjects\n",
    "\n",
    "df_scores_status = df_scores.copy() # show status instead of ID\n",
    "df_scores_status.index = df_status.set_index(COL_PAT_ID).loc[subjects, COL_STATUS].reset_index(drop=True)\n",
    "\n",
    "print(f'{df_scores_status.shape[1]} ICs')\n",
    "print(f'{df_scores_status.shape[0]} participants:')\n",
    "print(df_scores_status.index.value_counts())"
   ]
  },
  {
   "attachments": {},
   "cell_type": "markdown",
   "id": "c043c03a",
   "metadata": {},
   "source": [
    "We compute the p-value for each IC using 2-sample t-tests. We apply Bonferroni correction for multiple comparisons."
   ]
  },
  {
   "cell_type": "code",
   "execution_count": 17,
   "id": "995aba01",
   "metadata": {},
   "outputs": [
    {
     "name": "stdout",
     "output_type": "stream",
     "text": [
      "IC11    0.048054\n",
      "IC26    0.499052\n",
      "IC9     0.750692\n",
      "IC1     1.000000\n",
      "IC28    1.000000\n",
      "IC27    1.000000\n",
      "IC25    1.000000\n",
      "IC24    1.000000\n",
      "IC23    1.000000\n",
      "IC22    1.000000\n",
      "IC21    1.000000\n",
      "IC20    1.000000\n",
      "IC19    1.000000\n",
      "IC18    1.000000\n",
      "IC17    1.000000\n",
      "IC15    1.000000\n",
      "IC29    1.000000\n",
      "IC14    1.000000\n",
      "IC13    1.000000\n",
      "IC12    1.000000\n",
      "IC10    1.000000\n",
      "IC8     1.000000\n",
      "IC7     1.000000\n",
      "IC6     1.000000\n",
      "IC5     1.000000\n",
      "IC4     1.000000\n",
      "IC3     1.000000\n",
      "IC2     1.000000\n",
      "IC16    1.000000\n",
      "IC30    1.000000\n",
      "dtype: float64\n"
     ]
    }
   ],
   "source": [
    "import numpy as np\n",
    "from scipy.stats import ttest_ind\n",
    "\n",
    "if pre_feedback:\n",
    "    t_test_alternative = \"two-sided\"\n",
    "else:\n",
    "    t_test_alternative = \"less\"\n",
    "\n",
    "p_values = pd.Series(\n",
    "    ttest_ind(\n",
    "        df_scores_status.loc[\"Parkinson's Disease\"],\n",
    "        df_scores_status.loc[\"Healthy Control\"],\n",
    "        alternative=t_test_alternative,\n",
    "    )[1],\n",
    "    index=df_scores_status.columns.to_list()\n",
    ")\n",
    "\n",
    "i_components_sorted = np.argsort(list(p_values))\n",
    "p_values_corrected = np.minimum(1, p_values * len(p_values)) # Bonferroni correction\n",
    "\n",
    "print(p_values_corrected.sort_values())"
   ]
  },
  {
   "attachments": {},
   "cell_type": "markdown",
   "id": "ec09500a",
   "metadata": {},
   "source": [
    "We plot the ICA score distributions for the PD patients and the healthy controls for the IC with the lowest p-value (\"top IC\"):"
   ]
  },
  {
   "cell_type": "code",
   "execution_count": 18,
   "id": "b22eabca",
   "metadata": {},
   "outputs": [
    {
     "data": {
      "text/plain": [
       "<Axes: xlabel='IC11', ylabel='Count'>"
      ]
     },
     "execution_count": 18,
     "metadata": {},
     "output_type": "execute_result"
    },
    {
     "data": {
      "image/png": "[encoded data removed]",
      "text/plain": [
       "<Figure size 640x480 with 1 Axes>"
      ]
     },
     "metadata": {},
     "output_type": "display_data"
    }
   ],
   "source": [
    "import seaborn as sns\n",
    "sns.histplot(\n",
    "    df_scores_status.reset_index(),\n",
    "    x=p_values_corrected.sort_values().index[0],\n",
    "    hue=COL_STATUS,\n",
    ")"
   ]
  },
  {
   "attachments": {},
   "cell_type": "markdown",
   "id": "3d0d78b7",
   "metadata": {},
   "source": [
    "Now we plot the top IC we obtained and IC obtained in the original study (PD-ICA). The values plotted are the z-statistics computed by MELODIC through a normalized mixture–model fitting procedure."
   ]
  },
  {
   "cell_type": "code",
   "execution_count": 19,
   "id": "b07b4655",
   "metadata": {},
   "outputs": [],
   "source": [
    "from nilearn import image, plotting\n",
    "import nibabel as nib\n",
    "\n",
    "fname_zeighami_ic = 'melodic_IC_0007.nii.gz'\n",
    "\n",
    "def plot_IC(fpath, i_component=None, threshold=2.5, display_mode=\"z\", cut_coords=None, title=None, return_img=False):\n",
    "    img = nib.load(fpath)\n",
    "    if i_component is not None:\n",
    "        img = image.index_img(img, i_component)\n",
    "    display = plotting.plot_stat_map(\n",
    "        img, threshold=threshold, display_mode=display_mode, cut_coords=cut_coords, title=title,\n",
    "    )\n",
    "    if return_img:\n",
    "        return display, img\n",
    "    return display"
   ]
  },
  {
   "cell_type": "code",
   "execution_count": 20,
   "id": "7d18bc90",
   "metadata": {},
   "outputs": [
    {
     "name": "stdout",
     "output_type": "stream",
     "text": [
      "env: FNAME_ZEIGHAMI_IC=melodic_IC_0007.nii.gz\n"
     ]
    }
   ],
   "source": [
    "%env FNAME_ZEIGHAMI_IC=$fname_zeighami_ic"
   ]
  },
  {
   "cell_type": "code",
   "execution_count": 21,
   "id": "d10f22c0",
   "metadata": {},
   "outputs": [
    {
     "name": "stdout",
     "output_type": "stream",
     "text": [
      "ICA file (from original study) already exists, skipping download\n"
     ]
    }
   ],
   "source": [
    "%%bash\n",
    "if [ ! -f ${FNAME_ZEIGHAMI_IC} ]\n",
    "then\n",
    "    wget \"https://neurovault.org/media/images/860/${FNAME_ZEIGHAMI_IC}\"\n",
    "else\n",
    "    echo 'ICA file (from original study) already exists, skipping download'\n",
    "fi"
   ]
  },
  {
   "cell_type": "code",
   "execution_count": 22,
   "id": "b082790f",
   "metadata": {},
   "outputs": [
    {
     "name": "stdout",
     "output_type": "stream",
     "text": [
      "IC11    0.048054\n",
      "dtype: float64\n"
     ]
    },
    {
     "data": {
      "image/png": "[encoded data removed]",
      "text/plain": [
       "<Figure size 1610x230 with 9 Axes>"
      ]
     },
     "metadata": {},
     "output_type": "display_data"
    },
    {
     "data": {
      "image/png": "[encoded data removed]",
      "text/plain": [
       "<Figure size 1610x230 with 9 Axes>"
      ]
     },
     "metadata": {},
     "output_type": "display_data"
    }
   ],
   "source": [
    "i_component_sorted = 0\n",
    "i_component_pd_ica = i_components_sorted[i_component_sorted]\n",
    "print(p_values_corrected.iloc[[i_component_pd_ica]])\n",
    "\n",
    "cut_coords = [-28, -10, 4, 16, 32, 54, 68]\n",
    "fig_ica_rep, img_ica_rep = plot_IC(fpath_ICs, i_component=i_component_pd_ica, cut_coords=cut_coords, title='reproduction', return_img=True)\n",
    "fig_ica_ori, img_ica_ori = plot_IC(fname_zeighami_ic, cut_coords=cut_coords, title='original', return_img=True)"
   ]
  },
  {
   "attachments": {},
   "cell_type": "markdown",
   "id": "7872680a",
   "metadata": {},
   "source": [
    "## Association with PD progression"
   ]
  },
  {
   "attachments": {},
   "cell_type": "markdown",
   "id": "632ab5af",
   "metadata": {},
   "source": [
    "### Global composite outcome (GCO) measure"
   ]
  },
  {
   "attachments": {},
   "cell_type": "markdown",
   "id": "bf30eec6",
   "metadata": {},
   "source": [
    "The global composite outcome is the average of the z-scores of the other measures (UPDRS Parts I/II/III, Modified Schwab and England ADL scale, and MoCA). Following the original paper, we use the mean and standard deviation of the baseline session to compute the z-scores. "
   ]
  },
  {
   "cell_type": "code",
   "execution_count": 23,
   "id": "bd5603cc",
   "metadata": {},
   "outputs": [
    {
     "name": "stdout",
     "output_type": "stream",
     "text": [
      "Inital:\t\t(462, 16)\n",
      "Have DBM:\t(454, 16)\n",
      "Mean GCO:\t\t\t0.08161557654009305\n",
      "Standard deviation of GCO:\t0.5121604664696806\n"
     ]
    }
   ],
   "source": [
    "# only include PD patients with follow-up data\n",
    "df_assessments_classification = df_assessments_with_demographics.loc[\n",
    "    (\n",
    "        (df_assessments_with_demographics[COL_STATUS] == STATUS_PD)\n",
    "        & (df_assessments_with_demographics[COL_PAT_ID].isin(subjects_with_followup))\n",
    "    )\n",
    "].set_index(COL_PAT_ID)\n",
    "print(f'Inital:\\t\\t{df_assessments_classification.shape}')\n",
    "\n",
    "# only keep subjects with DBM\n",
    "df_assessments_classification = df_assessments_classification.loc[\n",
    "    df_assessments_classification.index.isin(df_scores.index)\n",
    "]\n",
    "print(f'Have DBM:\\t{df_assessments_classification.shape}')\n",
    "\n",
    "# sanity check: each subject should have 2 rows\n",
    "assert df_assessments_classification.reset_index().drop_duplicates(COL_PAT_ID).shape[0] == (df_assessments_classification.shape[0] // 2)\n",
    "\n",
    "# compute the GCO\n",
    "df_assessments_classification_baseline = df_assessments_classification.loc[\n",
    "    ~df_assessments_classification[COL_FOLLOWUP], \n",
    "    COLS_SCORES_WITHOUT_GCO,\n",
    "]\n",
    "gco_means = df_assessments_classification_baseline.mean()\n",
    "gco_stds = df_assessments_classification_baseline.std()\n",
    "gco = ((df_assessments_classification[COLS_SCORES_WITHOUT_GCO] - gco_means) / gco_stds).mean(\n",
    "    axis=\"columns\"\n",
    ")\n",
    "df_assessments_classification[COL_GCO] = gco\n",
    "\n",
    "print(f'Mean GCO:\\t\\t\\t{df_assessments_classification[COL_GCO].mean()}')\n",
    "print(f'Standard deviation of GCO:\\t{df_assessments_classification[COL_GCO].std()}')\n",
    "\n",
    "# df_assessments_classification"
   ]
  },
  {
   "attachments": {},
   "cell_type": "markdown",
   "id": "06e2400b",
   "metadata": {},
   "source": [
    "We will attempt to classify whether the GCO at follow-up visits increased by more then 0.5 standard deviations from baseline visits. This is a binary measure."
   ]
  },
  {
   "cell_type": "code",
   "execution_count": 24,
   "id": "0d853e6c",
   "metadata": {},
   "outputs": [
    {
     "name": "stdout",
     "output_type": "stream",
     "text": [
      "Baseline: (227,)\n",
      "Followup: (227,)\n",
      "Baseline SD: 0.43038180139919296\n",
      "Age: (227,)\n",
      "--------------------\n",
      "Increase by >= 0.5 SD:\n",
      "False    128\n",
      "True      99\n",
      "Name: GCO, dtype: int64\n"
     ]
    }
   ],
   "source": [
    "threshold = 0.5\n",
    "\n",
    "# target variable is whether GCO increased by > threshold*SD from baseline\n",
    "age_baseline = df_assessments_classification.loc[~df_assessments_classification[COL_FOLLOWUP], COL_AGE]\n",
    "gco_baseline = df_assessments_classification.loc[~df_assessments_classification[COL_FOLLOWUP], COL_GCO]\n",
    "gco_followup = df_assessments_classification.loc[df_assessments_classification[COL_FOLLOWUP], COL_GCO]\n",
    "\n",
    "# only keep subjects with followup data\n",
    "gco_baseline = gco_baseline.loc[gco_followup.index]\n",
    "print(f'Baseline: {gco_baseline.shape}')\n",
    "print(f'Followup: {gco_followup.shape}')\n",
    "gco_baseline_std = gco_baseline.std()\n",
    "print(f'Baseline SD: {gco_baseline_std}')\n",
    "\n",
    "age_baseline = age_baseline.loc[gco_baseline.index]\n",
    "print(f'Age: {age_baseline.shape}')\n",
    "\n",
    "gco_thresholds = gco_baseline + threshold*gco_baseline_std\n",
    "\n",
    "gco_increase_binary = (gco_followup >= gco_thresholds)\n",
    "print('-'*20)\n",
    "print(f'Increase by >= {threshold} SD:')\n",
    "print(gco_increase_binary.value_counts(dropna=False))\n"
   ]
  },
  {
   "attachments": {},
   "cell_type": "markdown",
   "id": "57b5dc24",
   "metadata": {},
   "source": [
    "We plot the distribution of the GCO difference between baseline and follow-up visits."
   ]
  },
  {
   "cell_type": "code",
   "execution_count": 25,
   "id": "8fc8aecd",
   "metadata": {},
   "outputs": [
    {
     "data": {
      "text/plain": [
       "<Axes: >"
      ]
     },
     "execution_count": 25,
     "metadata": {},
     "output_type": "execute_result"
    },
    {
     "data": {
      "image/png": "[encoded data removed]",
      "text/plain": [
       "<Figure size 640x480 with 1 Axes>"
      ]
     },
     "metadata": {},
     "output_type": "display_data"
    }
   ],
   "source": [
    "gco_diff = (gco_followup - gco_baseline)\n",
    "((gco_diff - gco_diff.mean())/gco_diff.std()).hist()"
   ]
  },
  {
   "attachments": {},
   "cell_type": "markdown",
   "id": "02edd03d",
   "metadata": {},
   "source": [
    "### Classification"
   ]
  },
  {
   "attachments": {},
   "cell_type": "markdown",
   "id": "d914f28e",
   "metadata": {},
   "source": [
    "We use the `LogisticRegression` model from the Scikit-learn library to perform the classification, and we compute the AUC obtained by the model. As in the original paper, we regress out participants' age from the ICA scores. We use a permutation test to obtain a p-value for the AUC."
   ]
  },
  {
   "cell_type": "code",
   "execution_count": 26,
   "id": "2a181e13",
   "metadata": {},
   "outputs": [
    {
     "name": "stdout",
     "output_type": "stream",
     "text": [
      "Loaded AUC results from outputs/results-_460520092359662532_qc-30.pkl\n",
      "\n",
      "AUC for IC11 (PD-ICA): 0.5364188762626263\n",
      "Permutation test p-value: 0.033\n"
     ]
    }
   ],
   "source": [
    "import pickle\n",
    "from sklearn.model_selection import cross_val_predict, StratifiedKFold\n",
    "from sklearn.linear_model import LogisticRegression, LinearRegression\n",
    "from sklearn.metrics import roc_auc_score\n",
    "from numpy.random import default_rng\n",
    "\n",
    "seed = 3791\n",
    "rng = default_rng(seed=seed)\n",
    "\n",
    "n_folds = 10\n",
    "# cv = n_folds\n",
    "cv = StratifiedKFold(n_folds)\n",
    "n_permutations = 1000\n",
    "\n",
    "def get_auc(X, y, cv, permute=False, rng=None):\n",
    "\n",
    "    if permute:\n",
    "        if rng is None:\n",
    "            raise ValueError(f'rng must be provided if permute=True')\n",
    "        y = rng.permutation(y)\n",
    "\n",
    "    y_pred = cross_val_predict(LogisticRegression(), X, y, cv=cv)\n",
    "    auc = roc_auc_score(y, y_pred)\n",
    "    return auc\n",
    "\n",
    "fpath_results = Path('outputs', f'results-{tag}{melodic_method_tag}.pkl')\n",
    "\n",
    "# if results already exist, load them instead of re-computing them\n",
    "results_exist = False\n",
    "if fpath_results.exists():\n",
    "    with fpath_results.open('rb') as file_results:\n",
    "        results = pickle.load(file_results)\n",
    "    if results['seed'] == seed and results['n_permutations'] == n_permutations:\n",
    "        auc = results['auc']\n",
    "        auc_p_value = results['auc_p_value']\n",
    "        print(f'Loaded AUC results from {fpath_results}\\n')\n",
    "        results_exist = True\n",
    "\n",
    "component_pd_ica = df_scores.columns[i_component_pd_ica]\n",
    "y = gco_increase_binary # needed in pickle file\n",
    "\n",
    "if not results_exist:\n",
    "\n",
    "    # keep subjects that didn't fail ICA\n",
    "    subjects_keep = sorted(list(set(gco_increase_binary.index)))\n",
    "\n",
    "    # X = pd.concat([df_scores.loc[y.index].iloc[:, i_component], age_baseline], axis='columns')\n",
    "    X = df_scores.loc[y.index].loc[:, [component_pd_ica]]\n",
    "\n",
    "    # regress out age\n",
    "    X_explained_by_age = LinearRegression().fit(X, age_baseline).predict(X).reshape(-1, 1)\n",
    "    X -= X_explained_by_age\n",
    "\n",
    "    # print(f'X: {X.shape}')\n",
    "    # print(f'y: {y.shape}')\n",
    "\n",
    "    auc = get_auc(X, y, cv)\n",
    "\n",
    "    aucs_null = np.array([get_auc(X, y, cv, permute=True, rng=rng) for _ in range(n_permutations)])\n",
    "    auc_p_value = (aucs_null >= auc).mean()\n",
    "\n",
    "print(f'AUC for {component_pd_ica} (PD-ICA): {auc}')\n",
    "print(f'Permutation test p-value: {auc_p_value}')"
   ]
  },
  {
   "attachments": {},
   "cell_type": "markdown",
   "id": "0ddb1276",
   "metadata": {},
   "source": [
    "Finally, we save our results in a Python pickle so that they can be easily accessed by other notebooks/scripts for generating tables and figures."
   ]
  },
  {
   "cell_type": "code",
   "execution_count": 27,
   "id": "50ed8660",
   "metadata": {},
   "outputs": [
    {
     "name": "stdout",
     "output_type": "stream",
     "text": [
      "tag                          \t\t_460520092359662532_qc\n",
      "melodic_method               \t\t30\n",
      "qc                           \t\tTrue\n",
      "from_nifti                   \t\tFalse\n",
      "old_pipeline                 \t\tFalse\n",
      "pre_feedback                 \t\tFalse\n",
      "i_component                  \t\t10\n",
      "component_name               \t\tIC11\n",
      "img_component                \t\t<Nifti1Image(99, 117, 99)>\n",
      "ica_corr                     \t\t0.7602020173890253\n",
      "ica_p_value                  \t\t0.0016017924417150557\n",
      "ica_p_value_corrected        \t\t0.04805377325145167\n",
      "auc                          \t\t0.5364188762626263\n",
      "auc_p_value                  \t\t0.033\n",
      "n_permutations               \t\t1000\n",
      "seed                         \t\t3791\n",
      "subjects_dbm                 \t\t<354 subjects>\n",
      "subjects_classification      \t\t<227 subjects>\n",
      "fpath_assessments            \t\t/data/origami/livingpark/zeighami-etal-2019/.cache/outputs/assessments-_460520092359662532.csv\n",
      "df_assessments_classification\t\t<pd.DataFrame(454, 18)>\n",
      "Result file already exists\n"
     ]
    }
   ],
   "source": [
    "# save results\n",
    "import pickle\n",
    "import nibabel as nib\n",
    "from nilearn.image import resample_to_img\n",
    "\n",
    "img_ica_ori_resampled = resample_to_img(img_ica_ori, img_ica_rep)\n",
    "ica_corr = np.corrcoef(\n",
    "    img_ica_ori_resampled.get_fdata().flatten(),\n",
    "    img_ica_rep.get_fdata().flatten(),\n",
    ")[0, 1]\n",
    "\n",
    "experiment_results = {\n",
    "    'tag': tag,\n",
    "    'melodic_method': melodic_method,\n",
    "    'qc': qc,\n",
    "    'from_nifti': from_nifti,\n",
    "    'old_pipeline': old_pipeline,\n",
    "    'pre_feedback': pre_feedback,\n",
    "    'i_component': i_component_pd_ica,\n",
    "    'component_name': df_scores.columns[i_component_pd_ica],\n",
    "    'img_component': img_ica_rep,\n",
    "    'ica_corr': ica_corr,\n",
    "    'ica_p_value': p_values.iloc[i_component_pd_ica],\n",
    "    'ica_p_value_corrected': p_values_corrected.iloc[i_component_pd_ica],\n",
    "    'auc': auc,\n",
    "    'auc_p_value': auc_p_value,\n",
    "    'n_permutations': n_permutations,\n",
    "    'seed': seed,\n",
    "    'subjects_dbm': subjects,\n",
    "    'subjects_classification': y.index.to_list(),\n",
    "    'fpath_assessments': fpath_assessments.resolve(),\n",
    "    'df_assessments_classification': df_assessments_classification.reset_index(),\n",
    "}\n",
    "\n",
    "fill_width = max(len(key) for key in experiment_results.keys())\n",
    "for key, value in experiment_results.items():\n",
    "    if isinstance(value, nib.nifti1.Nifti1Image):\n",
    "        value = f'<Nifti1Image{value.shape}>'\n",
    "    elif isinstance(value, pd.DataFrame):\n",
    "        value = f'<pd.DataFrame{value.shape}>'\n",
    "    elif 'subjects' in key:\n",
    "        value = f'<{len(value)} subjects>'\n",
    "    print(f'{key.ljust(fill_width)}\\t\\t{value}')\n",
    "\n",
    "if not fpath_results.exists():\n",
    "    with fpath_results.open('wb') as file_results:\n",
    "        pickle.dump(experiment_results, file_results)\n",
    "        print(f'\\nResults saved to {fpath_results}')\n",
    "else:\n",
    "    print('\\nResult file already exists')"
   ]
  }
 ],
 "metadata": {
  "kernelspec": {
   "display_name": "Python 3.10.6 ('livingpark')",
   "language": "python",
   "name": "python3"
  },
  "language_info": {
   "codemirror_mode": {
    "name": "ipython",
    "version": 3
   },
   "file_extension": ".py",
   "mimetype": "text/x-python",
   "name": "python",
   "nbconvert_exporter": "python",
   "pygments_lexer": "ipython3",
   "version": "3.10.9"
  },
  "vscode": {
   "interpreter": {
    "hash": "7c1dce6928164983c9394696a67460054b2345bd05d18f1e86972521ab8096b4"
   }
  }
 },
 "nbformat": 4,
 "nbformat_minor": 5
}
