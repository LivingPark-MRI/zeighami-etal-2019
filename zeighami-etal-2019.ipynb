{
 "cells": [
  {
   "cell_type": "markdown",
   "id": "589d0f2d",
   "metadata": {},
   "source": [
    "# Replication: Zeighami *et al*, 2019"
   ]
  },
  {
   "cell_type": "markdown",
   "id": "6ffe77a0",
   "metadata": {},
   "source": [
    "## Introduction"
   ]
  },
  {
   "cell_type": "markdown",
   "id": "4974727a",
   "metadata": {},
   "source": [
    "This notebook attempts to reproduce the following paper (which uses the [PPMI](http://ppmi-info.org) dataset):\n",
    "\n",
    "<div class=\"alert alert-block alert-success\">\n",
    "Zeighami, Yashar, et al. <a href=https://doi.org/10.1016/j.nicl.2019.101986>Assessment of a prognostic MRI biomarker in early de novo Parkinson's disease.</a> NeuroImage: Clinical 24 (2019): 101986.\n",
    "</div>"
   ]
  },
  {
   "cell_type": "markdown",
   "id": "9ab29940",
   "metadata": {
    "slideshow": {
     "slide_type": "fragment"
    }
   },
   "source": [
    "This study used longitudinal MRI data from 362 patients with de novo PD (i.e., patients not yet taking any medication) and 112 healthy controls. Subjects were split into a main cohort with 3T MRI scans (N=222) and a validation cohort with 1.5T MRI scans (N=140). \n",
    "\n",
    "The demographics parameters for the PD patients were as follows (table extracted from the paper):\n",
    "\n",
    "<img src=\"images/demographics.png\" width=800/>"
   ]
  },
  {
   "cell_type": "markdown",
   "id": "a51402f7",
   "metadata": {},
   "source": [
    "This paper used a method introduced in [Zeighami *et al* (2015)](https://doi.org/10.7554/eLife.08440) consisting of applying Independent Component Analysis (ICA) to Deformation-Based Morphometry (DBM) maps to identify an atrophy network related to PD. The main result is atrophy measures from this PD network is significantly correlated with disease progression as measured by differences in clinical and/or cognitive scores between the baseline visit and the most recent follow-up visit. This is illustrated in the top row of the following table (extracted from the paper):\n",
    "\n",
    "<img src=\"images/results_correlations.png\" width=600/>"
   ]
  },
  {
   "cell_type": "markdown",
   "id": "ac976672",
   "metadata": {},
   "source": [
    "The authors also showed that the PD-related atrophy score can be used to identify patients who have a 1.5 standard deviation change in the global composite outcome (a measure they defined) between baseline and follow-up visits. The PD-related atrophy biomarker achieved an area under the receiver operating characteristics curve (ROC) of 0.63, out-performing other biomarkers, as shown in the figure below (extracted from the paper):\n",
    "\n",
    "<img src=\"images/results_AUC.png\" width=500/>"
   ]
  },
  {
   "cell_type": "markdown",
   "id": "f95f073d",
   "metadata": {},
   "source": [
    "The remainder of this notebook is an attempt to reproduce these results using the same PPMI dataset."
   ]
  },
  {
   "cell_type": "markdown",
   "id": "814499f3",
   "metadata": {},
   "source": [
    "## Initial setup"
   ]
  },
  {
   "cell_type": "markdown",
   "id": "d651b5b5",
   "metadata": {},
   "source": [
    "We first initialize the notebook cache and install dependencies:"
   ]
  },
  {
   "cell_type": "code",
   "execution_count": 1,
   "id": "02299e19-57c8-4cfe-9419-4dedd9cb1941",
   "metadata": {},
   "outputs": [
    {
     "name": "stdout",
     "output_type": "stream",
     "text": [
      "removing link inputs\n",
      "removing link outputs\n",
      "Installing notebook dependencies (see log in install.log)... \n",
      "This notebook was run on 2022-10-06 17:02:47 UTC +0000\n"
     ]
    },
    {
     "data": {
      "text/html": [
       "<script>\n",
       "    code_show = true;\n",
       "    function code_toggle() {\n",
       "        if (code_show) {\n",
       "            $(\"div.input\").hide();\n",
       "        } else {\n",
       "            $(\"div.input\").show();\n",
       "        }\n",
       "        code_show = !code_show\n",
       "    }\n",
       "    $(document).ready(code_toggle);\n",
       "</script>\n",
       "<form action=\"javascript:code_toggle()\">\n",
       "    <input type=\"submit\" value=\"Click here to toggle on/off the Python code.\">\n",
       "</form>\n"
      ],
      "text/plain": [
       "<IPython.core.display.HTML object>"
      ]
     },
     "execution_count": 1,
     "metadata": {},
     "output_type": "execute_result"
    }
   ],
   "source": [
    "import livingpark_utils\n",
    "\n",
    "utils = livingpark_utils.LivingParkUtils()\n",
    "utils.notebook_init()"
   ]
  },
  {
   "cell_type": "markdown",
   "id": "fa11f984",
   "metadata": {},
   "source": [
    "We import required libraries and functions:"
   ]
  },
  {
   "cell_type": "code",
   "execution_count": 2,
   "id": "7ca1b42d",
   "metadata": {},
   "outputs": [],
   "source": [
    "import re\n",
    "from functools import reduce\n",
    "\n",
    "import numpy as np\n",
    "import pandas as pd\n",
    "\n",
    "# display/printing\n",
    "pd.options.display.float_format = '{:,.2f}'.format"
   ]
  },
  {
   "cell_type": "markdown",
   "id": "32fde65c",
   "metadata": {},
   "source": [
    "We also load some constants and helper functions that will be used in the rest of the notebook:"
   ]
  },
  {
   "cell_type": "code",
   "execution_count": 3,
   "id": "65894a5b",
   "metadata": {},
   "outputs": [],
   "source": [
    "from livingpark_utils.zeighamietal.constants import (\n",
    "    FILENAME_PARTICIPANT_STATUS,\n",
    "    FILENAME_DEMOGRAPHICS,\n",
    "    FILENAME_AGE,\n",
    "    FILENAME_MOCA,\n",
    "    FILENAME_UPDRS2,\n",
    "    FILENAME_UPDRS3,\n",
    "    FILENAME_ADL,\n",
    ")\n",
    "\n",
    "from livingpark_utils.zeighamietal.constants import (\n",
    "    COL_PAT_ID, COL_STATUS, COL_VISIT_TYPE, COL_DATE_INFO,\n",
    ")\n",
    "\n",
    "from livingpark_utils.zeighamietal.constants import (\n",
    "    STATUS_PD, STATUS_HC, MAIN_COHORT, VALIDATION_COHORT,\n",
    "    VISIT_BASELINE, VISIT_SCREENING, REGEX_VISIT_FOLLOWUP, \n",
    "    SEX_FEMALE, SEX_MALE,\n",
    ")\n",
    "\n",
    "from livingpark_utils.zeighamietal.constants import (\n",
    "    COL_PD_STATE, COL_AGE, COL_SEX, COL_EDUCATION,\n",
    "    COL_MOCA, COL_ADL, COL_UPDRS2, COL_UPDRS3, COL_PIGD, COL_GCO,\n",
    "    COLS_PIGD_COMPONENTS_UPDRS2, COLS_PIGD_COMPONENTS_UPDRS3, COLS_PIGD_COMPONENTS, \n",
    "    COLS_SCORES, COLS_SCORES_WITHOUT_GCO,\n",
    "    COL_FOLLOWUP,\n",
    ")\n",
    "\n",
    "from livingpark_utils.zeighamietal import load_ppmi_csv, filter_date, get_t1_cohort"
   ]
  },
  {
   "cell_type": "markdown",
   "id": "220cbe8b",
   "metadata": {},
   "source": [
    "We fix the random seed to make sure we get the same results everytime:"
   ]
  },
  {
   "cell_type": "code",
   "execution_count": 4,
   "id": "250c7435",
   "metadata": {},
   "outputs": [],
   "source": [
    "random_seed = 1"
   ]
  },
  {
   "cell_type": "markdown",
   "id": "cd6a3141",
   "metadata": {},
   "source": [
    "## PPMI cohort preparation"
   ]
  },
  {
   "cell_type": "markdown",
   "id": "88a38019",
   "metadata": {},
   "source": [
    "We will build a PPMI cohort that matches the one used in the original study (Table 1) as closely as possible. Our cohort will be built directly from PPMI Study Data files so that it can be replicated and updated whenever necessary."
   ]
  },
  {
   "cell_type": "markdown",
   "id": "de8f2f20",
   "metadata": {},
   "source": [
    "### Study data download"
   ]
  },
  {
   "cell_type": "markdown",
   "id": "c06ddb34",
   "metadata": {},
   "source": [
    "We will start by downloading the PPMI Study Data files required to build our cohort: \n",
    "\n",
    "* Participant status (Parkinson's disease, healthy control, etc.)\n",
    "* Demographics\n",
    "* Age at visit\n",
    "* Clinical/cognitive assessment results:\n",
    "    * Montreal Cognitive Assessment (MoCA)\n",
    "    * Unified Parkinson's Disease Rating Scale (UPDRS) Part II and Part III\n",
    "    * Modified Schwab and England Activities of Daily Living scale\n",
    "\n",
    "We will use the LivingPark utils library to download these files from the notebook. If files are already present in the notebook cache, they won't be downloaded again. Otherwise, you will need to enter your PPMI username and password. In case you don't have a PPMI account, you can request one [here](http://ppmi-info.org)."
   ]
  },
  {
   "cell_type": "code",
   "execution_count": 5,
   "id": "444fe1d5-8bb9-49d1-a37b-5064ec972910",
   "metadata": {},
   "outputs": [
    {
     "name": "stdout",
     "output_type": "stream",
     "text": [
      "Download skipped: No missing files!\n"
     ]
    }
   ],
   "source": [
    "required_files = [\n",
    "    FILENAME_PARTICIPANT_STATUS,\n",
    "    FILENAME_DEMOGRAPHICS,\n",
    "    FILENAME_AGE,\n",
    "    FILENAME_MOCA,\n",
    "    FILENAME_UPDRS2,\n",
    "    FILENAME_UPDRS3,\n",
    "    FILENAME_ADL,\n",
    "]\n",
    "\n",
    "utils.download_ppmi_metadata(required_files)"
   ]
  },
  {
   "cell_type": "markdown",
   "id": "339378a5",
   "metadata": {},
   "source": [
    "### Base cohorts"
   ]
  },
  {
   "cell_type": "markdown",
   "id": "7a95b22b",
   "metadata": {},
   "source": [
    "The paper uses a main cohort and a validation cohort. The **main cohort** consists of subjects with 3T T1 scans and is a subset of the cohort the authors used in the 2015 paper. The **validation cohort** consists of subjects with 1.5T T1 scans.\n",
    "\n",
    "***Main cohort***\n",
    "\n",
    "The main cohort was made up of of 222 PD patients and 112 healthly controls. In the 2015 paper, the authors used data from 237 PD patients and 118 healthy controls. MRI processing failure led to the exclusion of 5 PD patients and 1 healthy control, and so the final cohort consisted of 232 PD patients and 117 healthy controls. In the 2019 paper, an additional 10 PD patients and 5 healthly controls were excluded due to lack of follow-up data required in the analysis.\n",
    "\n",
    "*Note*: In the 2015 paper, the authors state that they used scans acquired from September 2013 to January 2014. However, if we restrict our search to this time period, the number of available scans is much lower than expected (38 PD patients instead of 237, 1 healthy control instead of 118). If we instead use all subjects with 3T scans from January 31st 2014 and before, we obtain 237 PD patients (as expected) and 114 healthy controls.\n",
    "\n",
    "***Validation cohort***\n",
    "\n",
    "The validation cohort was made up of 140 PD patients. The paper states that data were downloaded in October 2017, so we use all subjects with 1.5T scans from October 31st 2017 and before. "
   ]
  },
  {
   "cell_type": "code",
   "execution_count": 6,
   "id": "144e7002",
   "metadata": {},
   "outputs": [
    {
     "name": "stdout",
     "output_type": "stream",
     "text": [
      "=============== Main cohort ===============\n",
      "Message: element not interactable\n",
      "  (Session info: headless chrome=105.0.5195.125)\n",
      "Stacktrace:\n",
      "0   chromedriver                        0x000000010ef45788 chromedriver + 4515720\n",
      "1   chromedriver                        0x000000010eec99d3 chromedriver + 4008403\n",
      "2   chromedriver                        0x000000010eb5bfeb chromedriver + 413675\n",
      "3   chromedriver                        0x000000010eb8da1f chromedriver + 616991\n",
      "4   chromedriver                        0x000000010eb8cfd8 chromedriver + 614360\n",
      "5   chromedriver                        0x000000010ebb07d2 chromedriver + 759762\n",
      "6   chromedriver                        0x000000010eb88075 chromedriver + 594037\n",
      "7   chromedriver                        0x000000010ebb092e chromedriver + 760110\n",
      "8   chromedriver                        0x000000010ebc3bd9 chromedriver + 838617\n",
      "9   chromedriver                        0x000000010ebb0603 chromedriver + 759299\n",
      "10  chromedriver                        0x000000010eb86990 chromedriver + 588176\n",
      "11  chromedriver                        0x000000010eb87a75 chromedriver + 592501\n",
      "12  chromedriver                        0x000000010ef156cd chromedriver + 4318925\n",
      "13  chromedriver                        0x000000010ef19f35 chromedriver + 4337461\n",
      "14  chromedriver                        0x000000010ef211ff chromedriver + 4366847\n",
      "15  chromedriver                        0x000000010ef1ac5a chromedriver + 4340826\n",
      "16  chromedriver                        0x000000010eef0c2c chromedriver + 4168748\n",
      "17  chromedriver                        0x000000010ef374f8 chromedriver + 4457720\n",
      "18  chromedriver                        0x000000010ef37693 chromedriver + 4458131\n",
      "19  chromedriver                        0x000000010ef4ca3e chromedriver + 4545086\n",
      "20  libsystem_pthread.dylib             0x00007fff703d6109 _pthread_start + 148\n",
      "21  libsystem_pthread.dylib             0x00007fff703d1b8b thread_start + 15\n",
      "\n",
      "after login\n",
      "Successfully downloaded file idaSearch_10_06_2022.csv\n",
      "Removing 3 subjects with multiple scans\n",
      "Parkinson's Disease    237\n",
      "Healthy Control        114\n",
      "Name: COHORT_DEFINITION, dtype: int64\n",
      "------------------------------\n",
      "BL    354\n",
      "Name: EVENT_ID, dtype: int64\n",
      "=============== Validation cohort ===============\n",
      "Removing 3 subjects with multiple scans\n",
      "Parkinson's Disease    146\n",
      "Name: COHORT_DEFINITION, dtype: int64\n",
      "------------------------------\n",
      "BL    146\n",
      "Name: EVENT_ID, dtype: int64\n"
     ]
    }
   ],
   "source": [
    "min_date = None\n",
    "max_dates = {\n",
    "    MAIN_COHORT: \"31/01/2014\",\n",
    "    VALIDATION_COHORT: \"31/10/2017\",\n",
    "}\n",
    "T1_field_strengths = {\n",
    "    MAIN_COHORT: \"3.0\",\n",
    "    VALIDATION_COHORT: \"1.5\",\n",
    "}\n",
    "status_groups = {\n",
    "    MAIN_COHORT: [STATUS_PD, STATUS_HC],\n",
    "    VALIDATION_COHORT: [STATUS_PD],\n",
    "}\n",
    "\n",
    "df_status = load_ppmi_csv(utils, FILENAME_PARTICIPANT_STATUS)\n",
    "\n",
    "cohort_t1_map = {}\n",
    "cohort_subjects_map = {}\n",
    "filename_t1_info = None\n",
    "for cohort_name, field_strength in T1_field_strengths.items():\n",
    "    print(f\"=============== {cohort_name.capitalize()} cohort ===============\")\n",
    "\n",
    "    df_t1_subset, filename_t1_info = get_t1_cohort(\n",
    "        utils, \n",
    "        cohort_name=cohort_name,\n",
    "        filename_t1_info=filename_t1_info,\n",
    "        max_date=max_dates[cohort_name],\n",
    "        min_date=min_date,\n",
    "        field_strength=T1_field_strengths[cohort_name],\n",
    "        status_groups=status_groups[cohort_name],\n",
    "        return_filename_t1_info=True,\n",
    "    )\n",
    "    cohort_t1_map[cohort_name] = df_t1_subset\n",
    "    cohort_subjects_map[cohort_name] = df_t1_subset[COL_PAT_ID].tolist() # TODO remove?\n",
    "    print(\n",
    "        df_status.loc[\n",
    "            df_status[COL_PAT_ID].isin(cohort_subjects_map[cohort_name]), COL_STATUS\n",
    "        ].value_counts()\n",
    "    )\n",
    "    print(\"------------------------------\")\n",
    "    print(df_t1_subset[COL_VISIT_TYPE].value_counts())"
   ]
  },
  {
   "cell_type": "markdown",
   "id": "1ee97ec3",
   "metadata": {},
   "source": [
    "### Remove subjects with no follow-up data available"
   ]
  },
  {
   "cell_type": "markdown",
   "id": "4e62bc29",
   "metadata": {},
   "source": [
    "The original paper excluded participants with less than 1 year of follow-up:\n",
    "* 10 PD patients and 5 healthy controls from their main cohort\n",
    "* No subjects were removed from the validation cohort\n",
    "\n",
    "We will identify subjects with less than 1 year of follow-up for the PD progression measures."
   ]
  },
  {
   "cell_type": "code",
   "execution_count": 7,
   "id": "e34625ff",
   "metadata": {},
   "outputs": [
    {
     "name": "stdout",
     "output_type": "stream",
     "text": [
      "main: (4487, 8)\n",
      "validation: (2361, 8)\n"
     ]
    }
   ],
   "source": [
    "cols_for_merge = [COL_PAT_ID, COL_DATE_INFO, COL_VISIT_TYPE]\n",
    "\n",
    "df_moca = load_ppmi_csv(utils, FILENAME_MOCA, cols_to_impute=COL_MOCA)\n",
    "df_adl = load_ppmi_csv(utils, FILENAME_ADL, cols_to_impute=COL_ADL)\n",
    "df_updrs2 = load_ppmi_csv(utils, FILENAME_UPDRS2, cols_to_impute=COLS_PIGD_COMPONENTS_UPDRS2+[COL_UPDRS2])\n",
    "df_updrs3 = load_ppmi_csv(utils, FILENAME_UPDRS3, cols_to_impute=COLS_PIGD_COMPONENTS_UPDRS3+[COL_UPDRS3])\n",
    "\n",
    "# some subjects in the validation cohort have multiple entries on the same date\n",
    "# one for PDSTATE=ON and one for PDSTATE=OFF\n",
    "# we drop rows where PDSTATE is OFF\n",
    "# PDSTATE=OFF is the typical functional state when participants have a poor response in spite of taking medications\n",
    "# PDSTATE=ON is the typical functional state when patients are receiving medication and have a good response\n",
    "# TODO check\n",
    "df_updrs3 = df_updrs3.loc[df_updrs3[COL_PD_STATE] != \"OFF\"]\n",
    "\n",
    "# PIGD score is build from UPDRS-III (Stebbins et al. 2013)\n",
    "df_pigd = df_updrs2.merge(df_updrs3, on=cols_for_merge, how=\"inner\")\n",
    "df_pigd[COL_PIGD] = df_pigd.loc[:, COLS_PIGD_COMPONENTS].mean(axis=\"columns\")\n",
    "\n",
    "df_moca = df_moca.loc[:, cols_for_merge + [COL_MOCA]]\n",
    "df_adl = df_adl.loc[:, cols_for_merge + [COL_ADL]]\n",
    "df_updrs2 = df_updrs2.loc[:, cols_for_merge + [COL_UPDRS2]]\n",
    "df_updrs3 = df_updrs3.loc[:, cols_for_merge + [COL_UPDRS3]]\n",
    "df_pigd = df_pigd.loc[:, cols_for_merge + [COL_PIGD]]\n",
    "\n",
    "df_assessments_all = reduce(\n",
    "    lambda df1, df2: df1.merge(df2, on=cols_for_merge, how=\"outer\"),\n",
    "    [df_updrs2, df_updrs3, df_adl, df_pigd, df_moca],\n",
    ").drop_duplicates()\n",
    "\n",
    "# keep only subjects who have a T1\n",
    "cohort_assessments_map_orig = {}\n",
    "for cohort_name, subjects in cohort_subjects_map.items():\n",
    "    cohort_assessments_map_orig[cohort_name] = df_assessments_all.loc[\n",
    "        df_assessments_all[COL_PAT_ID].isin(subjects)\n",
    "    ]\n",
    "    print(f\"{cohort_name}: {cohort_assessments_map_orig[cohort_name].shape}\")"
   ]
  },
  {
   "cell_type": "code",
   "execution_count": 8,
   "id": "751cab3c",
   "metadata": {},
   "outputs": [
    {
     "name": "stdout",
     "output_type": "stream",
     "text": [
      "=============== Main cohort ===============\n",
      "Percent NAs:\n",
      "----- BASELINE -----\n",
      "   NP2PTOT  NP3TOT  MSEADLG  PIGD  MCATOT\n",
      "0     0.00    0.00     0.32  0.00    0.00\n",
      "----- FOLLOWUP -----\n",
      "   NP2PTOT  NP3TOT  MSEADLG  PIGD  MCATOT\n",
      "0     0.01    0.07     0.31  0.07    0.21\n",
      "=============== Validation cohort ===============\n",
      "Percent NAs:\n",
      "----- BASELINE -----\n",
      "   NP2PTOT  NP3TOT  MSEADLG  PIGD  MCATOT\n",
      "0     0.00    0.00     0.00  0.00    0.00\n",
      "----- FOLLOWUP -----\n",
      "   NP2PTOT  NP3TOT  MSEADLG  PIGD  MCATOT\n",
      "0     0.01    0.13     0.01  0.13    0.35\n"
     ]
    },
    {
     "data": {
      "text/plain": [
       "<matplotlib.legend.Legend at 0x1330500d0>"
      ]
     },
     "execution_count": 8,
     "metadata": {},
     "output_type": "execute_result"
    },
    {
     "data": {
      "image/png": "[encoded data removed]",
      "text/plain": [
       "<Figure size 640x480 with 1 Axes>"
      ]
     },
     "metadata": {},
     "output_type": "display_data"
    }
   ],
   "source": [
    "col_date_diff = \"date_diff\"\n",
    "max_date_followup = \"31/10/2017\"\n",
    "\n",
    "re_followup_compiled = re.compile(REGEX_VISIT_FOLLOWUP)\n",
    "\n",
    "cohort_assessments_map = {}\n",
    "for cohort_name in cohort_assessments_map_orig:\n",
    "\n",
    "    print(f\"=============== {cohort_name.capitalize()} cohort ===============\")\n",
    "\n",
    "    date_diffs = []\n",
    "\n",
    "    df_assessments_cohort: pd.DataFrame = cohort_assessments_map_orig[cohort_name]\n",
    "    df_assessments_baseline = df_assessments_cohort.loc[\n",
    "        df_assessments_cohort[COL_VISIT_TYPE] == VISIT_BASELINE\n",
    "    ]\n",
    "    df_assessments_screening = df_assessments_cohort.loc[\n",
    "        df_assessments_cohort[COL_VISIT_TYPE] == VISIT_SCREENING\n",
    "    ]\n",
    "\n",
    "    # find subjects with screening but no baseline data\n",
    "    subjects_missing = set(df_assessments_screening[COL_PAT_ID]) - set(\n",
    "        df_assessments_baseline[COL_PAT_ID]\n",
    "    )\n",
    "\n",
    "    # add them to baseline df, with NA default values\n",
    "    for subject in subjects_missing:\n",
    "        new_idx = df_assessments_baseline.index.max() + 1\n",
    "        df_assessments_baseline.loc[new_idx, COL_PAT_ID] = subject\n",
    "        df_assessments_baseline.loc[new_idx, COL_VISIT_TYPE] = VISIT_SCREENING\n",
    "\n",
    "    # try to fill in missing baseline data\n",
    "    for idx_row_baseline, row_baseline in df_assessments_baseline.iterrows():\n",
    "\n",
    "        subject = row_baseline[COL_PAT_ID]\n",
    "        date_baseline = row_baseline[COL_DATE_INFO]\n",
    "\n",
    "        # for each score columns\n",
    "        for col in COLS_SCORES_WITHOUT_GCO:\n",
    "\n",
    "            # fill missing values with screening data\n",
    "            if pd.isna(row_baseline[col]):\n",
    "\n",
    "                df_screening_subject = df_assessments_screening.loc[\n",
    "                    df_assessments_screening[COL_PAT_ID] == subject\n",
    "                ]\n",
    "\n",
    "                # some subjects in validation set had multiple screening visits\n",
    "                # in this case we sort them by how close they are to the baseline visit\n",
    "                n_screening = len(df_screening_subject)\n",
    "                if n_screening > 1:\n",
    "                    df_screening_subject[col_date_diff] = (\n",
    "                        date_baseline - df_screening_subject[COL_DATE_INFO]\n",
    "                    )\n",
    "                    df_screening_subject = df_screening_subject.sort_values(\n",
    "                        col_date_diff, ascending=True\n",
    "                    )\n",
    "\n",
    "                # find corresponding assessment score in screening visits\n",
    "                for idx_row_screening, row_screening in df_screening_subject.iterrows():\n",
    "                    new_value = row_screening[col]\n",
    "                    date_diff = date_baseline - row_screening[COL_DATE_INFO]\n",
    "                    if not pd.isna(new_value):\n",
    "                        break\n",
    "\n",
    "                # replace\n",
    "                if not pd.isna(new_value):\n",
    "                    df_assessments_baseline.loc[idx_row_baseline, col] = new_value\n",
    "                    date_diffs.append(date_diff.days)  # for plotting\n",
    "\n",
    "    # plot baseline-screening date difference\n",
    "    date_diffs = pd.Series(date_diffs)\n",
    "    ax = date_diffs.hist(\n",
    "        bins=30, alpha=0.7, label=f\"{cohort_name} (mean={date_diffs.mean():.2f})\"\n",
    "    )\n",
    "\n",
    "    df_assessments_followup = df_assessments_cohort.loc[\n",
    "        (df_assessments_cohort[COL_PAT_ID].isin(df_assessments_baseline[COL_PAT_ID]))\n",
    "        & (\n",
    "            df_assessments_cohort[COL_VISIT_TYPE].apply(\n",
    "                lambda v: re_followup_compiled.match(v)\n",
    "            )\n",
    "        )\n",
    "        # & (~(df_assessments_cohort[COL_VISIT_TYPE].isin([VISIT_BASELINE, VISIT_SCREENING])))\n",
    "    ]\n",
    "\n",
    "    # only keep latest follow-up\n",
    "    df_assessments_followup = filter_date(\n",
    "        df_assessments_followup, max_date=max_date_followup\n",
    "    )\n",
    "    df_assessments_followup = df_assessments_followup.dropna(\n",
    "        axis=\"index\", how=\"all\", subset=COLS_SCORES_WITHOUT_GCO\n",
    "    )\n",
    "    df_assessments_followup = (\n",
    "        df_assessments_followup.groupby(COL_PAT_ID)\n",
    "        .apply(lambda df: df.sort_values(COL_DATE_INFO, ascending=False).head(1))\n",
    "        .reset_index(drop=True)\n",
    "    )\n",
    "\n",
    "    # check how many missing values remain\n",
    "    print(\"Percent NAs:\")\n",
    "    subjects_common = set(df_assessments_cohort[COL_PAT_ID])\n",
    "    for group, df_group in {\n",
    "        \"BASELINE\": df_assessments_baseline,\n",
    "        \"FOLLOWUP\": df_assessments_followup,\n",
    "    }.items():\n",
    "        subjects_common = subjects_common & set(df_group[COL_PAT_ID])\n",
    "        print(f\"----- {group} -----\")\n",
    "        print(\n",
    "            df_group.isna().sum(axis=\"index\").to_frame().T[COLS_SCORES_WITHOUT_GCO]\n",
    "            / df_group.shape[0]\n",
    "        )\n",
    "\n",
    "    # combine baseline and follow-up and save\n",
    "    df_assessments_baseline[COL_FOLLOWUP] = False\n",
    "    df_assessments_followup[COL_FOLLOWUP] = True\n",
    "    df_assessments_merged = pd.concat(\n",
    "        [df_assessments_baseline, df_assessments_followup], axis=\"index\"\n",
    "    )\n",
    "    df_assessments_merged = df_assessments_merged.loc[\n",
    "        df_assessments_merged[COL_PAT_ID].isin(subjects_common)\n",
    "    ]\n",
    "    cohort_assessments_map[cohort_name] = df_assessments_merged\n",
    "\n",
    "# note: date resolution is months\n",
    "ax.set_title(\"Number of days between baseline and screening visits\")\n",
    "ax.legend()"
   ]
  },
  {
   "cell_type": "markdown",
   "id": "0095f122",
   "metadata": {},
   "source": [
    "Now we compute the global composite outcome, which is the average of the z-scores of the other measures. Following the original paper, we use the mean and standard deviation of the baseline session to compute the z-scores:"
   ]
  },
  {
   "cell_type": "code",
   "execution_count": 9,
   "id": "d0e63416",
   "metadata": {},
   "outputs": [],
   "source": [
    "for cohort_name, df_assessments in cohort_assessments_map.items():\n",
    "    df_assessments_baseline = df_assessments.loc[\n",
    "        ~df_assessments[COL_FOLLOWUP], COLS_SCORES_WITHOUT_GCO\n",
    "    ]\n",
    "    gco_means = df_assessments_baseline.mean()\n",
    "    gco_stds = df_assessments_baseline.std()\n",
    "    gco = ((df_assessments[COLS_SCORES_WITHOUT_GCO] - gco_means) / gco_stds).mean(\n",
    "        axis=\"columns\"\n",
    "    )\n",
    "    cohort_assessments_map[cohort_name][COL_GCO] = gco"
   ]
  },
  {
   "cell_type": "markdown",
   "id": "4c0b842d",
   "metadata": {},
   "source": [
    "We check the number of PD patients and healthy controls in each cohort:"
   ]
  },
  {
   "cell_type": "code",
   "execution_count": 10,
   "id": "6f8ec5cf",
   "metadata": {},
   "outputs": [
    {
     "name": "stdout",
     "output_type": "stream",
     "text": [
      "========== MAIN COHORT ==========\n",
      "Parkinson's Disease    228\n",
      "Healthy Control        110\n",
      "Name: COHORT_DEFINITION, dtype: int64\n",
      "========== VALIDATION COHORT ==========\n",
      "Parkinson's Disease    143\n",
      "Name: COHORT_DEFINITION, dtype: int64\n"
     ]
    }
   ],
   "source": [
    "for cohort_name, df_assessments in cohort_assessments_map.items():\n",
    "    subjects = df_assessments[COL_PAT_ID].drop_duplicates()\n",
    "    \n",
    "    print(f\"========== {cohort_name.upper()} COHORT ==========\")\n",
    "    print(\n",
    "        df_status.loc[df_status[COL_PAT_ID].isin(subjects), COL_STATUS].value_counts()\n",
    "    )"
   ]
  },
  {
   "cell_type": "markdown",
   "id": "f6d82712",
   "metadata": {},
   "source": [
    "We check average time between baseline and follow-up. In the original paper they report an average of 4.5 years."
   ]
  },
  {
   "cell_type": "code",
   "execution_count": 11,
   "id": "684e2a3e",
   "metadata": {},
   "outputs": [
    {
     "name": "stdout",
     "output_type": "stream",
     "text": [
      "4.542 (± 1.271) years\n"
     ]
    }
   ],
   "source": [
    "dfs_duration = []\n",
    "for df_assessments in cohort_assessments_map.values():\n",
    "    dfs_duration.append(\n",
    "        df_assessments.groupby(COL_PAT_ID).apply(\n",
    "            lambda df: (\n",
    "                df.loc[df[COL_FOLLOWUP], COL_DATE_INFO].item()\n",
    "                - df.loc[~df[COL_FOLLOWUP], COL_DATE_INFO].item()\n",
    "            )\n",
    "        )\n",
    "    )\n",
    "df_duration = pd.concat(dfs_duration)\n",
    "print(\n",
    "    f'{df_duration.mean().days / 365:.3f} '\n",
    "    f'(\\u00B1 {df_duration.std().days / 365:.3f}) years'\n",
    ")"
   ]
  },
  {
   "cell_type": "markdown",
   "id": "e96062c8",
   "metadata": {},
   "source": [
    "Finally, we create a demographics table similar to the one in the original paper"
   ]
  },
  {
   "cell_type": "code",
   "execution_count": 12,
   "id": "485e9eab",
   "metadata": {},
   "outputs": [
    {
     "data": {
      "text/html": [
       "<div>\n",
       "<style scoped>\n",
       "    .dataframe tbody tr th:only-of-type {\n",
       "        vertical-align: middle;\n",
       "    }\n",
       "\n",
       "    .dataframe tbody tr th {\n",
       "        vertical-align: top;\n",
       "    }\n",
       "\n",
       "    .dataframe thead tr th {\n",
       "        text-align: left;\n",
       "    }\n",
       "</style>\n",
       "<table border=\"1\" class=\"dataframe\">\n",
       "  <thead>\n",
       "    <tr>\n",
       "      <th>cohort</th>\n",
       "      <th colspan=\"2\" halign=\"left\">main</th>\n",
       "      <th colspan=\"2\" halign=\"left\">validation</th>\n",
       "    </tr>\n",
       "    <tr>\n",
       "      <th>is_followup</th>\n",
       "      <th>False</th>\n",
       "      <th>True</th>\n",
       "      <th>False</th>\n",
       "      <th>True</th>\n",
       "    </tr>\n",
       "  </thead>\n",
       "  <tbody>\n",
       "    <tr>\n",
       "      <th>Age</th>\n",
       "      <td>63.5 (9.6)</td>\n",
       "      <td>-</td>\n",
       "      <td>64.9 (10.6)</td>\n",
       "      <td>-</td>\n",
       "    </tr>\n",
       "    <tr>\n",
       "      <th>Male (%)</th>\n",
       "      <td>64.0</td>\n",
       "      <td>-</td>\n",
       "      <td>59.4</td>\n",
       "      <td>-</td>\n",
       "    </tr>\n",
       "    <tr>\n",
       "      <th>UPDRS2</th>\n",
       "      <td>5.7 (4.0)</td>\n",
       "      <td>10.7 (7.4)</td>\n",
       "      <td>6.1 (4.3)</td>\n",
       "      <td>10.4 (6.8)</td>\n",
       "    </tr>\n",
       "    <tr>\n",
       "      <th>UPDRS3</th>\n",
       "      <td>21.6 (9.0)</td>\n",
       "      <td>26.0 (13.3)</td>\n",
       "      <td>19.1 (8.4)</td>\n",
       "      <td>25.1 (11.6)</td>\n",
       "    </tr>\n",
       "    <tr>\n",
       "      <th>S&amp;E ADL</th>\n",
       "      <td>93.4 (5.7)</td>\n",
       "      <td>86.0 (12.0)</td>\n",
       "      <td>92.2 (6.0)</td>\n",
       "      <td>82.8 (12.5)</td>\n",
       "    </tr>\n",
       "    <tr>\n",
       "      <th>PIGD</th>\n",
       "      <td>0.2 (0.2)</td>\n",
       "      <td>0.5 (0.6)</td>\n",
       "      <td>0.3 (0.2)</td>\n",
       "      <td>0.5 (0.5)</td>\n",
       "    </tr>\n",
       "    <tr>\n",
       "      <th>MoCA</th>\n",
       "      <td>27.4 (2.1)</td>\n",
       "      <td>26.3 (4.0)</td>\n",
       "      <td>26.5 (2.6)</td>\n",
       "      <td>25.9 (3.8)</td>\n",
       "    </tr>\n",
       "    <tr>\n",
       "      <th>Global composite outcome</th>\n",
       "      <td>0.2 (0.4)</td>\n",
       "      <td>0.5 (0.7)</td>\n",
       "      <td>-0.0 (0.4)</td>\n",
       "      <td>0.2 (0.8)</td>\n",
       "    </tr>\n",
       "  </tbody>\n",
       "</table>\n",
       "</div>"
      ],
      "text/plain": [
       "cohort                          main                validation             \n",
       "is_followup                    False        True         False        True \n",
       "Age                       63.5 (9.6)            -  64.9 (10.6)            -\n",
       "Male (%)                        64.0            -         59.4            -\n",
       "UPDRS2                     5.7 (4.0)   10.7 (7.4)    6.1 (4.3)   10.4 (6.8)\n",
       "UPDRS3                    21.6 (9.0)  26.0 (13.3)   19.1 (8.4)  25.1 (11.6)\n",
       "S&E ADL                   93.4 (5.7)  86.0 (12.0)   92.2 (6.0)  82.8 (12.5)\n",
       "PIGD                       0.2 (0.2)    0.5 (0.6)    0.3 (0.2)    0.5 (0.5)\n",
       "MoCA                      27.4 (2.1)   26.3 (4.0)   26.5 (2.6)   25.9 (3.8)\n",
       "Global composite outcome   0.2 (0.4)    0.5 (0.7)   -0.0 (0.4)    0.2 (0.8)"
      ]
     },
     "execution_count": 12,
     "metadata": {},
     "output_type": "execute_result"
    }
   ],
   "source": [
    "def to_1_decimal_str(f):\n",
    "    return str(round(f, 1))\n",
    "\n",
    "df_age = load_ppmi_csv(utils, FILENAME_AGE)\n",
    "df_demographics = load_ppmi_csv(utils, FILENAME_DEMOGRAPHICS)\n",
    "\n",
    "col_male = \"is_male\"\n",
    "col_cohort = 'cohort'\n",
    "\n",
    "dfs_summary = []\n",
    "df_assessments: pd.DataFrame\n",
    "for cohort_name, df_assessments in cohort_assessments_map.items():\n",
    "\n",
    "    subjects = df_assessments[COL_PAT_ID].drop_duplicates()\n",
    "    subjects_pd = df_status.loc[\n",
    "        (df_status[COL_PAT_ID].isin(subjects)) & (df_status[COL_STATUS] == STATUS_PD),\n",
    "        COL_PAT_ID,\n",
    "    ]\n",
    "\n",
    "    # the paper only report measures for the PD patients\n",
    "    df_assessments = df_assessments.loc[df_assessments[COL_PAT_ID].isin(subjects_pd)]\n",
    "\n",
    "    # general demographics (baseline session only)\n",
    "    df_summary = df_assessments.merge(df_age, on=[COL_PAT_ID, COL_VISIT_TYPE])\n",
    "    df_demographics[col_male] = (df_demographics[COL_SEX] == SEX_MALE).apply(lambda v: 100 if v else 0)\n",
    "    df_summary = df_summary.merge(df_demographics, on=COL_PAT_ID)\n",
    "    df_summary = df_summary[[COL_PAT_ID, COL_AGE, col_male]]\n",
    "    df_summary[COL_FOLLOWUP] = False\n",
    "\n",
    "    # combine with clinical/cognitive scores\n",
    "    df_summary = df_summary.merge(df_assessments, on=[COL_PAT_ID, COL_FOLLOWUP], how='outer')\n",
    "    df_summary = df_summary.drop(columns=COL_PAT_ID)\n",
    "\n",
    "    # append\n",
    "    df_summary[col_cohort] = cohort_name\n",
    "    dfs_summary.append(df_summary)\n",
    "\n",
    "df_summary = pd.concat(dfs_summary)\n",
    "df_summary_means = df_summary.groupby([col_cohort, COL_FOLLOWUP]).mean().applymap(to_1_decimal_str)\n",
    "df_summary_stds = df_summary.groupby([col_cohort, COL_FOLLOWUP]).std().applymap(to_1_decimal_str)\n",
    "df_summary_stds = ' (' + df_summary_stds + ')'\n",
    "df_summary_stds.loc[:, col_male] = ''\n",
    "df_summary_combined = (df_summary_means + df_summary_stds).T\n",
    "df_summary_combined = df_summary_combined.applymap(lambda x: '-' if 'nan' in x else x)\n",
    "df_summary_combined = df_summary_combined.rename(index={\n",
    "    COL_AGE: 'Age',\n",
    "    col_male: 'Male (%)',\n",
    "    COL_UPDRS2: 'UPDRS2',\n",
    "    COL_UPDRS3: 'UPDRS3',\n",
    "    COL_ADL: 'S&E ADL',\n",
    "    COL_PIGD: 'PIGD',\n",
    "    COL_MOCA: 'MoCA',\n",
    "    COL_GCO: 'Global composite outcome',\n",
    "})\n",
    "df_summary_combined"
   ]
  }
 ],
 "metadata": {
  "kernelspec": {
   "display_name": "Python 3.10.6 ('livingpark')",
   "language": "python",
   "name": "python3"
  },
  "language_info": {
   "codemirror_mode": {
    "name": "ipython",
    "version": 3
   },
   "file_extension": ".py",
   "mimetype": "text/x-python",
   "name": "python",
   "nbconvert_exporter": "python",
   "pygments_lexer": "ipython3",
   "version": "3.10.6"
  },
  "vscode": {
   "interpreter": {
    "hash": "7c1dce6928164983c9394696a67460054b2345bd05d18f1e86972521ab8096b4"
   }
  }
 },
 "nbformat": 4,
 "nbformat_minor": 5
}
