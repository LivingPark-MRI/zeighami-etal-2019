{
 "cells": [
  {
   "cell_type": "markdown",
   "id": "589d0f2d",
   "metadata": {},
   "source": [
    "# Replication: Zeighami *et al*, 2019"
   ]
  },
  {
   "cell_type": "markdown",
   "id": "6ffe77a0",
   "metadata": {},
   "source": [
    "## Introduction"
   ]
  },
  {
   "cell_type": "markdown",
   "id": "4974727a",
   "metadata": {},
   "source": [
    "This notebook attempts to reproduce the following paper (which already uses the [PPMI](http://ppmi-info.org) dataset):\n",
    "\n",
    "<div class=\"alert alert-block alert-success\">\n",
    "Zeighami, Yashar, et al. <a href=https://doi.org/10.1016/j.nicl.2019.101986>Assessment of a prognostic MRI biomarker in early de novo Parkinson's disease.</a> NeuroImage: Clinical 24 (2019): 101986.\n",
    "</div>"
   ]
  },
  {
   "cell_type": "markdown",
   "id": "9ab29940",
   "metadata": {
    "slideshow": {
     "slide_type": "fragment"
    }
   },
   "source": [
    "This study used longitudinal MRI data from 362 patients with de novo PD (i.e., patients not yet taking any medication) and 112 healthy controls. Subjects were split into a main cohort with 3T MRI scans (222 PD patients, 112 healthy controls) and a validation cohort with 1.5T MRI scans (140 PD patients). \n",
    "\n",
    "The demographics parameters for the PD patients were as follows (table extracted from the paper):\n",
    "\n",
    "<img src=\"images/demographics.png\" width=800/>"
   ]
  },
  {
   "cell_type": "markdown",
   "id": "a51402f7",
   "metadata": {},
   "source": [
    "This paper used a method introduced in [Zeighami *et al* (2015)](https://doi.org/10.7554/eLife.08440) consisting of applying Independent Component Analysis (ICA) to Deformation-Based Morphometry (DBM) maps to identify an atrophy network related to PD. The main result is atrophy measures from this PD network is significantly correlated with disease progression as measured by differences in clinical and/or cognitive scores between the baseline visit and the most recent follow-up visit. This is illustrated in the top row of the following table (extracted from the paper):\n",
    "\n",
    "<img src=\"images/results_correlations.png\" width=600/>"
   ]
  },
  {
   "cell_type": "markdown",
   "id": "ac976672",
   "metadata": {},
   "source": [
    "The authors also showed that the PD-related atrophy score can be used to identify patients who have a 1.5 standard deviation change in the global composite outcome (a measure they defined) between baseline and follow-up visits. The PD-related atrophy biomarker achieved an area under the receiver operating characteristics (ROC) curve of 0.63, out-performing other biomarkers, as shown in the figure below (extracted from the paper):\n",
    "\n",
    "<img src=\"images/results_AUC.png\" width=500/>"
   ]
  },
  {
   "cell_type": "markdown",
   "id": "f95f073d",
   "metadata": {},
   "source": [
    "The remainder of this notebook is an attempt to reproduce these results using the same PPMI dataset."
   ]
  },
  {
   "cell_type": "markdown",
   "id": "814499f3",
   "metadata": {},
   "source": [
    "## Initial setup"
   ]
  },
  {
   "cell_type": "markdown",
   "id": "d651b5b5",
   "metadata": {},
   "source": [
    "We first initialize the notebook cache and install dependencies:"
   ]
  },
  {
   "cell_type": "code",
   "execution_count": 1,
   "id": "02299e19-57c8-4cfe-9419-4dedd9cb1941",
   "metadata": {},
   "outputs": [
    {
     "name": "stdout",
     "output_type": "stream",
     "text": [
      "This notebook was run on 2023-04-09 20:27:36 UTC +0000\n"
     ]
    },
    {
     "data": {
      "text/html": [
       "<script>\n",
       "    code_show = true;\n",
       "    function code_toggle() {\n",
       "        if (code_show) {\n",
       "            $(\"div.input\").hide();\n",
       "        } else {\n",
       "            $(\"div.input\").show();\n",
       "        }\n",
       "        code_show = !code_show\n",
       "    }\n",
       "    $(document).ready(code_toggle);\n",
       "</script>\n",
       "<form action=\"javascript:code_toggle()\">\n",
       "    <input type=\"submit\" value=\"Click here to toggle on/off the Python code.\">\n",
       "</form>\n"
      ],
      "text/plain": [
       "<IPython.core.display.HTML object>"
      ]
     },
     "execution_count": 1,
     "metadata": {},
     "output_type": "execute_result"
    }
   ],
   "source": [
    "import livingpark_utils\n",
    "\n",
    "utils = livingpark_utils.LivingParkUtils()\n",
    "utils.notebook_init()"
   ]
  },
  {
   "cell_type": "markdown",
   "id": "32fde65c",
   "metadata": {},
   "source": [
    "We import required libraries/functions and load some useful constants and helper functions from the `zeighamietal` module of `livingpark_utils`. The code used to create the initial cohorts based on T1 data availability is reused in another notebook.  "
   ]
  },
  {
   "cell_type": "code",
   "execution_count": 2,
   "id": "65894a5b",
   "metadata": {},
   "outputs": [],
   "source": [
    "import os\n",
    "import re\n",
    "from functools import reduce\n",
    "from pathlib import Path\n",
    "\n",
    "import numpy as np\n",
    "import pandas as pd\n",
    "\n",
    "from livingpark_utils.download import ppmi\n",
    "\n",
    "from livingpark_utils.zeighamietal.constants import (\n",
    "    FILENAME_PARTICIPANT_STATUS,\n",
    "    FILENAME_DEMOGRAPHICS,\n",
    "    FILENAME_PD_HISTORY,\n",
    "    FILENAME_AGE,\n",
    "    FILENAME_MOCA,\n",
    "    FILENAME_UPDRS1A,\n",
    "    FILENAME_UPDRS1B,\n",
    "    FILENAME_UPDRS2,\n",
    "    FILENAME_UPDRS3,\n",
    "    FILENAME_ADL,\n",
    "    FILENAME_T1_INFO,\n",
    ")\n",
    "\n",
    "from livingpark_utils.zeighamietal.constants import (\n",
    "    COL_PAT_ID,\n",
    "    COL_STATUS,\n",
    "    COL_VISIT_TYPE,\n",
    "    COL_DATE_INFO,\n",
    "    COL_DATE_BIRTH,\n",
    "    COL_DATE_PD,\n",
    ")\n",
    "\n",
    "from livingpark_utils.zeighamietal.constants import (\n",
    "    STATUS_PD,\n",
    "    STATUS_HC,\n",
    "    MAIN_COHORT,\n",
    "    VALIDATION_COHORT,\n",
    "    VISIT_BASELINE,\n",
    "    VISIT_SCREENING,\n",
    "    REGEX_VISIT_FOLLOWUP,\n",
    "    SEX_MALE,\n",
    "    MAX_DATES,\n",
    ")\n",
    "\n",
    "from livingpark_utils.zeighamietal.constants import (\n",
    "    COL_AGE,\n",
    "    COL_PD_STATE,\n",
    "    COL_SEX,\n",
    "    COL_UPDRS1A,\n",
    "    COL_UPDRS1B,\n",
    "    COL_UPDRS2,\n",
    "    COL_UPDRS3,\n",
    "    COL_MOCA,\n",
    "    COL_ADL,\n",
    "    COL_UPDRS1,\n",
    "    COL_PIGD,\n",
    "    COL_GCO,\n",
    "    COLS_PIGD_COMPONENTS_UPDRS2,\n",
    "    COLS_PIGD_COMPONENTS_UPDRS3,\n",
    "    COLS_PIGD_COMPONENTS,\n",
    "    COLS_SCORES_WITHOUT_GCO,\n",
    "    COL_FOLLOWUP,\n",
    ")\n",
    "\n",
    "from livingpark_utils.zeighamietal import (\n",
    "    load_ppmi_csv,\n",
    "    get_t1_cohort,\n",
    "    mean_impute,\n",
    "    filter_date,\n",
    ")"
   ]
  },
  {
   "cell_type": "markdown",
   "id": "cd6a3141",
   "metadata": {},
   "source": [
    "## PPMI cohort preparation"
   ]
  },
  {
   "cell_type": "markdown",
   "id": "88a38019",
   "metadata": {},
   "source": [
    "We will build a PPMI cohort that matches the one used in the original study (Table 1) as closely as possible. Our cohort will be built directly from PPMI Study Data files so that it can be replicated and updated whenever necessary."
   ]
  },
  {
   "cell_type": "markdown",
   "id": "de8f2f20",
   "metadata": {},
   "source": [
    "### Study data download"
   ]
  },
  {
   "cell_type": "markdown",
   "id": "c06ddb34",
   "metadata": {},
   "source": [
    "We will start by downloading the PPMI Study Data files required to build our cohort: \n",
    "\n",
    "* Participant status (Parkinson's disease, healthy control, etc.)\n",
    "* Demographics\n",
    "* Age at visit\n",
    "* Clinical/cognitive assessment results:\n",
    "    * Montreal Cognitive Assessment (MoCA)\n",
    "    * Unified Parkinson's Disease Rating Scale (UPDRS) Parts I, II and III\n",
    "    * Modified Schwab and England Activities of Daily Living scale\n",
    "\n",
    "We will use the LivingPark utils library to download these files from the notebook. If files are already present in the notebook cache, they won't be downloaded again. Otherwise, a PPMI username and password are required to obtain the files. New PPMI accounts can be requested [here](http://ppmi-info.org)."
   ]
  },
  {
   "cell_type": "code",
   "execution_count": 3,
   "id": "444fe1d5-8bb9-49d1-a37b-5064ec972910",
   "metadata": {},
   "outputs": [
    {
     "name": "stdout",
     "output_type": "stream",
     "text": [
      "Download skipped: No missing files!\n"
     ]
    }
   ],
   "source": [
    "required_files = [\n",
    "    FILENAME_PARTICIPANT_STATUS,\n",
    "    FILENAME_PD_HISTORY,\n",
    "    FILENAME_DEMOGRAPHICS,\n",
    "    FILENAME_AGE,\n",
    "    FILENAME_MOCA,\n",
    "    FILENAME_UPDRS1A,\n",
    "    FILENAME_UPDRS1B,\n",
    "    FILENAME_UPDRS2,\n",
    "    FILENAME_UPDRS3,\n",
    "    FILENAME_ADL,\n",
    "]\n",
    "\n",
    "downloader = ppmi.Downloader(utils.study_files_dir)\n",
    "utils.get_study_files(required_files, default=downloader)"
   ]
  },
  {
   "cell_type": "markdown",
   "id": "339378a5",
   "metadata": {},
   "source": [
    "### Subjects with T1 MRI available"
   ]
  },
  {
   "cell_type": "markdown",
   "id": "7a95b22b",
   "metadata": {},
   "source": [
    "The paper uses a main cohort and a validation cohort. The **main cohort** consists of subjects with 3T T1 scans and is a subset of the cohort the authors used in the 2015 paper. The **validation cohort** consists of subjects with 1.5T T1 scans.\n",
    "\n",
    "***Main cohort***\n",
    "\n",
    "The main cohort was made up of of 222 PD patients and 112 healthy controls. In the 2015 paper, the authors used data from 237 PD patients and 118 healthy controls. MRI processing failure led to the exclusion of 5 PD patients and 1 healthy control, and so the final cohort consisted of 232 PD patients and 117 healthy controls. In the 2019 paper, an additional 10 PD patients and 5 healthy controls were excluded due to lack of follow-up data required in the analysis.\n",
    "\n",
    "*Note*: In the 2015 paper, the authors state that they used scans acquired from September 2013 to January 2014. However, if we restrict our search to this time period, the number of available scans is much lower than expected (38 PD patients instead of 237, 1 healthy control instead of 118). If we instead use all subjects with 3T scans from January 31st 2014 and before, we obtain 236 PD patients and 113 healthy controls, which is closer to what we expect thought still not exactly the same.\n",
    "\n",
    "***Validation cohort***\n",
    "\n",
    "The validation cohort was made up of 140 PD patients. The paper states that data were downloaded in October 2017, so we use all subjects with 1.5T scans from October 31st 2017 and before. "
   ]
  },
  {
   "cell_type": "code",
   "execution_count": 4,
   "id": "43a7c474",
   "metadata": {},
   "outputs": [
    {
     "name": "stdout",
     "output_type": "stream",
     "text": [
      "This notebook was run on 2023-04-09 20:27:42 UTC +0000\n",
      "['COR', 'Coronal', 'Cal Head 24', 'Transverse', 'tra_T1_MPRAGE', 'TRA']\n",
      "['AX', 'Ax', 'axial', 'Phantom', 'T2']\n",
      "{'Screening': 'SC', 'Baseline': 'BL', 'Month 6': 'V02', 'Month 12': 'V04', 'Month 24': 'V06', 'Month 36': 'V08', 'Month 48': 'V10', 'Symptomatic Therapy': 'ST', 'Unscheduled Visit 01': 'U01', 'Unscheduled Visit 02': 'U02', 'Premature Withdrawal': 'PW'}\n",
      "Saved in MRI_info.csv\n",
      "Using MRI info file: /data/origami/livingpark/zeighami-etal-2019/inputs/study_files/MRI_info.csv\n",
      "WARNING: Duplicate subjects in main cohort\n",
      "Parkinson's Disease    244\n",
      "Healthy Control        117\n",
      "Name: COHORT_DEFINITION, dtype: int64\n"
     ]
    }
   ],
   "source": [
    "from livingpark_utils.scripts import mri_metadata\n",
    "\n",
    "df_status = load_ppmi_csv(utils, FILENAME_PARTICIPANT_STATUS)\n",
    "\n",
    "df_t1_info = get_t1_cohort(\n",
    "    utils,\n",
    "    cohort_name=MAIN_COHORT,\n",
    "    filename=FILENAME_T1_INFO,\n",
    "    sagittal_only=True,\n",
    ")\n",
    "\n",
    "print(df_t1_info.drop_duplicates(COL_PAT_ID)[COL_STATUS].value_counts())"
   ]
  },
  {
   "cell_type": "markdown",
   "id": "ff3d6f5a",
   "metadata": {},
   "source": [
    "### Remove subjects with no follow-up data available"
   ]
  },
  {
   "cell_type": "markdown",
   "id": "fac8cc6c",
   "metadata": {},
   "source": [
    "The original paper excluded participants with less than 1 year of follow-up:\n",
    "* 10 PD patients and 5 healthy controls from their main cohort\n",
    "* No subjects were removed from the validation cohort\n",
    "\n",
    "We will identify subjects with less than 1 year of follow-up for the PD progression measures."
   ]
  },
  {
   "cell_type": "markdown",
   "id": "18616fa4",
   "metadata": {},
   "source": [
    "First, we load/compute and merge all the required clinical/cognitive measures:\n",
    "* UPDRS Part I\n",
    "* UPDRS Part II\n",
    "* UPDRS Part III\n",
    "* Modified Schwab and England Activities of Daily Living (ADL) scale\n",
    "* Postural instability and gait disturbance (PIGD) score\n",
    "* MoCA\n",
    "\n",
    "Missing values are imputed with the mean across the entire dataset, except for the MoCA score (handled below).\n",
    "\n",
    "There are two files associated with UPDRS Part I (IA: Complex behaviors; IB: Partipant questionnaire). We use the sum of the total score in each file.\n",
    "\n",
    "The PIGD score is defined in [Stebbins et al. 2013](https://doi.org/10.1002/mds.25383) and consists of the mean of a subset of UPDRS (Part II and III) measures."
   ]
  },
  {
   "cell_type": "code",
   "execution_count": 5,
   "id": "a29efdd2",
   "metadata": {},
   "outputs": [],
   "source": [
    "cols_for_merge = [COL_PAT_ID, COL_DATE_INFO, COL_VISIT_TYPE]\n",
    "\n",
    "df_updrs1a = load_ppmi_csv(utils, FILENAME_UPDRS1A, cols_to_impute=COL_UPDRS1A)\n",
    "df_updrs1b = load_ppmi_csv(utils, FILENAME_UPDRS1B, cols_to_impute=COL_UPDRS1B)\n",
    "df_updrs2 = load_ppmi_csv(\n",
    "    utils, FILENAME_UPDRS2, cols_to_impute=COLS_PIGD_COMPONENTS_UPDRS2 + [COL_UPDRS2]\n",
    ")\n",
    "df_updrs3 = load_ppmi_csv(\n",
    "    utils, FILENAME_UPDRS3, cols_to_impute=COLS_PIGD_COMPONENTS_UPDRS3 + [COL_UPDRS3]\n",
    ")\n",
    "df_adl = load_ppmi_csv(utils, FILENAME_ADL, cols_to_impute=COL_ADL)\n",
    "df_moca = load_ppmi_csv(utils, FILENAME_MOCA)  # do not impute\n",
    "\n",
    "df_updrs1 = df_updrs1a.merge(df_updrs1b, on=cols_for_merge)\n",
    "# df_updrs1[COL_UPDRS1] = df_updrs1.loc[:, [COL_UPDRS1B]].sum(axis=\"columns\")\n",
    "df_updrs1[COL_UPDRS1] = df_updrs1.loc[:, [COL_UPDRS1A, COL_UPDRS1B]].sum(axis=\"columns\")\n",
    "\n",
    "# some subjects in the validation cohort have multiple entries on the same date\n",
    "# one for PDSTATE=ON and one for PDSTATE=OFF\n",
    "# PDSTATE=OFF is the typical functional state when participants have a poor response in spite of taking medications\n",
    "# PDSTATE=ON is the typical functional state when patients are receiving medication and have a good response\n",
    "# we drop rows where PDSTATE is ON # TODO use cleaned table from notebook\n",
    "df_updrs3 = df_updrs3.loc[df_updrs3[COL_PD_STATE] != \"ON\"]\n",
    "\n",
    "# PIGD score is build from UPDRS (Stebbins et al. 2013)\n",
    "df_pigd = df_updrs2.merge(df_updrs3, on=cols_for_merge, how=\"inner\")\n",
    "df_pigd[COL_PIGD] = df_pigd.loc[:, COLS_PIGD_COMPONENTS].mean(axis=\"columns\")\n",
    "\n",
    "df_updrs1 = df_updrs1.loc[:, cols_for_merge + [COL_UPDRS1]]\n",
    "df_updrs2 = df_updrs2.loc[:, cols_for_merge + [COL_UPDRS2]]\n",
    "df_updrs3 = df_updrs3.loc[:, cols_for_merge + [COL_UPDRS3]]\n",
    "df_adl = df_adl.loc[:, cols_for_merge + [COL_ADL]]\n",
    "df_pigd = df_pigd.loc[:, cols_for_merge + [COL_PIGD]]\n",
    "df_moca = df_moca.loc[:, cols_for_merge + [COL_MOCA]]\n",
    "\n",
    "df_assessments_all = reduce(\n",
    "    lambda df1, df2: df1.merge(df2, on=cols_for_merge, how=\"outer\"),\n",
    "    [df_updrs2, df_updrs3, df_adl, df_pigd, df_updrs1, df_moca],\n",
    ").drop_duplicates()\n",
    "\n",
    "# some missing values remain even if we use the screening visit score\n",
    "# we need original mean to impute them\n",
    "mean_moca = df_moca[COL_MOCA].mean()\n",
    "\n",
    "cols_to_impute = [col for col in COLS_SCORES_WITHOUT_GCO if col != COL_MOCA]\n",
    "df_assessments_all = mean_impute(df_assessments_all, cols_to_impute)\n",
    "\n",
    "# keep only subjects who have a T1\n",
    "# cohort_assessments_map_orig: dict[str, pd.DataFrame] = {}\n",
    "# for cohort_name, df_t1_subset in cohort_t1_map.items():\n",
    "#     cohort_assessments_map_orig[cohort_name] = df_assessments_all.loc[\n",
    "#         df_assessments_all[COL_PAT_ID].isin(df_t1_subset[COL_PAT_ID])\n",
    "#     ]\n",
    "df_assessments_orig = df_assessments_all.loc[\n",
    "    df_assessments_all[COL_PAT_ID].isin(df_t1_info[COL_PAT_ID])\n",
    "]"
   ]
  },
  {
   "cell_type": "markdown",
   "id": "444c17f9",
   "metadata": {},
   "source": [
    "Most subjects (including all subjects in the main cohort) took the MoCA during the screening visit, not the baseline visit. We replace the baseline MoCA score by the one from the screening visit. We plot a histogram for the number of days between baseline and screening visits, to check whether it was reasonable to use the screening visit score if the baseline score was not available."
   ]
  },
  {
   "cell_type": "code",
   "execution_count": 6,
   "id": "d3f39ed4",
   "metadata": {},
   "outputs": [
    {
     "name": "stdout",
     "output_type": "stream",
     "text": [
      "----- With baseline assessments + T1 -----\n",
      "Parkinson's Disease    242\n",
      "Healthy Control        117\n",
      "Name: COHORT_DEFINITION, dtype: int64\n",
      "----- With followup assessments -----\n",
      "Parkinson's Disease    231\n",
      "Healthy Control        113\n",
      "Name: COHORT_DEFINITION, dtype: int64\n"
     ]
    },
    {
     "data": {
      "text/plain": [
       "<matplotlib.legend.Legend at 0x7fa76af89180>"
      ]
     },
     "execution_count": 6,
     "metadata": {},
     "output_type": "execute_result"
    },
    {
     "data": {
      "image/png": "[encoded data removed]",
      "text/plain": [
       "<Figure size 640x480 with 1 Axes>"
      ]
     },
     "metadata": {},
     "output_type": "display_data"
    }
   ],
   "source": [
    "col_date_diff = \"date_diff\"\n",
    "max_date_followup = MAX_DATES[VALIDATION_COHORT]\n",
    "\n",
    "re_followup_compiled = re.compile(REGEX_VISIT_FOLLOWUP)\n",
    "\n",
    "df_age = load_ppmi_csv(utils, FILENAME_AGE)\n",
    "COL_AGE = \"AGE_AT_VISIT\"\n",
    "\n",
    "date_diffs = []\n",
    "\n",
    "# split baseline/screening assessment data\n",
    "df_assessments_baseline = df_assessments_orig.loc[\n",
    "    df_assessments_orig[COL_VISIT_TYPE] == VISIT_BASELINE\n",
    "]\n",
    "df_assessments_screening = df_assessments_orig.loc[\n",
    "    df_assessments_orig[COL_VISIT_TYPE] == VISIT_SCREENING\n",
    "]\n",
    "\n",
    "# try to fill in missing baseline data\n",
    "for idx_row_baseline, row_baseline in df_assessments_baseline.iterrows():\n",
    "\n",
    "    subject = row_baseline[COL_PAT_ID]\n",
    "    date_baseline = row_baseline[COL_DATE_INFO]\n",
    "\n",
    "    # for each score columns\n",
    "    for col in [COL_MOCA]:\n",
    "\n",
    "        # fill missing values with screening data\n",
    "        if pd.isna(row_baseline[col]):\n",
    "\n",
    "            df_screening_subject = df_assessments_screening.loc[\n",
    "                df_assessments_screening[COL_PAT_ID] == subject\n",
    "            ]\n",
    "\n",
    "            # if the subject had multiple screening visits\n",
    "            # we take the one that is closest to the baseline visit\n",
    "            n_screening = len(df_screening_subject)\n",
    "            if n_screening > 1:\n",
    "                df_screening_subject[col_date_diff] = (\n",
    "                    date_baseline - df_screening_subject[COL_DATE_INFO]\n",
    "                )\n",
    "                df_screening_subject = df_screening_subject.sort_values(\n",
    "                    col_date_diff, ascending=True\n",
    "                )\n",
    "\n",
    "            # find corresponding assessment score in screening visits\n",
    "            for idx_row_screening, row_screening in df_screening_subject.iterrows():\n",
    "                new_value = row_screening[col]\n",
    "                date_diff = date_baseline - row_screening[COL_DATE_INFO]\n",
    "                if not pd.isna(new_value):\n",
    "                    break\n",
    "\n",
    "            # replace\n",
    "            if not pd.isna(new_value):\n",
    "                df_assessments_baseline.loc[idx_row_baseline, col] = new_value\n",
    "                date_diffs.append(date_diff.days)  # for plotting\n",
    "\n",
    "# plot baseline-screening date difference\n",
    "date_diffs = pd.Series(date_diffs)\n",
    "ax = date_diffs.hist(\n",
    "    bins=30, alpha=0.7, label=f\"Mean={date_diffs.mean():.2f} days\"\n",
    ")\n",
    "\n",
    "# pick latest follow-up visit\n",
    "df_assessments_followup = df_assessments_orig.loc[\n",
    "    (df_assessments_orig[COL_PAT_ID].isin(df_assessments_baseline[COL_PAT_ID]))\n",
    "    & (\n",
    "        df_assessments_orig[COL_VISIT_TYPE].apply(\n",
    "            lambda v: re_followup_compiled.match(v)\n",
    "        )\n",
    "    )\n",
    "]\n",
    "\n",
    "# keep most recent follow-up data up to retrieval date in original paper\n",
    "df_assessments_followup = filter_date(\n",
    "    df_assessments_followup, max_date=max_date_followup\n",
    ")\n",
    "df_assessments_followup = (\n",
    "    df_assessments_followup.groupby(COL_PAT_ID)\n",
    "    .apply(lambda df: df.sort_values(COL_DATE_INFO, ascending=False).head(1))\n",
    "    .reset_index(drop=True)\n",
    ")\n",
    "\n",
    "# we keep track of subjects who have both baseline and follow-up data\n",
    "# TODO decide whether to drop subjects with no follow-up data for DBM part\n",
    "# NOTE: for the DBM part, we don't drop subjects who don't have follow-up data,\n",
    "#       but for the classification we will only use subjects with both baseline and follow-up data\n",
    "subjects_with_followup = set(df_assessments_orig[COL_PAT_ID])\n",
    "for df_visit in [df_assessments_baseline, df_assessments_followup]:\n",
    "    subjects_with_followup = subjects_with_followup & set(df_visit[COL_PAT_ID])\n",
    "\n",
    "# combine baseline and follow-up\n",
    "df_assessments_baseline[COL_FOLLOWUP] = False\n",
    "df_assessments_followup[COL_FOLLOWUP] = True\n",
    "df_assessments = pd.concat(\n",
    "    [df_assessments_baseline, df_assessments_followup], axis=\"index\"\n",
    ")\n",
    "\n",
    "# add age\n",
    "df_assessments = df_assessments.merge(\n",
    "    df_age, on=[COL_PAT_ID, COL_VISIT_TYPE], how='left',\n",
    ")\n",
    "\n",
    "# # only keep common subjects\n",
    "# df_assessments = df_assessments.loc[\n",
    "#     df_assessments[COL_PAT_ID].isin(subjects_with_followup)\n",
    "# ]\n",
    "\n",
    "# impute remaining missing MoCA values with the original mean\n",
    "df_assessments.loc[\n",
    "    df_assessments[COL_MOCA].isna(), COL_MOCA\n",
    "] = mean_moca\n",
    "\n",
    "# add status\n",
    "df_assessments[COL_STATUS] = df_status.set_index(COL_PAT_ID).loc[df_assessments[COL_PAT_ID], COL_STATUS].to_list()\n",
    "\n",
    "print('----- With baseline assessments + T1 -----')\n",
    "print(df_assessments.drop_duplicates(COL_PAT_ID)[COL_STATUS].value_counts())\n",
    "print('----- With followup assessments -----')\n",
    "print(df_assessments.loc[df_assessments[COL_PAT_ID].isin(subjects_with_followup)].drop_duplicates(COL_PAT_ID)[COL_STATUS].value_counts())\n",
    "\n",
    "# NOTE: date resolution is months\n",
    "ax.set_title(\"Number of days between baseline and screening visits\")\n",
    "ax.legend()"
   ]
  },
  {
   "attachments": {},
   "cell_type": "markdown",
   "id": "02313385",
   "metadata": {},
   "source": [
    "### Global composite outcome (GCO) measure"
   ]
  },
  {
   "attachments": {},
   "cell_type": "markdown",
   "id": "20a2a8c4",
   "metadata": {},
   "source": [
    "The global composite outcome is the average of the z-scores of the other measures."
   ]
  },
  {
   "cell_type": "code",
   "execution_count": 22,
   "id": "cc04fa53",
   "metadata": {},
   "outputs": [],
   "source": [
    "df_assessments_baseline = df_assessments.loc[\n",
    "    ~df_assessments[COL_FOLLOWUP], COLS_SCORES_WITHOUT_GCO\n",
    "]\n",
    "gco_means = df_assessments_baseline.mean()\n",
    "gco_stds = df_assessments_baseline.std()\n",
    "gco = ((df_assessments[COLS_SCORES_WITHOUT_GCO] - gco_means) / gco_stds).mean(\n",
    "    axis=\"columns\"\n",
    ")\n",
    "df_assessments[COL_GCO] = gco\n"
   ]
  },
  {
   "cell_type": "markdown",
   "id": "b76d1113",
   "metadata": {},
   "source": [
    "### Final cohorts"
   ]
  },
  {
   "attachments": {},
   "cell_type": "markdown",
   "id": "c4fc95e6",
   "metadata": {},
   "source": [
    "We check the average time between baseline and follow-up visits. In the original paper they report an average of 4.5 years. TODO mention validation cohort"
   ]
  },
  {
   "cell_type": "code",
   "execution_count": 23,
   "id": "6213a62e",
   "metadata": {},
   "outputs": [
    {
     "name": "stdout",
     "output_type": "stream",
     "text": [
      "4.630 (± 1.047) years\n"
     ]
    }
   ],
   "source": [
    "df_duration = df_assessments.loc[df_assessments[COL_PAT_ID].isin(subjects_with_followup)].groupby(COL_PAT_ID).apply(\n",
    "    lambda df: (\n",
    "        df.loc[df[COL_FOLLOWUP], COL_DATE_INFO].item()\n",
    "        - df.loc[~df[COL_FOLLOWUP], COL_DATE_INFO].item()\n",
    "    )\n",
    ")\n",
    "\n",
    "print(\n",
    "    f\"{df_duration.mean().days / 365:.3f} \"\n",
    "    f\"(\\u00B1 {df_duration.std().days / 365:.3f}) years\"\n",
    ")"
   ]
  },
  {
   "cell_type": "markdown",
   "id": "d76dfb70",
   "metadata": {},
   "source": [
    "Finally, we create a demographics table similar to the one in the original paper:"
   ]
  },
  {
   "cell_type": "code",
   "execution_count": 24,
   "id": "4401f46e",
   "metadata": {},
   "outputs": [
    {
     "data": {
      "text/html": [
       "<div>\n",
       "<style scoped>\n",
       "    .dataframe tbody tr th:only-of-type {\n",
       "        vertical-align: middle;\n",
       "    }\n",
       "\n",
       "    .dataframe tbody tr th {\n",
       "        vertical-align: top;\n",
       "    }\n",
       "\n",
       "    .dataframe thead tr th {\n",
       "        text-align: left;\n",
       "    }\n",
       "</style>\n",
       "<table border=\"1\" class=\"dataframe\">\n",
       "  <thead>\n",
       "    <tr>\n",
       "      <th>cohort</th>\n",
       "      <th colspan=\"2\" halign=\"left\">Main cohort (n = 231)</th>\n",
       "    </tr>\n",
       "    <tr>\n",
       "      <th>is_followup</th>\n",
       "      <th>False</th>\n",
       "      <th>True</th>\n",
       "    </tr>\n",
       "  </thead>\n",
       "  <tbody>\n",
       "    <tr>\n",
       "      <th>Age at diagnosis</th>\n",
       "      <td>60.7 (9.3)</td>\n",
       "      <td>-</td>\n",
       "    </tr>\n",
       "    <tr>\n",
       "      <th>Male (%)</th>\n",
       "      <td>64.5</td>\n",
       "      <td>-</td>\n",
       "    </tr>\n",
       "    <tr>\n",
       "      <th>UPDRS Part II</th>\n",
       "      <td>5.6 (4.0)</td>\n",
       "      <td>10.7 (7.4)</td>\n",
       "    </tr>\n",
       "    <tr>\n",
       "      <th>UPDRS Part III</th>\n",
       "      <td>21.7 (9.1)</td>\n",
       "      <td>23.1 (11.9)</td>\n",
       "    </tr>\n",
       "    <tr>\n",
       "      <th>S&amp;E ADL</th>\n",
       "      <td>93.6 (5.7)</td>\n",
       "      <td>86.2 (11.9)</td>\n",
       "    </tr>\n",
       "    <tr>\n",
       "      <th>PIGD</th>\n",
       "      <td>0.2 (0.2)</td>\n",
       "      <td>0.6 (0.6)</td>\n",
       "    </tr>\n",
       "    <tr>\n",
       "      <th>UPDRS Part I</th>\n",
       "      <td>5.4 (3.9)</td>\n",
       "      <td>9.4 (6.2)</td>\n",
       "    </tr>\n",
       "    <tr>\n",
       "      <th>MoCA</th>\n",
       "      <td>27.3 (2.2)</td>\n",
       "      <td>26.5 (3.3)</td>\n",
       "    </tr>\n",
       "    <tr>\n",
       "      <th>Global composite outcome</th>\n",
       "      <td>0.2 (0.4)</td>\n",
       "      <td>0.3 (0.6)</td>\n",
       "    </tr>\n",
       "  </tbody>\n",
       "</table>\n",
       "</div>"
      ],
      "text/plain": [
       "cohort                   Main cohort (n = 231)             \n",
       "is_followup                              False        True \n",
       "Age at diagnosis                    60.7 (9.3)            -\n",
       "Male (%)                                  64.5            -\n",
       "UPDRS Part II                        5.6 (4.0)   10.7 (7.4)\n",
       "UPDRS Part III                      21.7 (9.1)  23.1 (11.9)\n",
       "S&E ADL                             93.6 (5.7)  86.2 (11.9)\n",
       "PIGD                                 0.2 (0.2)    0.6 (0.6)\n",
       "UPDRS Part I                         5.4 (3.9)    9.4 (6.2)\n",
       "MoCA                                27.3 (2.2)   26.5 (3.3)\n",
       "Global composite outcome             0.2 (0.4)    0.3 (0.6)"
      ]
     },
     "execution_count": 24,
     "metadata": {},
     "output_type": "execute_result"
    }
   ],
   "source": [
    "def to_1_decimal_str(f):\n",
    "    return str(round(f, 1))\n",
    "\n",
    "\n",
    "df_age = load_ppmi_csv(utils, FILENAME_AGE)\n",
    "df_demographics = load_ppmi_csv(utils, FILENAME_DEMOGRAPHICS)\n",
    "df_pd_history = load_ppmi_csv(utils, FILENAME_PD_HISTORY)\n",
    "\n",
    "col_male = \"is_male\"\n",
    "col_cohort = \"cohort\"\n",
    "col_age_diag = \"age_diag\"\n",
    "\n",
    "dfs_summary = []\n",
    "df_assessments_with_followup = df_assessments.copy()\n",
    "\n",
    "# only report subjects used in the classification\n",
    "subjects = df_assessments_with_followup.loc[\n",
    "    df_assessments_with_followup[COL_PAT_ID].isin(subjects_with_followup), \n",
    "    COL_PAT_ID\n",
    "].drop_duplicates()\n",
    "subjects_pd = df_status.loc[\n",
    "    (df_status[COL_PAT_ID].isin(subjects)) & (df_status[COL_STATUS] == STATUS_PD),\n",
    "    COL_PAT_ID,\n",
    "]\n",
    "\n",
    "# the paper only report measures for the PD patients\n",
    "df_assessments_with_followup = df_assessments_with_followup.loc[df_assessments_with_followup[COL_PAT_ID].isin(subjects_pd)]\n",
    "\n",
    "df_summary = df_demographics.merge(\n",
    "    df_pd_history,\n",
    "    on=[COL_PAT_ID],\n",
    ")\n",
    "df_summary[col_age_diag] = (\n",
    "    df_summary[COL_DATE_PD] - df_summary[COL_DATE_BIRTH]\n",
    ") / np.timedelta64(1, \"Y\")\n",
    "df_summary[col_male] = (df_summary[COL_SEX] == SEX_MALE).apply(\n",
    "    lambda v: 100 if v else 0\n",
    ")\n",
    "df_summary = df_summary.loc[\n",
    "    df_summary[COL_PAT_ID].isin(subjects_pd),\n",
    "    [COL_PAT_ID, col_age_diag, col_male],\n",
    "]\n",
    "df_summary[COL_FOLLOWUP] = False\n",
    "\n",
    "# combine with clinical/cognitive scores\n",
    "df_summary = df_summary.merge(\n",
    "    df_assessments_with_followup, on=[COL_PAT_ID, COL_FOLLOWUP], how=\"outer\"\n",
    ")\n",
    "df_summary = df_summary.drop(columns=COL_PAT_ID)\n",
    "\n",
    "# append\n",
    "df_summary[col_cohort] = f\"Main cohort (n = {len(subjects_pd)})\"\n",
    "dfs_summary.append(df_summary)\n",
    "\n",
    "df_summary = pd.concat(dfs_summary)\n",
    "df_summary_means = (\n",
    "    df_summary.groupby([col_cohort, COL_FOLLOWUP]).mean().applymap(to_1_decimal_str)\n",
    ")\n",
    "df_summary_stds = (\n",
    "    df_summary.groupby([col_cohort, COL_FOLLOWUP]).std().applymap(to_1_decimal_str)\n",
    ")\n",
    "df_summary_stds = \" (\" + df_summary_stds + \")\"\n",
    "df_summary_stds.loc[:, col_male] = \"\"\n",
    "df_summary_combined = (df_summary_means + df_summary_stds).T\n",
    "df_summary_combined = df_summary_combined.applymap(lambda x: \"-\" if \"nan\" in x else x)\n",
    "df_summary_combined = df_summary_combined.drop(index=COL_AGE)\n",
    "df_summary_combined = df_summary_combined.rename(\n",
    "    index={\n",
    "        col_age_diag: \"Age at diagnosis\",\n",
    "        col_male: \"Male (%)\",\n",
    "        COL_UPDRS2: \"UPDRS Part II\",\n",
    "        COL_UPDRS3: \"UPDRS Part III\",\n",
    "        COL_ADL: \"S&E ADL\",\n",
    "        COL_PIGD: \"PIGD\",\n",
    "        COL_UPDRS1: \"UPDRS Part I\",\n",
    "        COL_MOCA: \"MoCA\",\n",
    "        COL_GCO: \"Global composite outcome\",\n",
    "    }\n",
    ")\n",
    "df_summary_combined"
   ]
  },
  {
   "cell_type": "markdown",
   "id": "9c1f7f84",
   "metadata": {},
   "source": [
    "The values in the table above are generally similar to those obtained in the original paper, though not exactly the same. We were unable to obtain the same number of PD patients as the original paper: we have 223 instead of 222 for the main cohort, and 124 instead of 140 for the validation cohort. Our validation cohort has a smaller percentage of males (59.7%) compared to the original paper (67.9%). Mean clinical and cognitive assessment scores are generally close to those reported in the original paper, with some exceptions (e.g., UPDRS Parts I and III in the follow-up visits for both cohorts)."
   ]
  },
  {
   "cell_type": "markdown",
   "id": "e1a2c26f",
   "metadata": {},
   "source": [
    "#### Cohort ID"
   ]
  },
  {
   "cell_type": "markdown",
   "id": "083247c4",
   "metadata": {},
   "source": [
    "We generate a cohort ID that uniquely identifies the main/validation cohorts. We will use these IDs to avoid recomputing the same results multiple times."
   ]
  },
  {
   "cell_type": "code",
   "execution_count": 25,
   "id": "985387c7",
   "metadata": {},
   "outputs": [
    {
     "name": "stdout",
     "output_type": "stream",
     "text": [
      "Cohort id: _460520092359662532\n",
      "\tCohort patient ids saved in dbm/zeighami-etal-2019-cohort-_460520092359662532.csv\n",
      "Do not share this file publicly!\n"
     ]
    }
   ],
   "source": [
    "# get cohort ID\n",
    "cohort_id = livingpark_utils.dataset.ppmi.cohort_id(\n",
    "    df_assessments.drop_duplicates(COL_PAT_ID)\n",
    ")\n",
    "print(f\"Cohort id: {cohort_id}\")\n",
    "\n",
    "# save patient ids\n",
    "fpath_cohort = Path(\"dbm\", f\"zeighami-etal-2019-cohort-{cohort_id}.csv\")\n",
    "df_to_save = df_t1_info.loc[df_t1_info[COL_PAT_ID].isin(df_assessments[COL_PAT_ID])]\n",
    "df_to_save[COL_PAT_ID] = df_to_save[COL_PAT_ID].astype(np.int64)\n",
    "df_to_save.drop_duplicates().sort_values(by=COL_PAT_ID).to_csv(\n",
    "    fpath_cohort, index=False\n",
    ")\n",
    "print(f\"\\tCohort patient ids saved in {fpath_cohort}\")\n",
    "\n",
    "print(\"Do not share this file publicly!\")"
   ]
  },
  {
   "cell_type": "markdown",
   "id": "d4ffc4af",
   "metadata": {},
   "source": [
    "## MRI data processing"
   ]
  },
  {
   "cell_type": "markdown",
   "id": "cb691c55",
   "metadata": {},
   "source": [
    "TODO Description of how to run DBM on BIC"
   ]
  },
  {
   "cell_type": "markdown",
   "id": "6c123fce",
   "metadata": {},
   "source": [
    "### Download DBM results from BIC server"
   ]
  },
  {
   "cell_type": "code",
   "execution_count": 6,
   "id": "408e0968",
   "metadata": {},
   "outputs": [],
   "source": [
    "# TODO"
   ]
  },
  {
   "cell_type": "markdown",
   "id": "a04289ca",
   "metadata": {},
   "source": [
    "### Run ICA using FSL MELODIC"
   ]
  },
  {
   "cell_type": "code",
   "execution_count": 7,
   "id": "8543163a",
   "metadata": {},
   "outputs": [],
   "source": [
    "# TODO"
   ]
  },
  {
   "cell_type": "markdown",
   "id": "878f3d92",
   "metadata": {},
   "source": [
    "## PD-ICA component"
   ]
  },
  {
   "cell_type": "code",
   "execution_count": 26,
   "id": "36a0430e",
   "metadata": {},
   "outputs": [],
   "source": [
    "# TODO change\n",
    "tag = '_460520092359662532_qc1'\n",
    "melodic_method = 'lap'\n",
    "dpath_tarballs = '/data/origami/livingpark/zeighami-etal-2019/dbm/tarballs'\n",
    "fpath_melodic = Path(dpath_tarballs, f'melodic_results-{tag}-{melodic_method}')\n",
    "fpath_scores = Path(fpath_melodic, 'melodic_Tmodes')\n",
    "fpath_ICs = Path(fpath_melodic, 'melodic_IC.nii.gz')\n",
    "fpath_info = Path(dpath_tarballs, f'tmp-{tag}', 'info.csv')"
   ]
  },
  {
   "cell_type": "code",
   "execution_count": 27,
   "id": "630dbe54",
   "metadata": {},
   "outputs": [
    {
     "name": "stdout",
     "output_type": "stream",
     "text": [
      "31 ICs\n",
      "354 participants:\n",
      "Parkinson's Disease    238\n",
      "Healthy Control        116\n",
      "Name: COHORT_DEFINITION, dtype: int64\n"
     ]
    }
   ],
   "source": [
    "df_scores = pd.read_csv(fpath_scores, delim_whitespace=True, header=None)\n",
    "subjects = pd.read_csv(fpath_info)['subject'].to_list()\n",
    "\n",
    "df_scores.columns = [f'IC{i+1}' for i in range(df_scores.shape[1])]\n",
    "df_scores.index = subjects\n",
    "\n",
    "df_scores_status = df_scores.copy() # show status instead of ID\n",
    "df_scores_status.index = df_status.set_index(COL_PAT_ID).loc[subjects, COL_STATUS].reset_index(drop=True)\n",
    "\n",
    "print(f'{df_scores_status.shape[1]} ICs')\n",
    "print(f'{df_scores_status.shape[0]} participants:')\n",
    "print(df_scores_status.index.value_counts())"
   ]
  },
  {
   "cell_type": "code",
   "execution_count": 28,
   "id": "995aba01",
   "metadata": {},
   "outputs": [
    {
     "name": "stdout",
     "output_type": "stream",
     "text": [
      "IC9      0.012803\n",
      "IC10     0.949017\n",
      "IC27     1.244832\n",
      "IC7      1.917394\n",
      "IC19     2.177640\n",
      "IC16     2.443229\n",
      "IC8      2.621142\n",
      "IC31     4.289025\n",
      "IC3      4.443680\n",
      "IC6      6.518653\n",
      "IC12     7.685009\n",
      "IC26     8.566268\n",
      "IC29     9.151588\n",
      "IC18    11.022191\n",
      "IC15    11.433351\n",
      "IC5     11.918975\n",
      "IC11    13.617587\n",
      "IC20    14.781187\n",
      "IC25    16.338769\n",
      "IC22    16.890953\n",
      "IC17    20.949272\n",
      "IC4     20.977539\n",
      "IC30    23.905324\n",
      "IC13    24.048246\n",
      "IC1     25.978389\n",
      "IC2     26.688715\n",
      "IC23    27.053452\n",
      "IC24    28.058071\n",
      "IC21    28.242724\n",
      "IC14    28.561560\n",
      "IC28    29.543446\n",
      "dtype: float64\n"
     ]
    }
   ],
   "source": [
    "import numpy as np\n",
    "from scipy.stats import ttest_ind\n",
    "\n",
    "p_values = pd.Series(\n",
    "    ttest_ind(\n",
    "        df_scores_status.loc[\"Parkinson's Disease\"],\n",
    "        df_scores_status.loc[\"Healthy Control\"],\n",
    "        alternative='less',\n",
    "    )[1],\n",
    "    index=df_scores_status.columns.to_list()\n",
    ")\n",
    "\n",
    "i_components_sorted = np.argsort(list(p_values))\n",
    "p_values *= len(p_values) # Bonferroni correction\n",
    "\n",
    "print(p_values.sort_values())"
   ]
  },
  {
   "cell_type": "code",
   "execution_count": 33,
   "id": "49485394",
   "metadata": {},
   "outputs": [],
   "source": [
    "# import seaborn as sns\n",
    "\n",
    "# x_label = \"IC\"\n",
    "# y_label = \"Mean DBM value\"\n",
    "\n",
    "# df_scores_to_plot = pd.melt(\n",
    "#     df_scores_status.reset_index(),\n",
    "#     id_vars=[COL_STATUS],\n",
    "#     var_name=x_label,\n",
    "#     value_name=y_label,\n",
    "# )\n",
    "\n",
    "# ax = sns.stripplot(\n",
    "#     df_scores_to_plot,\n",
    "#     x=x_label,\n",
    "#     y=y_label,\n",
    "#     hue=COL_STATUS,\n",
    "#     order=p_values.sort_values().index,\n",
    "#     alpha=0.4,\n",
    "# )\n",
    "# ax.tick_params(axis=\"x\", rotation=90)\n",
    "\n"
   ]
  },
  {
   "cell_type": "code",
   "execution_count": 29,
   "id": "b22eabca",
   "metadata": {},
   "outputs": [
    {
     "data": {
      "text/plain": [
       "<Axes: xlabel='IC9', ylabel='Count'>"
      ]
     },
     "execution_count": 29,
     "metadata": {},
     "output_type": "execute_result"
    },
    {
     "data": {
      "image/png": "[encoded data removed]",
      "text/plain": [
       "<Figure size 640x480 with 1 Axes>"
      ]
     },
     "metadata": {},
     "output_type": "display_data"
    }
   ],
   "source": [
    "import seaborn as sns\n",
    "sns.histplot(\n",
    "    df_scores_status.reset_index(),\n",
    "    x=p_values.sort_values().index[0],\n",
    "    hue=COL_STATUS,\n",
    ")"
   ]
  },
  {
   "cell_type": "code",
   "execution_count": 30,
   "id": "b07b4655",
   "metadata": {},
   "outputs": [],
   "source": [
    "from nilearn import image, plotting\n",
    "import nibabel as nib\n",
    "\n",
    "\n",
    "def plot_IC(fpath, i_component=None, threshold=2.5, display_mode=\"z\", cut_coords=None, title=None):\n",
    "    img = nib.load(fpath)\n",
    "    if i_component is not None:\n",
    "        img = image.index_img(img, i_component)\n",
    "    display = plotting.plot_stat_map(\n",
    "        img, threshold=threshold, display_mode=display_mode, cut_coords=cut_coords, title=title,\n",
    "    )\n",
    "    return display"
   ]
  },
  {
   "cell_type": "code",
   "execution_count": 31,
   "id": "d10f22c0",
   "metadata": {},
   "outputs": [
    {
     "name": "stdout",
     "output_type": "stream",
     "text": [
      "ICA file already exists, skipping download\n"
     ]
    }
   ],
   "source": [
    "%%bash\n",
    "FNAME_PD_ICA=\"melodic_IC_0007.nii.gz\"\n",
    "if [ ! -f ${FNAME_PD_ICA} ]\n",
    "then\n",
    "    wget \"https://neurovault.org/media/images/860/${FNAME_PD_ICA}\"\n",
    "else\n",
    "    echo 'ICA file already exists, skipping download'\n",
    "fi"
   ]
  },
  {
   "cell_type": "code",
   "execution_count": 32,
   "id": "b082790f",
   "metadata": {},
   "outputs": [
    {
     "name": "stdout",
     "output_type": "stream",
     "text": [
      "IC9    0.012803\n",
      "dtype: float64\n"
     ]
    },
    {
     "data": {
      "image/png": "[encoded data removed]",
      "text/plain": [
       "<Figure size 1610x230 with 9 Axes>"
      ]
     },
     "metadata": {},
     "output_type": "display_data"
    },
    {
     "data": {
      "image/png": "[encoded data removed]",
      "text/plain": [
       "<Figure size 1610x230 with 9 Axes>"
      ]
     },
     "metadata": {},
     "output_type": "display_data"
    }
   ],
   "source": [
    "i_component_sorted = 0\n",
    "i_component_pd_ica = i_components_sorted[i_component_sorted]\n",
    "print(p_values.iloc[[i_component_pd_ica]])\n",
    "\n",
    "cut_coords = [-28, -10, 4, 16, 32, 54, 68]\n",
    "fig_ica_rep = plot_IC(fpath_ICs, i_component=i_component_pd_ica, cut_coords=cut_coords, title='reproduction')\n",
    "fig_ica_ori = plot_IC(\"melodic_IC_0007.nii.gz\", cut_coords=cut_coords, title='original')"
   ]
  },
  {
   "attachments": {},
   "cell_type": "markdown",
   "id": "7872680a",
   "metadata": {},
   "source": [
    "## PD progression classification"
   ]
  },
  {
   "cell_type": "markdown",
   "id": "632ab5af",
   "metadata": {},
   "source": [
    "### Global composite outcome (GCO) measure"
   ]
  },
  {
   "cell_type": "markdown",
   "id": "bf30eec6",
   "metadata": {},
   "source": [
    "The global composite outcome is the average of the z-scores of the other measures. Following the original paper, we use the mean and standard deviation of the baseline session to compute the z-scores. "
   ]
  },
  {
   "cell_type": "code",
   "execution_count": 45,
   "id": "bd5603cc",
   "metadata": {},
   "outputs": [
    {
     "name": "stdout",
     "output_type": "stream",
     "text": [
      "Inital:\t\t(462, 12)\n",
      "Have DBM:\t(454, 12)\n",
      "0.08161557654009305\n",
      "0.5121604664696806\n"
     ]
    }
   ],
   "source": [
    "# only include patients with DBM\n",
    "df_assessments_classification = df_assessments_with_followup.set_index(COL_PAT_ID)\n",
    "print(f'Inital:\\t\\t{df_assessments_classification.shape}')\n",
    "\n",
    "df_assessments_classification = df_assessments_classification.loc[\n",
    "    df_assessments_classification.index.isin(df_scores.index)\n",
    "]\n",
    "print(f'Have DBM:\\t{df_assessments_classification.shape}')\n",
    "\n",
    "assert df_assessments_classification.reset_index().drop_duplicates(COL_PAT_ID).shape[0] == (df_assessments_classification.shape[0] // 2)\n",
    "\n",
    "df_assessments_classification_baseline = df_assessments_classification.loc[\n",
    "    ~df_assessments_classification[COL_FOLLOWUP], \n",
    "    COLS_SCORES_WITHOUT_GCO,\n",
    "]\n",
    "gco_means = df_assessments_classification_baseline.mean()\n",
    "gco_stds = df_assessments_classification_baseline.std()\n",
    "gco = ((df_assessments_classification[COLS_SCORES_WITHOUT_GCO] - gco_means) / gco_stds).mean(\n",
    "    axis=\"columns\"\n",
    ")\n",
    "df_assessments_classification[COL_GCO] = gco\n",
    "\n",
    "print(df_assessments_classification[COL_GCO].mean())\n",
    "print(df_assessments_classification[COL_GCO].std())\n",
    "\n",
    "# df_assessments_classification"
   ]
  },
  {
   "cell_type": "code",
   "execution_count": 46,
   "id": "0d853e6c",
   "metadata": {},
   "outputs": [
    {
     "name": "stdout",
     "output_type": "stream",
     "text": [
      "Baseline: (227,)\n",
      "Followup: (227,)\n",
      "Baseline SD: 0.43038180139919296\n",
      "Age: (227,)\n",
      "--------------------\n",
      "Increase by >= 0.5 SD:\n",
      "False    128\n",
      "True      99\n",
      "Name: GCO, dtype: int64\n"
     ]
    }
   ],
   "source": [
    "threshold = 0.5\n",
    "\n",
    "# target variable is whether GCO increased by > 1.5SD from baseline\n",
    "age_baseline = df_assessments_classification.loc[~df_assessments_classification[COL_FOLLOWUP], COL_AGE]\n",
    "gco_baseline = df_assessments_classification.loc[~df_assessments_classification[COL_FOLLOWUP], COL_GCO]\n",
    "gco_followup = df_assessments_classification.loc[df_assessments_classification[COL_FOLLOWUP], COL_GCO]\n",
    "\n",
    "# only keep subjects with followup data\n",
    "gco_baseline = gco_baseline.loc[gco_followup.index]\n",
    "print(f'Baseline: {gco_baseline.shape}')\n",
    "print(f'Followup: {gco_followup.shape}')\n",
    "gco_baseline_std = gco_baseline.std()\n",
    "print(f'Baseline SD: {gco_baseline_std}')\n",
    "\n",
    "age_baseline = age_baseline.loc[gco_baseline.index]\n",
    "print(f'Age: {age_baseline.shape}')\n",
    "\n",
    "gco_thresholds = gco_baseline + threshold*gco_baseline_std\n",
    "\n",
    "gco_increase_binary = (gco_followup >= gco_thresholds)\n",
    "print('-'*20)\n",
    "print(f'Increase by >= {threshold} SD:')\n",
    "print(gco_increase_binary.value_counts(dropna=False))\n"
   ]
  },
  {
   "cell_type": "code",
   "execution_count": 47,
   "id": "8fc8aecd",
   "metadata": {},
   "outputs": [
    {
     "data": {
      "text/plain": [
       "<Axes: >"
      ]
     },
     "execution_count": 47,
     "metadata": {},
     "output_type": "execute_result"
    },
    {
     "data": {
      "image/png": "[encoded data removed]",
      "text/plain": [
       "<Figure size 640x480 with 1 Axes>"
      ]
     },
     "metadata": {},
     "output_type": "display_data"
    }
   ],
   "source": [
    "gco_diff = (gco_followup - gco_baseline)\n",
    "((gco_diff - gco_diff.mean())/gco_diff.std()).hist()"
   ]
  },
  {
   "cell_type": "code",
   "execution_count": 56,
   "id": "2a181e13",
   "metadata": {},
   "outputs": [
    {
     "name": "stdout",
     "output_type": "stream",
     "text": [
      "AUC for IC9 (PD-ICA): 0.5403251262626263\n",
      "Permutation test p-value: 0.023\n"
     ]
    }
   ],
   "source": [
    "from sklearn.model_selection import cross_val_predict, StratifiedKFold\n",
    "from sklearn.linear_model import LogisticRegression, LinearRegression\n",
    "from sklearn.metrics import roc_auc_score\n",
    "\n",
    "n_folds = 10\n",
    "# cv = n_folds\n",
    "cv = StratifiedKFold(n_folds)\n",
    "n_permutations = 1000\n",
    "\n",
    "def get_auc(X, y, cv, permute=False):\n",
    "\n",
    "    if permute:\n",
    "        y = np.random.permutation(y) # TODO use Generator\n",
    "\n",
    "    y_pred = cross_val_predict(LogisticRegression(), X, y, cv=cv)\n",
    "    auc = roc_auc_score(y, y_pred)\n",
    "    return auc\n",
    "\n",
    "component_pd_ica = df_scores.columns[i_component_pd_ica]\n",
    "\n",
    "# keep subjects that didn't fail ICA\n",
    "subjects_keep = sorted(list(set(gco_increase_binary.index)))\n",
    "\n",
    "y = gco_increase_binary\n",
    "# X = pd.concat([df_scores.loc[y.index].iloc[:, i_component], age_baseline], axis='columns')\n",
    "X = df_scores.loc[y.index].loc[:, [component_pd_ica]]\n",
    "\n",
    "# regress out age\n",
    "X_explained_by_age = LinearRegression().fit(X, age_baseline).predict(X).reshape(-1, 1)\n",
    "X -= X_explained_by_age\n",
    "\n",
    "# print(f'X: {X.shape}')\n",
    "# print(f'y: {y.shape}')\n",
    "\n",
    "auc = get_auc(X, y, cv)\n",
    "\n",
    "print(f'AUC for {component_pd_ica} (PD-ICA): {auc}')\n",
    "\n",
    "aucs_null = np.array([get_auc(X, y, cv, permute=True) for _ in range(n_permutations)])\n",
    "\n",
    "auc_p_value = (aucs_null >= auc).mean()\n",
    "\n",
    "print(f'Permutation test p-value: {auc_p_value}')"
   ]
  },
  {
   "attachments": {},
   "cell_type": "markdown",
   "id": "6559715e",
   "metadata": {},
   "source": [
    "# OLD"
   ]
  },
  {
   "attachments": {},
   "cell_type": "markdown",
   "id": "3b5b417a",
   "metadata": {},
   "source": [
    "## Download DBM/ICA results from BIC server\n",
    "\n",
    "Given the large number of subjects in our cohorts, it would be too computationally expensive to compute DBM maps from the notebook. Instead, we will use pre-computed results available from the BIC (the Montreal Neurological Institute's Brain Imaging Center) server.\n",
    "\n",
    "The code for preprocessing the T1 images and computing the DBM maps is available in the `dbm_ica` directory of this repository. We attempted to follow the original paper's methods as closely possible, though software names and exact versions were not always specified. We implemented the DBM workflow using the MINC toolkit. For the ICA, we used FSL MELODIC to obtain z-statistic maps for each ICA component, as described in the original paper. The complete MRI processing workflow is summarized in the following diagrams:\n",
    "\n",
    "| DBM pipeline                                        | ICA pipeline                                       |\n",
    "| :-------------------------------------------------: | :------------------------------------------------: |\n",
    "| <img src=\"images/dbm_minc_pipeline.svg\" width=500/> | <img src=\"images/ica_fsl_pipeline.svg\" width=400/> |\n",
    "\n",
    "We used a Singularity container with the MINC toolkit `1.19.16`, FSL `5.0.11` (for the ICA), and some Python packages. The recipe file for this container is available in the `dbm_ica` directory.\n",
    "\n",
    "**Prerequisites for getting the DBM/ICA results**\n",
    "1. A BIC account\n",
    "2. Set up SSH key authentication. There are plenty on online tutorials on how to do this, for example [here](https://www.digitalocean.com/community/tutorials/how-to-configure-ssh-key-based-authentication-on-a-linux-server).\n",
    "    1. To login from your local machine (on which this notebook is running) to `login.bic.mni.mcgill.ca`\n",
    "        - **Note**: If you decide to use a passphrase, make sure to use `ssh-add` to avoid being prompted for it when running the notebook. See [here](https://www.ssh.com/academy/ssh/agent#:~:text=The%20ssh%2Dagent%20is%20a,sign%2Don%20(SSO).) for instructions.\n",
    "    2. To login from `login.bic.mni.mcgill.ca` to `ducky.bic-node.mni.mcgill.ca`\n",
    "        - This is because we need `singularity`, which isn't available from `login.bic.mni.mcgill.ca`\n",
    "        - ***IMPORTANT***: Do not use a passphrase here\n",
    "3. Clone this repository on the BIC server in your home directory:\n",
    "    ```\n",
    "    >> cd ~\n",
    "    >> git clone https://github.com/LivingPark-MRI/zeighami-etal-2019.git\n",
    "    ```"
   ]
  },
  {
   "cell_type": "code",
   "execution_count": 11,
   "id": "48313115",
   "metadata": {},
   "outputs": [],
   "source": [
    "# from pathlib import Path\n",
    "# import re\n",
    "# import subprocess\n",
    "\n",
    "\n",
    "# def run_singularity_on_bic(\n",
    "#     args: str,\n",
    "#     fpath_container,\n",
    "#     username,\n",
    "#     dpaths_mount=None,\n",
    "#     host=\"login.bic.mni.mcgill.ca\",\n",
    "# ):\n",
    "\n",
    "#     if dpaths_mount is None:\n",
    "#         dpaths_mount = []\n",
    "\n",
    "#     components = [f\"ssh {username}@{host} ssh ducky nice -n 10 singularity run\"]\n",
    "\n",
    "#     for dpath_mount in dpaths_mount:\n",
    "#         components.append(f\"--bind {dpath_mount}:{dpath_mount}\")\n",
    "\n",
    "#     components.append(fpath_container)\n",
    "#     components.append(args)\n",
    "\n",
    "#     components = [str(component) for component in components if component != \"\"]\n",
    "#     # print(' '.join(components))\n",
    "#     components = (\" \".join(components)).split()  # split on whitespace\n",
    "\n",
    "#     # ssh to BIC and run command\n",
    "#     return subprocess.run(components, capture_output=True)\n",
    "\n",
    "\n",
    "# # TODO store username in file\n",
    "# def check_result_availability(\n",
    "#     cohort_id,\n",
    "#     cohort_file,\n",
    "#     dpath_repo,\n",
    "#     dpath_outputs=\"outputs\",\n",
    "#     fpath_container_rel=\"dbm_ica/nd-minc_1_9_16-fsl_5_0_11-click_livingpark_pandas_pybids.sif\",\n",
    "#     dpath_bids=None,\n",
    "#     dpath_out_dbm=None,\n",
    "#     username=None,\n",
    "#     host=\"login.bic.mni.mcgill.ca\",\n",
    "#     varname_dpath_ica=\"DPATH_ICA_RESULTS\",\n",
    "#     varname_cohort_id=\"FINAL_COHORT_ID\",\n",
    "#     varname_fpath_proc_status=\"FPATH_PROC_STATUS_COHORT\",\n",
    "#     varname_fpath_dbm_list=\"FPATH_DBM_LIST_COHORT\",\n",
    "# ):\n",
    "#     def run_scp(source, dest, from_remote=False):\n",
    "#         if from_remote:\n",
    "#             source = f\"{username}@{host}:{source}\"\n",
    "#         else:\n",
    "#             dest = f\"{username}@{host}:{dest}\"\n",
    "#         args = [\n",
    "#             \"scp\",\n",
    "#             \"-r\",\n",
    "#             source,\n",
    "#             dest,\n",
    "#         ]\n",
    "#         subprocess.run(args)\n",
    "\n",
    "#     def get_var(name, output, sep=\"=\", end=\"\\n\"):\n",
    "#         match = re.search(f\"{name}{sep}(.*){end}\", output)\n",
    "#         if not match or len(match.groups()) != 1:\n",
    "#             raise RuntimeError(f\"Did not find name in command output\")\n",
    "#         return match.groups()[0]\n",
    "\n",
    "#     # TODO first check if results are already available locally\n",
    "#     # NOTE: cohort IDs might be different, in that case we will have to run things on the BIC server\n",
    "\n",
    "#     if username is None:\n",
    "#         username = input(\"Please enter your BIC username: \")\n",
    "\n",
    "#     dpaths_mount = [\n",
    "#         dpath for dpath in [dpath_repo, dpath_bids, dpath_out_dbm] if dpath is not None\n",
    "#     ]\n",
    "\n",
    "#     dpath_repo = Path(dpath_repo)\n",
    "#     fpath_container = dpath_repo / fpath_container_rel\n",
    "#     fpath_script = dpath_repo / \"dbm_ica\" / \"check_results_availability.sh\"\n",
    "\n",
    "#     # copy cohort file to BIC\n",
    "#     run_scp(cohort_file, dpath_repo, from_remote=False)\n",
    "\n",
    "#     completed = run_singularity_on_bic(\n",
    "#         args=f\"{fpath_script} {cohort_id}\",\n",
    "#         fpath_container=fpath_container,\n",
    "#         dpaths_mount=dpaths_mount,\n",
    "#         username=username,\n",
    "#         host=host,\n",
    "#     )\n",
    "#     output = completed.stdout.decode(\"utf-8\")\n",
    "#     print(output)\n",
    "\n",
    "#     if completed.returncode != 0:\n",
    "#         error = completed.stderr.decode(\"utf-8\")\n",
    "#         print(f\"STDERR:\\n{error}\")\n",
    "#         raise RuntimeError(\n",
    "#             f\"Error running script on BIC (returned {completed.returncode})\"\n",
    "#         )\n",
    "\n",
    "#     # parse output\n",
    "#     dpath_results_remote = get_var(varname_dpath_ica, output)\n",
    "#     final_cohort_id = get_var(varname_cohort_id, output)\n",
    "#     fpath_proc_status_remote = get_var(varname_fpath_proc_status, output)\n",
    "#     fpath_dbm_list_remote = get_var(varname_fpath_dbm_list, output)\n",
    "\n",
    "#     # copy ICA results from BIC\n",
    "#     dpath_results_local = Path(dpath_outputs) / Path(dpath_results_remote).name\n",
    "#     fpath_proc_status_local = (\n",
    "#         Path(dpath_results_local) / Path(fpath_proc_status_remote).name\n",
    "#     )\n",
    "#     fpath_dbm_list_local = Path(dpath_results_local) / Path(fpath_dbm_list_remote).name\n",
    "\n",
    "#     if fpath_dbm_list_local.exists():\n",
    "#         print(\"ICA results have already been downloaded, skipping scp\")\n",
    "#     else:\n",
    "#         run_scp(dpath_results_remote, dpath_results_local, from_remote=True)\n",
    "\n",
    "#     return (\n",
    "#         final_cohort_id,\n",
    "#         dpath_results_local,\n",
    "#         fpath_proc_status_local,\n",
    "#         fpath_dbm_list_local,\n",
    "#     )"
   ]
  },
  {
   "attachments": {},
   "cell_type": "markdown",
   "id": "cc42d18e",
   "metadata": {},
   "source": [
    "We download ICA results for the main cohort. If the DBM maps are available but the ICA results are not, this will compute the ICA (which could take a few hours), and it might be necessary to rerun this cell once the ICA is done."
   ]
  },
  {
   "cell_type": "code",
   "execution_count": 12,
   "id": "c6df4ea3",
   "metadata": {},
   "outputs": [],
   "source": [
    "# _, dpath_outputs, _, _ = check_result_availability(\n",
    "#     cohort_id=cohort_ids[MAIN_COHORT],\n",
    "#     cohort_file=f\"zeighami-etal-2019-cohort-{cohort_ids[MAIN_COHORT]}.csv\",\n",
    "#     dpath_repo=\"/data/origami/livingpark/zeighami-etal-2019/\",\n",
    "# )"
   ]
  },
  {
   "attachments": {},
   "cell_type": "markdown",
   "id": "16debd4d",
   "metadata": {},
   "source": [
    "We load the scores (average DBM value for each ICA component for each subject) and split them into a PD group and a healthy control group:"
   ]
  },
  {
   "cell_type": "code",
   "execution_count": 13,
   "id": "cd1d34cf",
   "metadata": {},
   "outputs": [],
   "source": [
    "# df_scores = pd.read_csv(dpath_outputs / \"scores.csv\", index_col=0)\n",
    "# df_scores.index = df_status.set_index(COL_PAT_ID).loc[\n",
    "#     df_scores.index.astype(np.int64), COL_STATUS\n",
    "# ]\n",
    "# df_scores.index.value_counts()"
   ]
  },
  {
   "attachments": {},
   "cell_type": "markdown",
   "id": "225ff003",
   "metadata": {},
   "source": [
    "As in the original study, we use t-tests to determine whether any component is significantly different between the two groups. We apply Bonferonni correction to the p-values to account for multiple comparisons."
   ]
  },
  {
   "cell_type": "code",
   "execution_count": 14,
   "id": "1face337",
   "metadata": {},
   "outputs": [],
   "source": [
    "# from scipy.stats import ttest_ind\n",
    "\n",
    "# correct = True\n",
    "# p_values_data = {}\n",
    "\n",
    "# for component in df_scores.columns:\n",
    "#     t_stat, p = ttest_ind(\n",
    "#         df_scores.loc[STATUS_PD, component],\n",
    "#         df_scores.loc[STATUS_HC, component],\n",
    "#     )\n",
    "#     p_values_data[component] = p\n",
    "\n",
    "# p_values = pd.Series(p_values_data)\n",
    "\n",
    "# if correct:\n",
    "#     p_values = p_values * len(p_values)  # Bonferroni correction\n",
    "\n",
    "# i_components_sorted = np.argsort(list(p_values))\n",
    "# i_component_top = i_components_sorted[0]\n",
    "\n",
    "# p_values.sort_values()"
   ]
  },
  {
   "attachments": {},
   "cell_type": "markdown",
   "id": "3d9bbf95",
   "metadata": {},
   "source": [
    "We plot the DBM score distributions for each IC:"
   ]
  },
  {
   "cell_type": "code",
   "execution_count": 15,
   "id": "5126563e",
   "metadata": {},
   "outputs": [],
   "source": [
    "# import seaborn as sns\n",
    "\n",
    "# x_label = \"IC\"\n",
    "# y_label = \"Mean DBM value\"\n",
    "\n",
    "# df_scores_to_plot = pd.melt(\n",
    "#     df_scores.reset_index(),\n",
    "#     id_vars=[COL_STATUS],\n",
    "#     var_name=x_label,\n",
    "#     value_name=y_label,\n",
    "# )\n",
    "\n",
    "# ax = sns.stripplot(\n",
    "#     df_scores_to_plot,\n",
    "#     x=x_label,\n",
    "#     y=y_label,\n",
    "#     hue=COL_STATUS,\n",
    "#     order=p_values.sort_values().index,\n",
    "#     alpha=0.4,\n",
    "# )\n",
    "# ax.tick_params(axis=\"x\", rotation=90)"
   ]
  },
  {
   "attachments": {},
   "cell_type": "markdown",
   "id": "3259b541",
   "metadata": {},
   "source": [
    "None of the corrected p-values reach significance: our lowest p-value is 3.37 compared to 0.003 in the original paper. This means that our replication has failed at this stage, since we are unable to obtain the PD-ICA component presented in the original paper. \n",
    "\n",
    "Our top ICA component looks like this:"
   ]
  },
  {
   "cell_type": "code",
   "execution_count": 16,
   "id": "127c93f9",
   "metadata": {},
   "outputs": [],
   "source": [
    "import nibabel as nib\n",
    "from nilearn import image, plotting\n",
    "\n",
    "\n",
    "def plot_IC(fpath, i_component=None, threshold=3, display_mode=\"z\"):\n",
    "    img = nib.load(fpath)\n",
    "    if i_component is not None:\n",
    "        img = image.index_img(img, i_component)\n",
    "    display = plotting.plot_stat_map(\n",
    "        img, threshold=threshold, display_mode=display_mode\n",
    "    )\n",
    "    return display"
   ]
  },
  {
   "cell_type": "code",
   "execution_count": 17,
   "id": "7a5f18fb",
   "metadata": {},
   "outputs": [],
   "source": [
    "# fig_IC = plot_IC(\n",
    "#     dpath_outputs / \"melodic_results\" / \"melodic_IC.nii.gz\",\n",
    "#     i_component=i_components_sorted[0],\n",
    "# )"
   ]
  },
  {
   "attachments": {},
   "cell_type": "markdown",
   "id": "360efdfa",
   "metadata": {},
   "source": [
    "We compare our top ICA component with the PD-ICA component from the original paper (available [here](https://identifiers.org/neurovault.image:12551)):"
   ]
  },
  {
   "cell_type": "code",
   "execution_count": 18,
   "id": "2d013717",
   "metadata": {},
   "outputs": [
    {
     "name": "stdout",
     "output_type": "stream",
     "text": [
      "ICA file already exists, skipping download\n"
     ]
    }
   ],
   "source": [
    "%%bash\n",
    "FNAME_PD_ICA=\"melodic_IC_0007.nii.gz\"\n",
    "if [ ! -f ${FNAME_PD_ICA} ]\n",
    "then\n",
    "    wget \"https://neurovault.org/media/images/860/${FNAME_PD_ICA}\"\n",
    "else\n",
    "    echo 'ICA file already exists, skipping download'\n",
    "fi"
   ]
  },
  {
   "cell_type": "code",
   "execution_count": 19,
   "id": "18c445f6",
   "metadata": {},
   "outputs": [
    {
     "data": {
      "image/png": "[encoded data removed]",
      "text/plain": [
       "<Figure size 1610x230 with 9 Axes>"
      ]
     },
     "metadata": {},
     "output_type": "display_data"
    }
   ],
   "source": [
    "fig_IC_orig = plot_IC(\"melodic_IC_0007.nii.gz\")"
   ]
  },
  {
   "attachments": {},
   "cell_type": "markdown",
   "id": "26e2251e",
   "metadata": {},
   "source": [
    "Our most significant component does not match the PD-ICA component described in the original study: we obtain regions mostly in the frontal lobe, while the original ICA component mainly includes subcortical regions. Moreover, our clusters tend to be bigger than those in the PD-ICA component, suggesting that there could be inconsistencies in spatial smoothing procedures between our pipeline and the one used in the original study. "
   ]
  }
 ],
 "metadata": {
  "kernelspec": {
   "display_name": "Python 3.10.6 ('livingpark')",
   "language": "python",
   "name": "python3"
  },
  "language_info": {
   "codemirror_mode": {
    "name": "ipython",
    "version": 3
   },
   "file_extension": ".py",
   "mimetype": "text/x-python",
   "name": "python",
   "nbconvert_exporter": "python",
   "pygments_lexer": "ipython3",
   "version": "3.10.9"
  },
  "vscode": {
   "interpreter": {
    "hash": "7c1dce6928164983c9394696a67460054b2345bd05d18f1e86972521ab8096b4"
   }
  }
 },
 "nbformat": 4,
 "nbformat_minor": 5
}
