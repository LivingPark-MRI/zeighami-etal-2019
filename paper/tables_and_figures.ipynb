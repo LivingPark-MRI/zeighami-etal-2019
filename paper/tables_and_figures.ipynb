{
 "cells": [
  {
   "attachments": {},
   "cell_type": "markdown",
   "metadata": {},
   "source": [
    "# Generate tables and figures for paper"
   ]
  },
  {
   "cell_type": "code",
   "execution_count": 1,
   "metadata": {},
   "outputs": [],
   "source": [
    "import pickle\n",
    "from pathlib import Path\n",
    "\n",
    "import nibabel as nib\n",
    "import pandas as pd\n",
    "\n",
    "from livingpark_utils.zeighamietal.constants import (\n",
    "    COL_AGE,\n",
    "    COL_PAT_ID, \n",
    "    COL_SEX,\n",
    "    COL_FOLLOWUP,\n",
    "    COL_STATUS, \n",
    "    COL_UPDRS2,\n",
    "    COL_UPDRS3,\n",
    "    COL_ADL,\n",
    "    COL_UPDRS1,\n",
    "    COL_MOCA,\n",
    "    COL_PIGD,\n",
    "    COL_GCO,\n",
    "    STATUS_HC,\n",
    "    STATUS_PD,\n",
    ")"
   ]
  },
  {
   "cell_type": "code",
   "execution_count": 48,
   "metadata": {},
   "outputs": [],
   "source": [
    "experiment_map = {\n",
    "    1: '4554467823934740347_nlr4_dbm8_from_nifti_old_pipeline_qc',\n",
    "    2: '4554467823934740347_nlr4_dbm8_from_nifti_old_pipeline_qc-30',\n",
    "    3: '_460520092359662532_from_nifti_old_pipeline_qc',\n",
    "    4: '_460520092359662532_from_nifti_old_pipeline_qc-30',\n",
    "    5: '_460520092359662532_old_pipeline_qc',\n",
    "    6: '_460520092359662532_old_pipeline_qc-30',\n",
    "    7: '_460520092359662532_from_nifti_qc',\n",
    "    8: '_460520092359662532_from_nifti_qc-30',\n",
    "    9: '_460520092359662532_qc',\n",
    "    10: '_460520092359662532_qc-30',\n",
    "    11: '6874312680158848047_qc-30',\n",
    "}"
   ]
  },
  {
   "attachments": {},
   "cell_type": "markdown",
   "metadata": {},
   "source": [
    "## Load results"
   ]
  },
  {
   "cell_type": "code",
   "execution_count": 76,
   "metadata": {},
   "outputs": [
    {
     "name": "stdout",
     "output_type": "stream",
     "text": [
      "ica_corr:\t0.7237659999014978\n"
     ]
    }
   ],
   "source": [
    "experiment = 11\n",
    "long_tag = experiment_map[experiment]\n",
    "\n",
    "dpath_outputs = Path(\"outputs\")\n",
    "fpath_results = dpath_outputs / f'results-{long_tag}.pkl'\n",
    "\n",
    "with fpath_results.open('rb') as file_results:\n",
    "    results = pickle.load(file_results)\n",
    "\n",
    "# print(f'auc:\\t\\t{results[\"auc\"]}')\n",
    "# print(f'auc_p_value:\\t{results[\"auc_p_value\"]}')\n",
    "print(f'ica_corr:\\t{results[\"ica_corr\"]}')\n",
    "\n",
    "# fill_width = max(len(key) for key in results.keys())\n",
    "# for key, value in results.items():\n",
    "#     if isinstance(value, nib.nifti1.Nifti1Image):\n",
    "#         value = f'<Nifti1Image{value.shape}>'\n",
    "#     elif isinstance(value, pd.DataFrame):\n",
    "#         value = f'<pd.DataFrame{value.shape}>'\n",
    "#     elif 'subjects' in key:\n",
    "#         value = f'<{len(value)} subjects>'\n",
    "#     print(f'{key.ljust(fill_width)}\\t\\t{value}')"
   ]
  },
  {
   "attachments": {},
   "cell_type": "markdown",
   "metadata": {},
   "source": [
    "## Pre-DBM demographics table (PD and HC)"
   ]
  },
  {
   "cell_type": "code",
   "execution_count": 43,
   "metadata": {},
   "outputs": [],
   "source": [
    "df_assessments = pd.read_csv(results['fpath_assessments'])\n",
    "# df_assessments.describe()"
   ]
  },
  {
   "cell_type": "code",
   "execution_count": 44,
   "metadata": {},
   "outputs": [],
   "source": [
    "# print(df_assessments[COL_FOLLOWUP].value_counts(dropna=False))\n",
    "# for is_followup in df_assessments[COL_FOLLOWUP].drop_duplicates():\n",
    "#     print(f'===== is_followup: {is_followup} =====')\n",
    "#     print(\n",
    "#         df_assessments.loc[\n",
    "#             df_assessments[COL_FOLLOWUP] == is_followup, \n",
    "#             COL_STATUS,\n",
    "#         ].value_counts(dropna=False)\n",
    "#     )"
   ]
  },
  {
   "cell_type": "code",
   "execution_count": 45,
   "metadata": {},
   "outputs": [
    {
     "name": "stdout",
     "output_type": "stream",
     "text": [
      "6874312680158848047_qc-30\n"
     ]
    },
    {
     "data": {
      "text/html": [
       "<div>\n",
       "<style scoped>\n",
       "    .dataframe tbody tr th:only-of-type {\n",
       "        vertical-align: middle;\n",
       "    }\n",
       "\n",
       "    .dataframe tbody tr th {\n",
       "        vertical-align: top;\n",
       "    }\n",
       "\n",
       "    .dataframe thead th {\n",
       "        text-align: right;\n",
       "    }\n",
       "</style>\n",
       "<table border=\"1\" class=\"dataframe\">\n",
       "  <thead>\n",
       "    <tr style=\"text-align: right;\">\n",
       "      <th>cohort</th>\n",
       "      <th>Healthy Control (n = 116)</th>\n",
       "      <th>Parkinson's Disease (n = 230)</th>\n",
       "    </tr>\n",
       "  </thead>\n",
       "  <tbody>\n",
       "    <tr>\n",
       "      <th>Age</th>\n",
       "      <td>59.7 (11.3)</td>\n",
       "      <td>61.3 (9.1)</td>\n",
       "    </tr>\n",
       "    <tr>\n",
       "      <th>Male (%)</th>\n",
       "      <td>66.4</td>\n",
       "      <td>63.9</td>\n",
       "    </tr>\n",
       "    <tr>\n",
       "      <th>MoCA</th>\n",
       "      <td>28.3 (1.2)</td>\n",
       "      <td>27.3 (2.2)</td>\n",
       "    </tr>\n",
       "  </tbody>\n",
       "</table>\n",
       "</div>"
      ],
      "text/plain": [
       "cohort   Healthy Control (n = 116) Parkinson's Disease (n = 230)\n",
       "Age                    59.7 (11.3)                    61.3 (9.1)\n",
       "Male (%)                      66.4                          63.9\n",
       "MoCA                    28.3 (1.2)                    27.3 (2.2)"
      ]
     },
     "execution_count": 45,
     "metadata": {},
     "output_type": "execute_result"
    }
   ],
   "source": [
    "def to_1_decimal_str(f):\n",
    "    return str(round(f, 1))\n",
    "\n",
    "col_male = \"is_male\"\n",
    "col_cohort = \"cohort\"\n",
    "col_age_diag = \"age_diag\"\n",
    "COL_FOLLOWUP = 'is_followup'\n",
    "\n",
    "# only use baseline \n",
    "df_assessments_baseline = df_assessments.loc[~df_assessments[COL_FOLLOWUP]]\n",
    "\n",
    "# append\n",
    "dfs_summary = []\n",
    "for status in [STATUS_PD, STATUS_HC]:\n",
    "    df_summary = df_assessments_baseline.loc[df_assessments_baseline[COL_STATUS] == status]\n",
    "    df_summary = df_summary.drop(columns=[COL_PAT_ID, COL_SEX])\n",
    "    df_summary[col_cohort] = f\"{status} (n = {len(df_summary)})\"\n",
    "    dfs_summary.append(df_summary)\n",
    "\n",
    "df_summary = pd.concat(dfs_summary)\n",
    "df_summary_means = (\n",
    "    df_summary.groupby([col_cohort]).mean(numeric_only=True).applymap(to_1_decimal_str)\n",
    ")\n",
    "df_summary_stds = (\n",
    "    df_summary.groupby([col_cohort]).std(numeric_only=True).applymap(to_1_decimal_str)\n",
    ")\n",
    "df_summary_stds = \" (\" + df_summary_stds + \")\"\n",
    "df_summary_stds.loc[:, col_male] = \"\"\n",
    "df_summary_combined = (df_summary_means + df_summary_stds).T\n",
    "df_summary_combined = df_summary_combined.applymap(lambda x: \"-\" if \"nan\" in x else x)\n",
    "df_summary_combined = df_summary_combined.loc[[COL_AGE, col_male, COL_MOCA]]\n",
    "df_summary_combined = df_summary_combined.rename(\n",
    "    index={\n",
    "        col_male: \"Male (%)\",\n",
    "        COL_MOCA: \"MoCA\",\n",
    "        COL_AGE: \"Age\",\n",
    "    }\n",
    ")\n",
    "\n",
    "print(long_tag)\n",
    "df_summary_combined"
   ]
  },
  {
   "attachments": {},
   "cell_type": "markdown",
   "metadata": {},
   "source": [
    "## Classification demographics table (PD only)"
   ]
  },
  {
   "cell_type": "code",
   "execution_count": 46,
   "metadata": {},
   "outputs": [
    {
     "data": {
      "text/plain": [
       "False    221\n",
       "True     221\n",
       "Name: is_followup, dtype: int64"
      ]
     },
     "execution_count": 46,
     "metadata": {},
     "output_type": "execute_result"
    }
   ],
   "source": [
    "results['df_assessments_classification'][COL_FOLLOWUP].value_counts(dropna=False)"
   ]
  },
  {
   "cell_type": "code",
   "execution_count": 47,
   "metadata": {},
   "outputs": [
    {
     "name": "stdout",
     "output_type": "stream",
     "text": [
      "Index(['PATNO', 'INFODT', 'EVENT_ID', 'NP2PTOT', 'NP3TOT', 'MSEADLG', 'PIGD',\n",
      "       'NP1RTOT+NP1PTOT', 'MCATOT', 'is_followup', 'AGE_AT_VISIT',\n",
      "       'COHORT_DEFINITION', 'SEX', 'BIRTHDT', 'PDDXDT', 'age_diag', 'is_male',\n",
      "       'GCO', 'cohort'],\n",
      "      dtype='object')\n"
     ]
    },
    {
     "name": "stderr",
     "output_type": "stream",
     "text": [
      "/tmp/ipykernel_56642/2356491572.py:28: SettingWithCopyWarning: \n",
      "A value is trying to be set on a copy of a slice from a DataFrame.\n",
      "Try using .loc[row_indexer,col_indexer] = value instead\n",
      "\n",
      "See the caveats in the documentation: https://pandas.pydata.org/pandas-docs/stable/user_guide/indexing.html#returning-a-view-versus-a-copy\n",
      "  df_summary[col_cohort] = f\"PD patients (n = {len(df_assessments_classification.drop_duplicates(COL_PAT_ID))})\"\n",
      "/tmp/ipykernel_56642/2356491572.py:28: SettingWithCopyWarning: \n",
      "A value is trying to be set on a copy of a slice from a DataFrame.\n",
      "Try using .loc[row_indexer,col_indexer] = value instead\n",
      "\n",
      "See the caveats in the documentation: https://pandas.pydata.org/pandas-docs/stable/user_guide/indexing.html#returning-a-view-versus-a-copy\n",
      "  df_summary[col_cohort] = f\"PD patients (n = {len(df_assessments_classification.drop_duplicates(COL_PAT_ID))})\"\n",
      "/tmp/ipykernel_56642/2356491572.py:35: FutureWarning: The default value of numeric_only in DataFrameGroupBy.mean is deprecated. In a future version, numeric_only will default to False. Either specify numeric_only or select only columns which should be valid for the function.\n",
      "  df_summary.groupby([col_cohort, COL_FOLLOWUP]).mean().applymap(to_1_decimal_str)\n",
      "/tmp/ipykernel_56642/2356491572.py:38: FutureWarning: The default value of numeric_only in DataFrameGroupBy.std is deprecated. In a future version, numeric_only will default to False. Either specify numeric_only or select only columns which should be valid for the function.\n",
      "  df_summary.groupby([col_cohort, COL_FOLLOWUP]).std().applymap(to_1_decimal_str)\n"
     ]
    },
    {
     "data": {
      "text/html": [
       "<div>\n",
       "<style scoped>\n",
       "    .dataframe tbody tr th:only-of-type {\n",
       "        vertical-align: middle;\n",
       "    }\n",
       "\n",
       "    .dataframe tbody tr th {\n",
       "        vertical-align: top;\n",
       "    }\n",
       "\n",
       "    .dataframe thead tr th {\n",
       "        text-align: left;\n",
       "    }\n",
       "</style>\n",
       "<table border=\"1\" class=\"dataframe\">\n",
       "  <thead>\n",
       "    <tr>\n",
       "      <th>cohort</th>\n",
       "      <th colspan=\"2\" halign=\"left\">PD patients (n = 221)</th>\n",
       "    </tr>\n",
       "    <tr>\n",
       "      <th>is_followup</th>\n",
       "      <th>False</th>\n",
       "      <th>True</th>\n",
       "    </tr>\n",
       "  </thead>\n",
       "  <tbody>\n",
       "    <tr>\n",
       "      <th>Age at diagnosis</th>\n",
       "      <td>60.7 (9.1)</td>\n",
       "      <td>60.7 (9.1)</td>\n",
       "    </tr>\n",
       "    <tr>\n",
       "      <th>Male (%)</th>\n",
       "      <td>64.3</td>\n",
       "      <td>64.3</td>\n",
       "    </tr>\n",
       "    <tr>\n",
       "      <th>UPDRS Part II</th>\n",
       "      <td>5.7 (3.9)</td>\n",
       "      <td>10.8 (7.4)</td>\n",
       "    </tr>\n",
       "    <tr>\n",
       "      <th>UPDRS Part III</th>\n",
       "      <td>21.8 (9.1)</td>\n",
       "      <td>23.1 (12.0)</td>\n",
       "    </tr>\n",
       "    <tr>\n",
       "      <th>S&amp;E ADL</th>\n",
       "      <td>93.6 (5.7)</td>\n",
       "      <td>86.1 (11.9)</td>\n",
       "    </tr>\n",
       "    <tr>\n",
       "      <th>UPDRS Part I</th>\n",
       "      <td>5.4 (3.8)</td>\n",
       "      <td>9.5 (6.3)</td>\n",
       "    </tr>\n",
       "    <tr>\n",
       "      <th>MoCA</th>\n",
       "      <td>27.3 (2.2)</td>\n",
       "      <td>26.5 (3.3)</td>\n",
       "    </tr>\n",
       "    <tr>\n",
       "      <th>Global composite outcome</th>\n",
       "      <td>-0.0 (0.4)</td>\n",
       "      <td>0.2 (0.6)</td>\n",
       "    </tr>\n",
       "  </tbody>\n",
       "</table>\n",
       "</div>"
      ],
      "text/plain": [
       "cohort                   PD patients (n = 221)             \n",
       "is_followup                              False        True \n",
       "Age at diagnosis                    60.7 (9.1)   60.7 (9.1)\n",
       "Male (%)                                  64.3         64.3\n",
       "UPDRS Part II                        5.7 (3.9)   10.8 (7.4)\n",
       "UPDRS Part III                      21.8 (9.1)  23.1 (12.0)\n",
       "S&E ADL                             93.6 (5.7)  86.1 (11.9)\n",
       "UPDRS Part I                         5.4 (3.8)    9.5 (6.3)\n",
       "MoCA                                27.3 (2.2)   26.5 (3.3)\n",
       "Global composite outcome            -0.0 (0.4)    0.2 (0.6)"
      ]
     },
     "execution_count": 47,
     "metadata": {},
     "output_type": "execute_result"
    }
   ],
   "source": [
    "def to_1_decimal_str(f):\n",
    "    return str(round(f, 1))\n",
    "\n",
    "\n",
    "# only report subjects used in the classification\n",
    "# subjects = df_assessments_with_followup.loc[\n",
    "#     (\n",
    "#         df_assessments_with_followup[COL_FOLLOWUP], \n",
    "#     COL_PAT_ID\n",
    "# ].drop_duplicates()\n",
    "\n",
    "# the paper only report measures for the PD patients\n",
    "# subjects_pd = df_status.loc[\n",
    "#     (df_status[COL_PAT_ID].isin(subjects)) & (df_status[COL_STATUS] == STATUS_PD),\n",
    "#     COL_PAT_ID,\n",
    "# ]\n",
    "\n",
    "# filter\n",
    "# df_summary = df_assessments_with_followup.loc[\n",
    "#     df_assessments_with_followup[COL_PAT_ID].isin(subjects_pd),\n",
    "# ]\n",
    "\n",
    "# append\n",
    "dfs_summary = []\n",
    "df_assessments_classification: pd.DataFrame = results['df_assessments_classification']\n",
    "for is_followup in df_assessments_classification[COL_FOLLOWUP].drop_duplicates():\n",
    "    df_summary = df_assessments_classification.loc[df_assessments_classification[COL_FOLLOWUP] == is_followup]\n",
    "    df_summary[col_cohort] = f\"PD patients (n = {len(df_assessments_classification.drop_duplicates(COL_PAT_ID))})\"\n",
    "    dfs_summary.append(df_summary)\n",
    "\n",
    "df_summary = pd.concat(dfs_summary)\n",
    "print(df_summary.columns)\n",
    "df_summary = df_summary.drop(columns=[COL_PAT_ID, COL_AGE, COL_PIGD, 'INFODT', 'EVENT_ID', 'COHORT_DEFINITION'])\n",
    "df_summary_means = (\n",
    "    df_summary.groupby([col_cohort, COL_FOLLOWUP]).mean().applymap(to_1_decimal_str)\n",
    ")\n",
    "df_summary_stds = (\n",
    "    df_summary.groupby([col_cohort, COL_FOLLOWUP]).std().applymap(to_1_decimal_str)\n",
    ")\n",
    "df_summary_stds = \" (\" + df_summary_stds + \")\"\n",
    "df_summary_stds.loc[:, col_male] = \"\"\n",
    "df_summary_combined = (df_summary_means + df_summary_stds).T\n",
    "df_summary_combined = df_summary_combined.loc[\n",
    "    [col_age_diag, col_male, COL_UPDRS2, COL_UPDRS3, COL_ADL, COL_UPDRS1, COL_MOCA, COL_GCO]\n",
    "]\n",
    "# df_summary_combined = df_summary_combined.applymap(lambda x: \"-\" if \"nan\" in x else x)\n",
    "df_summary_combined = df_summary_combined.rename(\n",
    "    index={\n",
    "        col_age_diag: \"Age at diagnosis\",\n",
    "        col_male: \"Male (%)\",\n",
    "        COL_UPDRS2: \"UPDRS Part II\",\n",
    "        COL_UPDRS3: \"UPDRS Part III\",\n",
    "        COL_ADL: \"S&E ADL\",\n",
    "        # COL_PIGD: \"PIGD\",\n",
    "        COL_UPDRS1: \"UPDRS Part I\",\n",
    "        COL_MOCA: \"MoCA\",\n",
    "        COL_GCO: \"Global composite outcome\",\n",
    "    }\n",
    ")\n",
    "df_summary_combined"
   ]
  }
 ],
 "metadata": {
  "kernelspec": {
   "display_name": "livingpark",
   "language": "python",
   "name": "python3"
  },
  "language_info": {
   "codemirror_mode": {
    "name": "ipython",
    "version": 3
   },
   "file_extension": ".py",
   "mimetype": "text/x-python",
   "name": "python",
   "nbconvert_exporter": "python",
   "pygments_lexer": "ipython3",
   "version": "3.10.9"
  },
  "orig_nbformat": 4
 },
 "nbformat": 4,
 "nbformat_minor": 2
}
